{
 "cells": [
  {
   "cell_type": "code",
   "execution_count": null,
   "metadata": {},
   "outputs": [],
   "source": [
    "import pandas as pd\n",
    "import numpy as np\n",
    "from datetime import date\n",
    "import csv \n",
    "import requests\n",
    "import glob\n",
    "from pandas import DataFrame\n",
    "from pandas import concat\n",
    "from matplotlib import pyplot\n",
    "\n",
    "if 'google.colab' in str(get_ipython()):\n",
    "  !wget https://raw.githubusercontent.com/marco-mazzoli/progetto-tesi/master/util.py\n",
    "\n",
    "from util import select_relevant_rows, select_attributes, read_movement_data, read_multiple_csv,download_updated_mobility_data"
   ]
  },
  {
   "cell_type": "code",
   "execution_count": null,
   "metadata": {},
   "outputs": [],
   "source": [
    "local_region_path = r'../COVID-19/dati-regioni/dpc-covid19-ita-regioni.csv'\n",
    "remote_region_path = r'https://raw.githubusercontent.com/pcm-dpc/COVID-19/master/dati-regioni/dpc-covid19-ita-regioni.csv'\n",
    "\n",
    "regions_frame = pd.read_csv(remote_region_path)"
   ]
  },
  {
   "cell_type": "code",
   "execution_count": null,
   "metadata": {},
   "outputs": [],
   "source": [
    "region_focus = 'Emilia-Romagna'\n",
    "attribute_focus = 'denominazione_regione'\n",
    "\n",
    "region_focus_data = select_relevant_rows(\n",
    "    regions_frame,\n",
    "    attribute_focus,\n",
    "    region_focus\n",
    "    )"
   ]
  },
  {
   "cell_type": "code",
   "execution_count": null,
   "metadata": {},
   "outputs": [],
   "source": [
    "list(region_focus_data)"
   ]
  },
  {
   "cell_type": "code",
   "execution_count": null,
   "metadata": {},
   "outputs": [],
   "source": [
    "frame_interesting_columns = select_attributes(region_focus_data, [\n",
    "    'data',\n",
    "    'ricoverati_con_sintomi',\n",
    "    'terapia_intensiva',\n",
    "    'totale_ospedalizzati',\n",
    "    'variazione_totale_positivi',\n",
    "    'nuovi_positivi','deceduti',\n",
    "    'tamponi',\n",
    "    'ingressi_terapia_intensiva'\n",
    "    ])"
   ]
  },
  {
   "cell_type": "code",
   "execution_count": null,
   "metadata": {},
   "outputs": [],
   "source": [
    "frame_interesting_columns.head()"
   ]
  },
  {
   "cell_type": "code",
   "execution_count": null,
   "metadata": {},
   "outputs": [],
   "source": [
    "frame_interesting_columns = pd.DataFrame(frame_interesting_columns)\n",
    "frame_interesting_columns['data'] = pd.to_datetime(frame_interesting_columns['data'])\n",
    "frame_interesting_columns['data'] = frame_interesting_columns['data'].dt.strftime(r'%Y-%m-%d')\n"
   ]
  },
  {
   "cell_type": "code",
   "execution_count": null,
   "metadata": {},
   "outputs": [],
   "source": [
    "# 'tamponi' is cumulative, revert to incidence\n",
    "columns_to_normalize = ['deceduti', 'tamponi']\n",
    "\n",
    "for column in columns_to_normalize:\n",
    "    frame_interesting_columns[column] = frame_interesting_columns[column].transform(\n",
    "        lambda s: s.sub(s.shift().fillna(0)).abs()\n",
    "        )\n"
   ]
  },
  {
   "cell_type": "code",
   "execution_count": null,
   "metadata": {},
   "outputs": [],
   "source": [
    "import requests\n",
    "import os.path, time\n",
    "from datetime import date\n",
    "from util import download_updated_mobility_data\n",
    "\n",
    "mobility_data_url = r'https://www.gstatic.com/covid19/mobility/Global_Mobility_Report.csv'\n",
    "file_path = r'../Global_Mobility_Report.csv'\n",
    "mobility_data_zip_url = r'https://www.gstatic.com/covid19/mobility/Region_Mobility_Report_CSVs.zip'\n",
    "zip_path = r'../Region_Mobility_Report_CSVs.zip'\n",
    "region_mobility_path = r'../Region_Mobility_Report_CSVs'\n",
    "\n",
    "download_updated_mobility_data(\n",
    "    mobility_data_url,\n",
    "    file_path,\n",
    "    region_mobility_path,\n",
    "    mobility_data_zip_url,\n",
    "    zip_path\n",
    "    )\n",
    "\n",
    "mobility_df = read_movement_data(\n",
    "    region_mobility_path,\n",
    "    'IT_Region_Mobility_Report',\n",
    "    region='Emilia-Romagna')\n"
   ]
  },
  {
   "cell_type": "code",
   "execution_count": null,
   "metadata": {},
   "outputs": [],
   "source": [
    "list(mobility_df)"
   ]
  },
  {
   "cell_type": "code",
   "execution_count": null,
   "metadata": {},
   "outputs": [],
   "source": [
    "mobility_df = mobility_df[['date',\n",
    "            'retail_and_recreation_percent_change_from_baseline',\n",
    "            'grocery_and_pharmacy_percent_change_from_baseline',\n",
    "            'parks_percent_change_from_baseline',\n",
    "            'transit_stations_percent_change_from_baseline',\n",
    "            'workplaces_percent_change_from_baseline',\n",
    "            'residential_percent_change_from_baseline']]"
   ]
  },
  {
   "cell_type": "code",
   "execution_count": null,
   "metadata": {},
   "outputs": [],
   "source": [
    "mobility_df.head()"
   ]
  },
  {
   "cell_type": "code",
   "execution_count": null,
   "metadata": {},
   "outputs": [],
   "source": [
    "frame_interesting_columns.rename(columns={'data': 'date'}, inplace=True)\n",
    "frame_interesting_columns.set_index('date',inplace=True)"
   ]
  },
  {
   "cell_type": "code",
   "execution_count": null,
   "metadata": {},
   "outputs": [],
   "source": [
    "mobility_df.set_index('date',inplace=True)"
   ]
  },
  {
   "cell_type": "code",
   "execution_count": null,
   "metadata": {},
   "outputs": [],
   "source": [
    "merged = pd.merge(\n",
    "    frame_interesting_columns,\n",
    "    mobility_df,\n",
    "    on='date'\n",
    "    )\n",
    "merged = merged.fillna(0)"
   ]
  },
  {
   "cell_type": "code",
   "execution_count": null,
   "metadata": {},
   "outputs": [],
   "source": [
    "list(merged)"
   ]
  },
  {
   "cell_type": "code",
   "execution_count": null,
   "metadata": {},
   "outputs": [],
   "source": [
    "merged.tail()"
   ]
  },
  {
   "cell_type": "code",
   "execution_count": null,
   "metadata": {},
   "outputs": [],
   "source": [
    "dataset = merged\n",
    "values = merged.values\n",
    "\n",
    "groups = range(8)\n",
    "i = 1\n",
    "pyplot.figure()\n",
    "for group in groups:\n",
    "\tpyplot.subplot(len(groups),1,i)\n",
    "\tpyplot.plot(values[:,group])\n",
    "\tpyplot.title(dataset.columns[group],y=0.5,loc='left')\n",
    "\ti += 1\n",
    "pyplot.show()"
   ]
  },
  {
   "cell_type": "code",
   "execution_count": null,
   "metadata": {},
   "outputs": [],
   "source": [
    "groups = range(8,14)\n",
    "i = 1\n",
    "pyplot.figure()\n",
    "for group in groups:\n",
    "\tpyplot.subplot(len(groups),1,i)\n",
    "\tpyplot.plot(values[:,group])\n",
    "\tpyplot.title(dataset.columns[group],y=0.5,loc='left')\n",
    "\ti += 1\n",
    "pyplot.show()"
   ]
  },
  {
   "cell_type": "code",
   "execution_count": null,
   "metadata": {},
   "outputs": [],
   "source": [
    "# fix for 'package not found' when installing in Anaconda environment\n",
    "import pip\n",
    "pip.main(['install', 'xgboost'])"
   ]
  },
  {
   "cell_type": "code",
   "execution_count": null,
   "metadata": {},
   "outputs": [],
   "source": [
    "column_to_predict = 'terapia_intensiva'\n",
    "\n",
    "n_days = 250\n",
    "dataset_reduced = dataset.iloc[-n_days:,:]\n",
    "\n",
    "y = dataset_reduced[column_to_predict]\n",
    "X = dataset_reduced.drop([column_to_predict],axis=1)"
   ]
  },
  {
   "cell_type": "code",
   "execution_count": null,
   "metadata": {},
   "outputs": [],
   "source": [
    "from sklearn.model_selection import train_test_split\n",
    "from xgboost import XGBRegressor\n",
    "\n",
    "n_predictions = 20\n",
    "\n",
    "X_train, X_test, y_train, y_test = train_test_split(\n",
    "    X,\n",
    "    y,\n",
    "    shuffle=False,\n",
    "    test_size=n_predictions\n",
    "    )\n",
    "regressor = XGBRegressor(\n",
    "    objective='reg:squarederror',\n",
    "    n_estimators=1000\n",
    "    )\n",
    "\n",
    "regressor.fit(X_train, y_train)"
   ]
  },
  {
   "cell_type": "code",
   "execution_count": null,
   "metadata": {},
   "outputs": [],
   "source": [
    "y_pred = regressor.predict(X_test)"
   ]
  },
  {
   "cell_type": "code",
   "execution_count": null,
   "metadata": {},
   "outputs": [],
   "source": [
    "from sklearn.metrics import mean_absolute_error\n",
    "\n",
    "mean_absolute_error(y_test, y_pred)"
   ]
  },
  {
   "cell_type": "code",
   "execution_count": null,
   "metadata": {},
   "outputs": [],
   "source": [
    "pyplot.plot(y_test.values, label = \"real\")\n",
    "pyplot.plot(y_pred, label = \"predicted\")\n",
    "pyplot.show()"
   ]
  }
 ],
 "metadata": {
  "kernelspec": {
   "name": "python385jvsc74a57bd00e06ac8c649f3ed04bc800268062ef40baec1dd1a85446cc91f40648d236bef8",
   "display_name": "Python 3.8.5 64-bit ('base': conda)"
  },
  "language_info": {
   "codemirror_mode": {
    "name": "ipython",
    "version": 3
   },
   "file_extension": ".py",
   "mimetype": "text/x-python",
   "name": "python",
   "nbconvert_exporter": "python",
   "pygments_lexer": "ipython3",
   "version": "3.8.5"
  },
  "metadata": {
   "interpreter": {
    "hash": "f85c0ae1067a86ad6a96b144378883e79fd1516474b579ba33ee3a7084540002"
   }
  }
 },
 "nbformat": 4,
 "nbformat_minor": 4
}