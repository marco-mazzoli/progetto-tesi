{
 "metadata": {
  "language_info": {
   "codemirror_mode": {
    "name": "ipython",
    "version": 3
   },
   "file_extension": ".py",
   "mimetype": "text/x-python",
   "name": "python",
   "nbconvert_exporter": "python",
   "pygments_lexer": "ipython3",
   "version": "3.8.5-final"
  },
  "orig_nbformat": 2,
  "kernelspec": {
   "name": "python385jvsc74a57bd00e06ac8c649f3ed04bc800268062ef40baec1dd1a85446cc91f40648d236bef8",
   "display_name": "Python 3.8.5 64-bit ('base': conda)"
  }
 },
 "nbformat": 4,
 "nbformat_minor": 2,
 "cells": [
  {
   "cell_type": "code",
   "execution_count": 40,
   "metadata": {},
   "outputs": [],
   "source": [
    "import pandas as pd\n",
    "import numpy as np\n",
    "from datetime import date\n",
    "import csv \n",
    "import requests\n",
    "import glob\n",
    "from pandas import DataFrame\n",
    "from pandas import concat"
   ]
  },
  {
   "cell_type": "code",
   "execution_count": 2,
   "metadata": {},
   "outputs": [
    {
     "output_type": "stream",
     "name": "stdout",
     "text": [
      "20210420\n"
     ]
    }
   ],
   "source": [
    "today = date.today()\n",
    "today = str(today).replace('-', '') #remove hyphen for URL formatting\n",
    "print(today)\n"
   ]
  },
  {
   "cell_type": "code",
   "execution_count": 3,
   "metadata": {},
   "outputs": [],
   "source": [
    "url_regional_data = 'https://raw.githubusercontent.com/pcm-dpc/COVID-19/master/dati-regioni/dpc-covid19-ita-regioni-PLACEHOLDER.csv'\n",
    "\n"
   ]
  },
  {
   "cell_type": "code",
   "execution_count": 4,
   "metadata": {},
   "outputs": [],
   "source": [
    "def fetch_csv_data(url, date):\n",
    "    \"\"\"\n",
    "    This function fetches from CSV data from an URL and a date formatted as YYYYMMDD.\n",
    "    The URL must contain the word PLACEHOLDER, where the date will be put.\n",
    "    \"\"\"\n",
    "    formatted_url = url.replace('PLACEHOLDER', date)\n",
    "    result = pd.read_csv(formatted_url)\n",
    "    return result"
   ]
  },
  {
   "cell_type": "code",
   "execution_count": 5,
   "metadata": {},
   "outputs": [],
   "source": [
    "df = fetch_csv_data(url_regional_data, '20210102')\n"
   ]
  },
  {
   "cell_type": "code",
   "execution_count": 12,
   "metadata": {
    "tags": []
   },
   "outputs": [
    {
     "output_type": "stream",
     "name": "stdout",
     "text": [
      "/Users/marcomazzoli/Documents/Projects/COVID-19/dati-regioni/dpc-covid19-ita-regioni-20201030.csv\n/Users/marcomazzoli/Documents/Projects/COVID-19/dati-regioni/dpc-covid19-ita-regioni-20200930.csv\n/Users/marcomazzoli/Documents/Projects/COVID-19/dati-regioni/dpc-covid19-ita-regioni-20200310.csv\n/Users/marcomazzoli/Documents/Projects/COVID-19/dati-regioni/dpc-covid19-ita-regioni-20201230.csv\n/Users/marcomazzoli/Documents/Projects/COVID-19/dati-regioni/dpc-covid19-ita-regioni-20201220.csv\n/Users/marcomazzoli/Documents/Projects/COVID-19/dati-regioni/dpc-covid19-ita-regioni-20200710.csv\n/Users/marcomazzoli/Documents/Projects/COVID-19/dati-regioni/dpc-covid19-ita-regioni-20210310.csv\n/Users/marcomazzoli/Documents/Projects/COVID-19/dati-regioni/dpc-covid19-ita-regioni-20210110.csv\n/Users/marcomazzoli/Documents/Projects/COVID-19/dati-regioni/dpc-covid19-ita-regioni-20200920.csv\n/Users/marcomazzoli/Documents/Projects/COVID-19/dati-regioni/dpc-covid19-ita-regioni-20200510.csv\n/Users/marcomazzoli/Documents/Projects/COVID-19/dati-regioni/dpc-covid19-ita-regioni-20201020.csv\n/Users/marcomazzoli/Documents/Projects/COVID-19/dati-regioni/dpc-covid19-ita-regioni-20201130.csv\n/Users/marcomazzoli/Documents/Projects/COVID-19/dati-regioni/dpc-covid19-ita-regioni-20210410.csv\n/Users/marcomazzoli/Documents/Projects/COVID-19/dati-regioni/dpc-covid19-ita-regioni-20200830.csv\n/Users/marcomazzoli/Documents/Projects/COVID-19/dati-regioni/dpc-covid19-ita-regioni-20200820.csv\n/Users/marcomazzoli/Documents/Projects/COVID-19/dati-regioni/dpc-covid19-ita-regioni-20201120.csv\n/Users/marcomazzoli/Documents/Projects/COVID-19/dati-regioni/dpc-covid19-ita-regioni-20200410.csv\n/Users/marcomazzoli/Documents/Projects/COVID-19/dati-regioni/dpc-covid19-ita-regioni-20200610.csv\n/Users/marcomazzoli/Documents/Projects/COVID-19/dati-regioni/dpc-covid19-ita-regioni-20210210.csv\n/Users/marcomazzoli/Documents/Projects/COVID-19/dati-regioni/dpc-covid19-ita-regioni-20200620.csv\n/Users/marcomazzoli/Documents/Projects/COVID-19/dati-regioni/dpc-covid19-ita-regioni-20210220.csv\n/Users/marcomazzoli/Documents/Projects/COVID-19/dati-regioni/dpc-covid19-ita-regioni-20200810.csv\n/Users/marcomazzoli/Documents/Projects/COVID-19/dati-regioni/dpc-covid19-ita-regioni-20201110.csv\n/Users/marcomazzoli/Documents/Projects/COVID-19/dati-regioni/dpc-covid19-ita-regioni-20200420.csv\n/Users/marcomazzoli/Documents/Projects/COVID-19/dati-regioni/dpc-covid19-ita-regioni-20200430.csv\n/Users/marcomazzoli/Documents/Projects/COVID-19/dati-regioni/dpc-covid19-ita-regioni-20200630.csv\n/Users/marcomazzoli/Documents/Projects/COVID-19/dati-regioni/dpc-covid19-ita-regioni-20210120.csv\n/Users/marcomazzoli/Documents/Projects/COVID-19/dati-regioni/dpc-covid19-ita-regioni-20200910.csv\n/Users/marcomazzoli/Documents/Projects/COVID-19/dati-regioni/dpc-covid19-ita-regioni-20200520.csv\n/Users/marcomazzoli/Documents/Projects/COVID-19/dati-regioni/dpc-covid19-ita-regioni-20201010.csv\n/Users/marcomazzoli/Documents/Projects/COVID-19/dati-regioni/dpc-covid19-ita-regioni-20201210.csv\n/Users/marcomazzoli/Documents/Projects/COVID-19/dati-regioni/dpc-covid19-ita-regioni-20200330.csv\n/Users/marcomazzoli/Documents/Projects/COVID-19/dati-regioni/dpc-covid19-ita-regioni-20200720.csv\n/Users/marcomazzoli/Documents/Projects/COVID-19/dati-regioni/dpc-covid19-ita-regioni-20210320.csv\n/Users/marcomazzoli/Documents/Projects/COVID-19/dati-regioni/dpc-covid19-ita-regioni-20210330.csv\n/Users/marcomazzoli/Documents/Projects/COVID-19/dati-regioni/dpc-covid19-ita-regioni-20200730.csv\n/Users/marcomazzoli/Documents/Projects/COVID-19/dati-regioni/dpc-covid19-ita-regioni-20200320.csv\n/Users/marcomazzoli/Documents/Projects/COVID-19/dati-regioni/dpc-covid19-ita-regioni-20200530.csv\n/Users/marcomazzoli/Documents/Projects/COVID-19/dati-regioni/dpc-covid19-ita-regioni-20210130.csv\n"
     ]
    }
   ],
   "source": [
    "path = r'/Users/marcomazzoli/Documents/Projects/COVID-19/dati-regioni' \n",
    "all_files = glob.glob(path + '/*0.csv')\n",
    "\n",
    "li = []\n",
    "\n",
    "for filename in all_files:\n",
    "    df = pd.read_csv(filename, index_col=None, header=0)\n",
    "    li.append(df)\n",
    "\n",
    "frame = pd.concat(li, axis=0, ignore_index=True)\n"
   ]
  },
  {
   "cell_type": "code",
   "execution_count": 27,
   "metadata": {},
   "outputs": [
    {
     "output_type": "execute_result",
     "data": {
      "text/plain": [
       "                  data stato  codice_regione denominazione_regione        lat  \\\n",
       "0  2020-10-30T17:00:00   ITA              13               Abruzzo  42.351222   \n",
       "1  2020-10-30T17:00:00   ITA              17            Basilicata  40.639471   \n",
       "2  2020-10-30T17:00:00   ITA              18              Calabria  38.905976   \n",
       "3  2020-10-30T17:00:00   ITA              15              Campania  40.839566   \n",
       "4  2020-10-30T17:00:00   ITA               8        Emilia-Romagna  44.494367   \n",
       "\n",
       "        long  ricoverati_con_sintomi  terapia_intensiva  totale_ospedalizzati  \\\n",
       "0  13.398438                     355                 27                   382   \n",
       "1  15.805148                      74                  7                    81   \n",
       "2  16.594402                     142                  9                   151   \n",
       "3  14.250850                    1385                161                  1546   \n",
       "4  11.341721                    1157                119                  1276   \n",
       "\n",
       "   isolamento_domiciliare  ...  \\\n",
       "0                    5414  ...   \n",
       "1                    1254  ...   \n",
       "2                    2799  ...   \n",
       "3                   38804  ...   \n",
       "4                   20145  ...   \n",
       "\n",
       "                                                note  \\\n",
       "0                                                NaN   \n",
       "1                                                NaN   \n",
       "2  la regione comunica che i casi totali a ieri e...   \n",
       "3                                                NaN   \n",
       "4  In seguito a verifica sui dati comunicati nei ...   \n",
       "\n",
       "   ingressi_terapia_intensiva  note_test  note_casi  \\\n",
       "0                         NaN        NaN        NaN   \n",
       "1                         NaN        NaN        NaN   \n",
       "2                         NaN        NaN        NaN   \n",
       "3                         NaN        NaN        NaN   \n",
       "4                         NaN        NaN        NaN   \n",
       "\n",
       "   totale_positivi_test_molecolare  totale_positivi_test_antigenico_rapido  \\\n",
       "0                              NaN                                     NaN   \n",
       "1                              NaN                                     NaN   \n",
       "2                              NaN                                     NaN   \n",
       "3                              NaN                                     NaN   \n",
       "4                              NaN                                     NaN   \n",
       "\n",
       "   tamponi_test_molecolare  tamponi_test_antigenico_rapido  codice_nuts_1  \\\n",
       "0                      NaN                             NaN            NaN   \n",
       "1                      NaN                             NaN            NaN   \n",
       "2                      NaN                             NaN            NaN   \n",
       "3                      NaN                             NaN            NaN   \n",
       "4                      NaN                             NaN            NaN   \n",
       "\n",
       "   codice_nuts_2  \n",
       "0            NaN  \n",
       "1            NaN  \n",
       "2            NaN  \n",
       "3            NaN  \n",
       "4            NaN  \n",
       "\n",
       "[5 rows x 30 columns]"
      ],
      "text/html": "<div>\n<style scoped>\n    .dataframe tbody tr th:only-of-type {\n        vertical-align: middle;\n    }\n\n    .dataframe tbody tr th {\n        vertical-align: top;\n    }\n\n    .dataframe thead th {\n        text-align: right;\n    }\n</style>\n<table border=\"1\" class=\"dataframe\">\n  <thead>\n    <tr style=\"text-align: right;\">\n      <th></th>\n      <th>data</th>\n      <th>stato</th>\n      <th>codice_regione</th>\n      <th>denominazione_regione</th>\n      <th>lat</th>\n      <th>long</th>\n      <th>ricoverati_con_sintomi</th>\n      <th>terapia_intensiva</th>\n      <th>totale_ospedalizzati</th>\n      <th>isolamento_domiciliare</th>\n      <th>...</th>\n      <th>note</th>\n      <th>ingressi_terapia_intensiva</th>\n      <th>note_test</th>\n      <th>note_casi</th>\n      <th>totale_positivi_test_molecolare</th>\n      <th>totale_positivi_test_antigenico_rapido</th>\n      <th>tamponi_test_molecolare</th>\n      <th>tamponi_test_antigenico_rapido</th>\n      <th>codice_nuts_1</th>\n      <th>codice_nuts_2</th>\n    </tr>\n  </thead>\n  <tbody>\n    <tr>\n      <th>0</th>\n      <td>2020-10-30T17:00:00</td>\n      <td>ITA</td>\n      <td>13</td>\n      <td>Abruzzo</td>\n      <td>42.351222</td>\n      <td>13.398438</td>\n      <td>355</td>\n      <td>27</td>\n      <td>382</td>\n      <td>5414</td>\n      <td>...</td>\n      <td>NaN</td>\n      <td>NaN</td>\n      <td>NaN</td>\n      <td>NaN</td>\n      <td>NaN</td>\n      <td>NaN</td>\n      <td>NaN</td>\n      <td>NaN</td>\n      <td>NaN</td>\n      <td>NaN</td>\n    </tr>\n    <tr>\n      <th>1</th>\n      <td>2020-10-30T17:00:00</td>\n      <td>ITA</td>\n      <td>17</td>\n      <td>Basilicata</td>\n      <td>40.639471</td>\n      <td>15.805148</td>\n      <td>74</td>\n      <td>7</td>\n      <td>81</td>\n      <td>1254</td>\n      <td>...</td>\n      <td>NaN</td>\n      <td>NaN</td>\n      <td>NaN</td>\n      <td>NaN</td>\n      <td>NaN</td>\n      <td>NaN</td>\n      <td>NaN</td>\n      <td>NaN</td>\n      <td>NaN</td>\n      <td>NaN</td>\n    </tr>\n    <tr>\n      <th>2</th>\n      <td>2020-10-30T17:00:00</td>\n      <td>ITA</td>\n      <td>18</td>\n      <td>Calabria</td>\n      <td>38.905976</td>\n      <td>16.594402</td>\n      <td>142</td>\n      <td>9</td>\n      <td>151</td>\n      <td>2799</td>\n      <td>...</td>\n      <td>la regione comunica che i casi totali a ieri e...</td>\n      <td>NaN</td>\n      <td>NaN</td>\n      <td>NaN</td>\n      <td>NaN</td>\n      <td>NaN</td>\n      <td>NaN</td>\n      <td>NaN</td>\n      <td>NaN</td>\n      <td>NaN</td>\n    </tr>\n    <tr>\n      <th>3</th>\n      <td>2020-10-30T17:00:00</td>\n      <td>ITA</td>\n      <td>15</td>\n      <td>Campania</td>\n      <td>40.839566</td>\n      <td>14.250850</td>\n      <td>1385</td>\n      <td>161</td>\n      <td>1546</td>\n      <td>38804</td>\n      <td>...</td>\n      <td>NaN</td>\n      <td>NaN</td>\n      <td>NaN</td>\n      <td>NaN</td>\n      <td>NaN</td>\n      <td>NaN</td>\n      <td>NaN</td>\n      <td>NaN</td>\n      <td>NaN</td>\n      <td>NaN</td>\n    </tr>\n    <tr>\n      <th>4</th>\n      <td>2020-10-30T17:00:00</td>\n      <td>ITA</td>\n      <td>8</td>\n      <td>Emilia-Romagna</td>\n      <td>44.494367</td>\n      <td>11.341721</td>\n      <td>1157</td>\n      <td>119</td>\n      <td>1276</td>\n      <td>20145</td>\n      <td>...</td>\n      <td>In seguito a verifica sui dati comunicati nei ...</td>\n      <td>NaN</td>\n      <td>NaN</td>\n      <td>NaN</td>\n      <td>NaN</td>\n      <td>NaN</td>\n      <td>NaN</td>\n      <td>NaN</td>\n      <td>NaN</td>\n      <td>NaN</td>\n    </tr>\n  </tbody>\n</table>\n<p>5 rows × 30 columns</p>\n</div>"
     },
     "metadata": {},
     "execution_count": 27
    }
   ],
   "source": [
    "framd()"
   ]
  },
  {
   "cell_type": "code",
   "execution_count": 24,
   "metadata": {},
   "outputs": [],
   "source": [
    "def select_attributes(frame, attributes):\n",
    "    return frame[attributes]"
   ]
  },
  {
   "cell_type": "code",
   "execution_count": 28,
   "metadata": {},
   "outputs": [
    {
     "output_type": "stream",
     "name": "stdout",
     "text": [
      "                    data denominazione_regione  ricoverati_con_sintomi\n0    2020-10-30T17:00:00               Abruzzo                     355\n1    2020-10-30T17:00:00            Basilicata                      74\n2    2020-10-30T17:00:00              Calabria                     142\n3    2020-10-30T17:00:00              Campania                    1385\n4    2020-10-30T17:00:00        Emilia-Romagna                    1157\n..                   ...                   ...                     ...\n814  2021-01-30T17:00:00               Sicilia                    1345\n815  2021-01-30T17:00:00               Toscana                     648\n816  2021-01-30T17:00:00                Umbria                     346\n817  2021-01-30T17:00:00         Valle d'Aosta                      35\n818  2021-01-30T17:00:00                Veneto                    1438\n\n[819 rows x 3 columns]\n"
     ]
    }
   ],
   "source": [
    "print(frame['data', 'denominazione_regione', 'ricoverati_con_sintomi']])"
   ]
  },
  {
   "cell_type": "code",
   "execution_count": 31,
   "metadata": {},
   "outputs": [],
   "source": [
    "region_focus = 'Emilia-Romagna'\n",
    "attribute_focus = 'denominazione_regione'\n",
    "\n",
    "def select_relevant_rows(frame, row, filter):\n",
    "    return frame[frame[row] == filter]\n",
    "\n",
    "region_focus_data = select_relevant_rows(frame, attribute_focus, region_focus)\n"
   ]
  },
  {
   "cell_type": "code",
   "execution_count": 32,
   "metadata": {},
   "outputs": [
    {
     "output_type": "execute_result",
     "data": {
      "text/plain": [
       "                   data stato  codice_regione denominazione_regione  \\\n",
       "4   2020-10-30T17:00:00   ITA               8        Emilia-Romagna   \n",
       "25  2020-09-30T17:00:00   ITA               8        Emilia-Romagna   \n",
       "46  2020-03-10T18:00:00   ITA               8        Emilia-Romagna   \n",
       "67  2020-12-30T17:00:00   ITA               8        Emilia-Romagna   \n",
       "88  2020-12-20T17:00:00   ITA               8        Emilia-Romagna   \n",
       "\n",
       "          lat       long  ricoverati_con_sintomi  terapia_intensiva  \\\n",
       "4   44.494367  11.341721                    1157                119   \n",
       "25  44.494367  11.341721                     205                 14   \n",
       "46  44.494367  11.341721                     669                 98   \n",
       "67  44.494367  11.341721                    2641                230   \n",
       "88  44.494367  11.341721                    2852                201   \n",
       "\n",
       "    totale_ospedalizzati  isolamento_domiciliare  ...  \\\n",
       "4                   1276                   20145  ...   \n",
       "25                   219                    4434  ...   \n",
       "46                   767                     650  ...   \n",
       "67                  2871                   53186  ...   \n",
       "88                  3053                   57863  ...   \n",
       "\n",
       "                                                 note  \\\n",
       "4   In seguito a verifica sui dati comunicati nei ...   \n",
       "25                                                NaN   \n",
       "46                                                NaN   \n",
       "67                                                NaN   \n",
       "88  In seguito a verifica sui dati comunicati nei ...   \n",
       "\n",
       "    ingressi_terapia_intensiva  note_test  note_casi  \\\n",
       "4                          NaN        NaN        NaN   \n",
       "25                         NaN        NaN        NaN   \n",
       "46                         NaN        NaN        NaN   \n",
       "67                        19.0        NaN        NaN   \n",
       "88                         8.0        NaN        NaN   \n",
       "\n",
       "    totale_positivi_test_molecolare  totale_positivi_test_antigenico_rapido  \\\n",
       "4                               NaN                                     NaN   \n",
       "25                              NaN                                     NaN   \n",
       "46                              NaN                                     NaN   \n",
       "67                              NaN                                     NaN   \n",
       "88                              NaN                                     NaN   \n",
       "\n",
       "    tamponi_test_molecolare  tamponi_test_antigenico_rapido  codice_nuts_1  \\\n",
       "4                       NaN                             NaN            NaN   \n",
       "25                      NaN                             NaN            NaN   \n",
       "46                      NaN                             NaN            NaN   \n",
       "67                      NaN                             NaN            NaN   \n",
       "88                      NaN                             NaN            NaN   \n",
       "\n",
       "    codice_nuts_2  \n",
       "4             NaN  \n",
       "25            NaN  \n",
       "46            NaN  \n",
       "67            NaN  \n",
       "88            NaN  \n",
       "\n",
       "[5 rows x 30 columns]"
      ],
      "text/html": "<div>\n<style scoped>\n    .dataframe tbody tr th:only-of-type {\n        vertical-align: middle;\n    }\n\n    .dataframe tbody tr th {\n        vertical-align: top;\n    }\n\n    .dataframe thead th {\n        text-align: right;\n    }\n</style>\n<table border=\"1\" class=\"dataframe\">\n  <thead>\n    <tr style=\"text-align: right;\">\n      <th></th>\n      <th>data</th>\n      <th>stato</th>\n      <th>codice_regione</th>\n      <th>denominazione_regione</th>\n      <th>lat</th>\n      <th>long</th>\n      <th>ricoverati_con_sintomi</th>\n      <th>terapia_intensiva</th>\n      <th>totale_ospedalizzati</th>\n      <th>isolamento_domiciliare</th>\n      <th>...</th>\n      <th>note</th>\n      <th>ingressi_terapia_intensiva</th>\n      <th>note_test</th>\n      <th>note_casi</th>\n      <th>totale_positivi_test_molecolare</th>\n      <th>totale_positivi_test_antigenico_rapido</th>\n      <th>tamponi_test_molecolare</th>\n      <th>tamponi_test_antigenico_rapido</th>\n      <th>codice_nuts_1</th>\n      <th>codice_nuts_2</th>\n    </tr>\n  </thead>\n  <tbody>\n    <tr>\n      <th>4</th>\n      <td>2020-10-30T17:00:00</td>\n      <td>ITA</td>\n      <td>8</td>\n      <td>Emilia-Romagna</td>\n      <td>44.494367</td>\n      <td>11.341721</td>\n      <td>1157</td>\n      <td>119</td>\n      <td>1276</td>\n      <td>20145</td>\n      <td>...</td>\n      <td>In seguito a verifica sui dati comunicati nei ...</td>\n      <td>NaN</td>\n      <td>NaN</td>\n      <td>NaN</td>\n      <td>NaN</td>\n      <td>NaN</td>\n      <td>NaN</td>\n      <td>NaN</td>\n      <td>NaN</td>\n      <td>NaN</td>\n    </tr>\n    <tr>\n      <th>25</th>\n      <td>2020-09-30T17:00:00</td>\n      <td>ITA</td>\n      <td>8</td>\n      <td>Emilia-Romagna</td>\n      <td>44.494367</td>\n      <td>11.341721</td>\n      <td>205</td>\n      <td>14</td>\n      <td>219</td>\n      <td>4434</td>\n      <td>...</td>\n      <td>NaN</td>\n      <td>NaN</td>\n      <td>NaN</td>\n      <td>NaN</td>\n      <td>NaN</td>\n      <td>NaN</td>\n      <td>NaN</td>\n      <td>NaN</td>\n      <td>NaN</td>\n      <td>NaN</td>\n    </tr>\n    <tr>\n      <th>46</th>\n      <td>2020-03-10T18:00:00</td>\n      <td>ITA</td>\n      <td>8</td>\n      <td>Emilia-Romagna</td>\n      <td>44.494367</td>\n      <td>11.341721</td>\n      <td>669</td>\n      <td>98</td>\n      <td>767</td>\n      <td>650</td>\n      <td>...</td>\n      <td>NaN</td>\n      <td>NaN</td>\n      <td>NaN</td>\n      <td>NaN</td>\n      <td>NaN</td>\n      <td>NaN</td>\n      <td>NaN</td>\n      <td>NaN</td>\n      <td>NaN</td>\n      <td>NaN</td>\n    </tr>\n    <tr>\n      <th>67</th>\n      <td>2020-12-30T17:00:00</td>\n      <td>ITA</td>\n      <td>8</td>\n      <td>Emilia-Romagna</td>\n      <td>44.494367</td>\n      <td>11.341721</td>\n      <td>2641</td>\n      <td>230</td>\n      <td>2871</td>\n      <td>53186</td>\n      <td>...</td>\n      <td>NaN</td>\n      <td>19.0</td>\n      <td>NaN</td>\n      <td>NaN</td>\n      <td>NaN</td>\n      <td>NaN</td>\n      <td>NaN</td>\n      <td>NaN</td>\n      <td>NaN</td>\n      <td>NaN</td>\n    </tr>\n    <tr>\n      <th>88</th>\n      <td>2020-12-20T17:00:00</td>\n      <td>ITA</td>\n      <td>8</td>\n      <td>Emilia-Romagna</td>\n      <td>44.494367</td>\n      <td>11.341721</td>\n      <td>2852</td>\n      <td>201</td>\n      <td>3053</td>\n      <td>57863</td>\n      <td>...</td>\n      <td>In seguito a verifica sui dati comunicati nei ...</td>\n      <td>8.0</td>\n      <td>NaN</td>\n      <td>NaN</td>\n      <td>NaN</td>\n      <td>NaN</td>\n      <td>NaN</td>\n      <td>NaN</td>\n      <td>NaN</td>\n      <td>NaN</td>\n    </tr>\n  </tbody>\n</table>\n<p>5 rows × 30 columns</p>\n</div>"
     },
     "metadata": {},
     "execution_count": 32
    }
   ],
   "source": [
    "region_focus_data.head()"
   ]
  },
  {
   "cell_type": "code",
   "execution_count": 34,
   "metadata": {},
   "outputs": [],
   "source": [
    "frame = select_attributes(frame, ['data', 'ricoverati_con_sintomi', 'terapia_intensiva', 'totale_ospedalizzati'])"
   ]
  },
  {
   "cell_type": "code",
   "execution_count": 35,
   "metadata": {},
   "outputs": [
    {
     "output_type": "execute_result",
     "data": {
      "text/plain": [
       "                    data  ricoverati_con_sintomi  terapia_intensiva  \\\n",
       "0    2020-10-30T17:00:00                     355                 27   \n",
       "1    2020-10-30T17:00:00                      74                  7   \n",
       "2    2020-10-30T17:00:00                     142                  9   \n",
       "3    2020-10-30T17:00:00                    1385                161   \n",
       "4    2020-10-30T17:00:00                    1157                119   \n",
       "..                   ...                     ...                ...   \n",
       "814  2021-01-30T17:00:00                    1345                208   \n",
       "815  2021-01-30T17:00:00                     648                 95   \n",
       "816  2021-01-30T17:00:00                     346                 55   \n",
       "817  2021-01-30T17:00:00                      35                  4   \n",
       "818  2021-01-30T17:00:00                    1438                222   \n",
       "\n",
       "     totale_ospedalizzati  \n",
       "0                     382  \n",
       "1                      81  \n",
       "2                     151  \n",
       "3                    1546  \n",
       "4                    1276  \n",
       "..                    ...  \n",
       "814                  1553  \n",
       "815                   743  \n",
       "816                   401  \n",
       "817                    39  \n",
       "818                  1660  \n",
       "\n",
       "[819 rows x 4 columns]"
      ],
      "text/html": "<div>\n<style scoped>\n    .dataframe tbody tr th:only-of-type {\n        vertical-align: middle;\n    }\n\n    .dataframe tbody tr th {\n        vertical-align: top;\n    }\n\n    .dataframe thead th {\n        text-align: right;\n    }\n</style>\n<table border=\"1\" class=\"dataframe\">\n  <thead>\n    <tr style=\"text-align: right;\">\n      <th></th>\n      <th>data</th>\n      <th>ricoverati_con_sintomi</th>\n      <th>terapia_intensiva</th>\n      <th>totale_ospedalizzati</th>\n    </tr>\n  </thead>\n  <tbody>\n    <tr>\n      <th>0</th>\n      <td>2020-10-30T17:00:00</td>\n      <td>355</td>\n      <td>27</td>\n      <td>382</td>\n    </tr>\n    <tr>\n      <th>1</th>\n      <td>2020-10-30T17:00:00</td>\n      <td>74</td>\n      <td>7</td>\n      <td>81</td>\n    </tr>\n    <tr>\n      <th>2</th>\n      <td>2020-10-30T17:00:00</td>\n      <td>142</td>\n      <td>9</td>\n      <td>151</td>\n    </tr>\n    <tr>\n      <th>3</th>\n      <td>2020-10-30T17:00:00</td>\n      <td>1385</td>\n      <td>161</td>\n      <td>1546</td>\n    </tr>\n    <tr>\n      <th>4</th>\n      <td>2020-10-30T17:00:00</td>\n      <td>1157</td>\n      <td>119</td>\n      <td>1276</td>\n    </tr>\n    <tr>\n      <th>...</th>\n      <td>...</td>\n      <td>...</td>\n      <td>...</td>\n      <td>...</td>\n    </tr>\n    <tr>\n      <th>814</th>\n      <td>2021-01-30T17:00:00</td>\n      <td>1345</td>\n      <td>208</td>\n      <td>1553</td>\n    </tr>\n    <tr>\n      <th>815</th>\n      <td>2021-01-30T17:00:00</td>\n      <td>648</td>\n      <td>95</td>\n      <td>743</td>\n    </tr>\n    <tr>\n      <th>816</th>\n      <td>2021-01-30T17:00:00</td>\n      <td>346</td>\n      <td>55</td>\n      <td>401</td>\n    </tr>\n    <tr>\n      <th>817</th>\n      <td>2021-01-30T17:00:00</td>\n      <td>35</td>\n      <td>4</td>\n      <td>39</td>\n    </tr>\n    <tr>\n      <th>818</th>\n      <td>2021-01-30T17:00:00</td>\n      <td>1438</td>\n      <td>222</td>\n      <td>1660</td>\n    </tr>\n  </tbody>\n</table>\n<p>819 rows × 4 columns</p>\n</div>"
     },
     "metadata": {},
     "execution_count": 35
    }
   ],
   "source": [
    "frame"
   ]
  },
  {
   "cell_type": "code",
   "execution_count": 44,
   "metadata": {},
   "outputs": [
    {
     "output_type": "stream",
     "name": "stdout",
     "text": [
      "              var1(t-20)  var2(t-20)  var3(t-20)  var4(t-20)  \\\n20   2020-10-30T17:00:00       355.0        27.0       382.0   \n21   2020-10-30T17:00:00        74.0         7.0        81.0   \n22   2020-10-30T17:00:00       142.0         9.0       151.0   \n23   2020-10-30T17:00:00      1385.0       161.0      1546.0   \n24   2020-10-30T17:00:00      1157.0       119.0      1276.0   \n..                   ...         ...         ...         ...   \n812  2020-05-30T17:00:00        34.0         2.0        36.0   \n813  2020-05-30T17:00:00        67.0         7.0        74.0   \n814  2020-05-30T17:00:00       106.0        27.0       133.0   \n815  2020-05-30T17:00:00        16.0         1.0        17.0   \n816  2020-05-30T17:00:00        13.0         0.0        13.0   \n\n              var1(t-19)  var2(t-19)  var3(t-19)  var4(t-19)  \\\n20   2020-10-30T17:00:00        74.0         7.0        81.0   \n21   2020-10-30T17:00:00       142.0         9.0       151.0   \n22   2020-10-30T17:00:00      1385.0       161.0      1546.0   \n23   2020-10-30T17:00:00      1157.0       119.0      1276.0   \n24   2020-10-30T17:00:00       161.0        35.0       196.0   \n..                   ...         ...         ...         ...   \n812  2020-05-30T17:00:00        67.0         7.0        74.0   \n813  2020-05-30T17:00:00       106.0        27.0       133.0   \n814  2020-05-30T17:00:00        16.0         1.0        17.0   \n815  2020-05-30T17:00:00        13.0         0.0        13.0   \n816  2020-05-30T17:00:00       120.0         7.0       127.0   \n\n              var1(t-18)  var2(t-18)  ...  var3(t)  var4(t)  \\\n20   2020-10-30T17:00:00       142.0  ...      117      894   \n21   2020-10-30T17:00:00      1385.0  ...        5       57   \n22   2020-10-30T17:00:00      1157.0  ...        2       13   \n23   2020-10-30T17:00:00       161.0  ...        2       35   \n24   2020-10-30T17:00:00      1873.0  ...       39      453   \n..                   ...         ...  ...      ...      ...   \n812  2020-05-30T17:00:00       106.0  ...      163     1552   \n813  2020-05-30T17:00:00        16.0  ...       39      489   \n814  2020-05-30T17:00:00        13.0  ...      208     1553   \n815  2020-05-30T17:00:00       120.0  ...       95      743   \n816  2021-01-30T17:00:00       389.0  ...       55      401   \n\n               var1(t+1)  var2(t+1)  var3(t+1)  var4(t+1)  \\\n20   2020-09-30T17:00:00       52.0        5.0       57.0   \n21   2020-09-30T17:00:00       11.0        2.0       13.0   \n22   2020-09-30T17:00:00       33.0        2.0       35.0   \n23   2020-09-30T17:00:00      414.0       39.0      453.0   \n24   2020-09-30T17:00:00      205.0       14.0      219.0   \n..                   ...        ...        ...        ...   \n812  2021-01-30T17:00:00      450.0       39.0      489.0   \n813  2021-01-30T17:00:00     1345.0      208.0     1553.0   \n814  2021-01-30T17:00:00      648.0       95.0      743.0   \n815  2021-01-30T17:00:00      346.0       55.0      401.0   \n816  2021-01-30T17:00:00       35.0        4.0       39.0   \n\n               var1(t+2)  var2(t+2)  var3(t+2)  var4(t+2)  \n20   2020-09-30T17:00:00       11.0        2.0       13.0  \n21   2020-09-30T17:00:00       33.0        2.0       35.0  \n22   2020-09-30T17:00:00      414.0       39.0      453.0  \n23   2020-09-30T17:00:00      205.0       14.0      219.0  \n24   2020-09-30T17:00:00       19.0        6.0       25.0  \n..                   ...        ...        ...        ...  \n812  2021-01-30T17:00:00     1345.0      208.0     1553.0  \n813  2021-01-30T17:00:00      648.0       95.0      743.0  \n814  2021-01-30T17:00:00      346.0       55.0      401.0  \n815  2021-01-30T17:00:00       35.0        4.0       39.0  \n816  2021-01-30T17:00:00     1438.0      222.0     1660.0  \n\n[797 rows x 92 columns]\n"
     ]
    }
   ],
   "source": [
    "def series_to_supervised(data, n_in = 1, n_out = 1, dropnan = True):\n",
    "\t\"\"\"\n",
    "\tFrame a time series as a supervised learning dataset.\n",
    "\tArguments:\n",
    "\t\tdata: Sequence of observations as a list or NumPy array.\n",
    "\t\tn_in: Number of lag observations as input (X).\n",
    "\t\tn_out: Number of observations as output (y).\n",
    "\t\tdropnan: Boolean whether or not to drop rows with NaN values.\n",
    "\tReturns:\n",
    "\t\tPandas DataFrame of series framed for supervised learning.\n",
    "\t\"\"\"\n",
    "\tn_vars = 1 if type(data) is list else data.shape[1]\n",
    "\tdf = DataFrame(data)\n",
    "\tcols, names = list(), list()\n",
    "\t# input sequence (t-n, ... t-1)\n",
    "\tfor i in range(n_in, 0, -1):\n",
    "\t\tcols.append(df.shift(i))\n",
    "\t\tnames += [('var%d(t-%d)' % (j+1, i)) for j in range(n_vars)]\n",
    "\t# forecast sequence (t, t+1, ... t+n)\n",
    "\tfor i in range(0, n_out):\n",
    "\t\tcols.append(df.shift(-i))\n",
    "\t\tif i == 0:\n",
    "\t\t\tnames += [('var%d(t)' % (j+1)) for j in range(n_vars)]\n",
    "\t\telse:\n",
    "\t\t\tnames += [('var%d(t+%d)' % (j+1, i)) for j in range(n_vars)]\n",
    "\t# put it all together\n",
    "\tagg = concat(cols, axis=1)\n",
    "\tagg.columns = names\n",
    "\t# drop rows with NaN values\n",
    "\tif dropnan:\n",
    "\t\tagg.dropna(inplace=True)\n",
    "\treturn agg\n",
    " \n",
    " \n",
    "values = [x for x in range(10)]\n",
    "data = series_to_supervised(frame, n_in = 20, n_out = 3)\n",
    "print(data)"
   ]
  },
  {
   "cell_type": "code",
   "execution_count": null,
   "metadata": {},
   "outputs": [],
   "source": []
  }
 ]
}