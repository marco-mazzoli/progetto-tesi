{
 "cells": [
  {
   "cell_type": "code",
   "execution_count": null,
   "source": [
    "import pandas as pd\n",
    "import numpy as np\n",
    "from datetime import date\n",
    "import csv \n",
    "import requests\n",
    "import glob\n",
    "from pandas import DataFrame, concat\n",
    "from matplotlib import pyplot\n",
    "from sklearn.metrics import mean_absolute_error\n",
    "from sklearn.model_selection import train_test_split\n",
    "import requests\n",
    "import os.path, time\n",
    "\n",
    "# fix for 'package not found' when installing in Anaconda environment\n",
    "if 'google.colab' not in str(get_ipython()):\n",
    "    import pip\n",
    "    pip.main(['install', 'xgboost'])\n",
    "\n",
    "if 'google.colab' in str(get_ipython()):\n",
    "  !rm util.py\n",
    "  !wget https://raw.githubusercontent.com/marco-mazzoli/progetto-tesi/master/util.py\n",
    "\n",
    "from xgboost import XGBRegressor\n",
    "from util import select_relevant_rows, select_attributes, read_movement_data, read_multiple_csv,download_updated_mobility_data, download_updated_mobility_data, select_optimal_window_linear, train_and_predict, select_time_slot, grangers_causation_matrix, cointegration_test"
   ],
   "outputs": [],
   "metadata": {}
  },
  {
   "cell_type": "code",
   "execution_count": null,
   "source": [
    "local_region_path = r'../COVID-19/dati-regioni/dpc-covid19-ita-regioni.csv'\n",
    "remote_region_path = r'https://raw.githubusercontent.com/pcm-dpc/COVID-19/master/dati-regioni/dpc-covid19-ita-regioni.csv'\n",
    "\n",
    "regions_frame = pd.read_csv(remote_region_path)"
   ],
   "outputs": [],
   "metadata": {}
  },
  {
   "cell_type": "code",
   "execution_count": null,
   "source": [
    "region_focus = 'Emilia-Romagna'\n",
    "attribute_focus = 'denominazione_regione'\n",
    "\n",
    "region_focus_data = select_relevant_rows(\n",
    "    regions_frame,\n",
    "    attribute_focus,\n",
    "    region_focus\n",
    "    )"
   ],
   "outputs": [],
   "metadata": {}
  },
  {
   "cell_type": "code",
   "execution_count": null,
   "source": [
    "frame_interesting_columns = select_attributes(region_focus_data, [\n",
    "    'data',\n",
    "    'ricoverati_con_sintomi',\n",
    "    'terapia_intensiva',\n",
    "    'totale_ospedalizzati',\n",
    "    'variazione_totale_positivi',\n",
    "    'nuovi_positivi',\n",
    "    'deceduti',\n",
    "    'tamponi',\n",
    "    'ingressi_terapia_intensiva'\n",
    "    ])"
   ],
   "outputs": [],
   "metadata": {}
  },
  {
   "cell_type": "code",
   "execution_count": null,
   "source": [
    "frame_interesting_columns.head()"
   ],
   "outputs": [],
   "metadata": {}
  },
  {
   "cell_type": "code",
   "execution_count": null,
   "source": [
    "frame_interesting_columns = pd.DataFrame(frame_interesting_columns)\n",
    "frame_interesting_columns['data'] = pd.to_datetime(frame_interesting_columns['data'])\n",
    "frame_interesting_columns['data'] = frame_interesting_columns['data'].dt.strftime(r'%Y-%m-%d')\n",
    "frame_interesting_columns = frame_interesting_columns.fillna(0)\n"
   ],
   "outputs": [],
   "metadata": {}
  },
  {
   "cell_type": "code",
   "execution_count": null,
   "source": [
    "# # 'tamponi' is cumulative, revert to incidence\n",
    "# columns_to_normalize = ['deceduti', 'tamponi']\n",
    "\n",
    "# for column in columns_to_normalize:\n",
    "#     frame_interesting_columns[column] = frame_interesting_columns[column].transform(\n",
    "#         lambda s: s.sub(s.shift().fillna(0)).abs()\n",
    "#         )\n"
   ],
   "outputs": [],
   "metadata": {}
  },
  {
   "cell_type": "code",
   "execution_count": null,
   "source": [
    "mobility_data_url = r'https://www.gstatic.com/covid19/mobility/Global_Mobility_Report.csv'\n",
    "file_path = r'../Global_Mobility_Report.csv'\n",
    "mobility_data_zip_url = r'https://www.gstatic.com/covid19/mobility/Region_Mobility_Report_CSVs.zip'\n",
    "zip_path = r'../Region_Mobility_Report_CSVs.zip'\n",
    "region_mobility_path = r'../Region_Mobility_Report_CSVs'\n",
    "\n",
    "download_updated_mobility_data(\n",
    "    mobility_data_url,\n",
    "    file_path,\n",
    "    region_mobility_path,\n",
    "    mobility_data_zip_url,\n",
    "    zip_path\n",
    "    )\n",
    "\n",
    "mobility_df = read_movement_data(\n",
    "    region_mobility_path,\n",
    "    'IT_Region_Mobility_Report',\n",
    "    region='Emilia-Romagna'\n",
    "    )"
   ],
   "outputs": [],
   "metadata": {}
  },
  {
   "cell_type": "code",
   "execution_count": null,
   "source": [
    "mobility_df = mobility_df[['date',\n",
    "            'retail_and_recreation_percent_change_from_baseline',\n",
    "            'grocery_and_pharmacy_percent_change_from_baseline',\n",
    "            'parks_percent_change_from_baseline',\n",
    "            'transit_stations_percent_change_from_baseline',\n",
    "            'workplaces_percent_change_from_baseline',\n",
    "            'residential_percent_change_from_baseline']].fillna(0)"
   ],
   "outputs": [],
   "metadata": {}
  },
  {
   "cell_type": "code",
   "execution_count": null,
   "source": [
    "frame_interesting_columns.rename(columns={'data': 'date'}, inplace=True)\n",
    "frame_interesting_columns.set_index('date',inplace=True)\n",
    "mobility_df.set_index('date',inplace=True)\n",
    "merged = pd.merge(\n",
    "    frame_interesting_columns,\n",
    "    mobility_df,\n",
    "    on='date'\n",
    "    )\n",
    "merged = merged.fillna(0)"
   ],
   "outputs": [],
   "metadata": {}
  },
  {
   "cell_type": "code",
   "execution_count": null,
   "source": [
    "fig, axes = pyplot.subplots(nrows=4,ncols=2,figsize=(10,8))\n",
    "for i, ax in enumerate(axes.flatten()):\n",
    "    data = np.array(frame_interesting_columns[frame_interesting_columns.columns[i]])\n",
    "    ax.plot(pd.DataFrame(data))\n",
    "    ax.set_title(frame_interesting_columns.columns[i])\n",
    "    ax.plot()\n",
    "\n",
    "pyplot.tight_layout()\n"
   ],
   "outputs": [],
   "metadata": {}
  },
  {
   "cell_type": "code",
   "execution_count": null,
   "source": [
    "fig, axes = pyplot.subplots(nrows=3,ncols=2,figsize=(10,8))\n",
    "for i, ax in enumerate(axes.flatten()):\n",
    "    data = np.array(mobility_df[mobility_df.columns[i]])\n",
    "    ax.plot(pd.DataFrame(data))\n",
    "    ax.set_title(mobility_df.columns[i])\n",
    "    ax.plot()\n",
    "\n",
    "pyplot.tight_layout()\n"
   ],
   "outputs": [],
   "metadata": {}
  },
  {
   "cell_type": "code",
   "execution_count": null,
   "source": [
    "# try with mobility data\n",
    "column_to_predict = 'nuovi_positivi'\n",
    "\n",
    "n_days = 375\n",
    "n_predictions = 21\n",
    "\n",
    "y_pred, y_test = train_and_predict(\n",
    "    merged,\n",
    "    column_to_predict,\n",
    "    n_days,\n",
    "    n_predictions\n",
    "    )"
   ],
   "outputs": [],
   "metadata": {}
  },
  {
   "cell_type": "code",
   "execution_count": null,
   "source": [
    "print('MAE: ', mean_absolute_error(y_test, y_pred))\n",
    "pyplot.plot(y_test.values,label='real')\n",
    "pyplot.plot(y_pred,label='predicted')\n",
    "pyplot.ylabel(column_to_predict)\n",
    "pyplot.legend(loc='best')\n",
    "pyplot.show()"
   ],
   "outputs": [],
   "metadata": {}
  },
  {
   "cell_type": "code",
   "execution_count": null,
   "source": [
    "# try with no mobility data\n",
    "column_to_predict = 'nuovi_positivi'\n",
    "\n",
    "n_days = 500\n",
    "n_predictions = 15\n",
    "\n",
    "y_pred, y_test = train_and_predict(\n",
    "    frame_interesting_columns,\n",
    "    column_to_predict,\n",
    "    n_days,\n",
    "    n_predictions\n",
    "    )"
   ],
   "outputs": [],
   "metadata": {}
  },
  {
   "cell_type": "code",
   "execution_count": null,
   "source": [
    "print('MAE: ', mean_absolute_error(y_test, y_pred))\n",
    "pyplot.plot(y_test.values,label='real')\n",
    "pyplot.plot(y_pred,label='predicted')\n",
    "pyplot.ylabel(column_to_predict)\n",
    "pyplot.legend(loc='best')\n",
    "pyplot.show()"
   ],
   "outputs": [],
   "metadata": {}
  },
  {
   "cell_type": "code",
   "execution_count": null,
   "source": [
    "max_window_prediction = 10\n",
    "\n",
    "result_with_mobility = select_optimal_window_linear(\n",
    "    merged,\n",
    "    'nuovi_positivi',\n",
    "    max_window_prediction\n",
    "    )\n",
    "result_without_mobility = select_optimal_window_linear(\n",
    "    frame_interesting_columns,\n",
    "    'nuovi_positivi',\n",
    "    max_window_prediction\n",
    "    )"
   ],
   "outputs": [],
   "metadata": {}
  },
  {
   "cell_type": "code",
   "execution_count": null,
   "source": [
    "pyplot.plot(result_with_mobility['mae'],label='mobility')\n",
    "pyplot.plot(result_without_mobility['mae'],label='no mobility')\n",
    "pyplot.legend(loc='best')\n",
    "pyplot.show()"
   ],
   "outputs": [],
   "metadata": {}
  },
  {
   "cell_type": "code",
   "execution_count": null,
   "source": [
    "df_date_index = frame_interesting_columns\n",
    "df_date_index.index = pd.to_datetime(df_date_index.index)\n",
    "\n",
    "def generate_intances(dataframe,days):\n",
    "    freq = '%iD' % days\n",
    "    result = dataframe.groupby(pd.Grouper(level='date',freq=freq)).mean()\n",
    "    return result\n",
    "\n",
    "instances = generate_intances(df_date_index,days=4)\n",
    "instances.shape"
   ],
   "outputs": [],
   "metadata": {}
  },
  {
   "cell_type": "code",
   "execution_count": null,
   "source": [
    "reduced_df = select_time_slot(\n",
    "    frame_interesting_columns,\n",
    "    '2021-01-01',\n",
    "    '2021-05-15',\n",
    ")"
   ],
   "outputs": [],
   "metadata": {}
  },
  {
   "cell_type": "code",
   "execution_count": null,
   "source": [
    "grangers_causation_matrix(frame_interesting_columns,variables=frame_interesting_columns.columns)"
   ],
   "outputs": [],
   "metadata": {}
  },
  {
   "cell_type": "code",
   "execution_count": null,
   "source": [
    "# totale_ospedalizzati breaks eigenvalues\n",
    "frame_interesting_columns_no_osp = frame_interesting_columns.drop(['totale_ospedalizzati'],axis=1)\n",
    "cointegration_test(frame_interesting_columns_no_osp)"
   ],
   "outputs": [],
   "metadata": {}
  },
  {
   "cell_type": "code",
   "execution_count": null,
   "source": [],
   "outputs": [],
   "metadata": {}
  }
 ],
 "metadata": {
  "kernelspec": {
   "name": "python3",
   "display_name": "Python 3.8.5 64-bit ('base': conda)"
  },
  "language_info": {
   "codemirror_mode": {
    "name": "ipython",
    "version": 3
   },
   "file_extension": ".py",
   "mimetype": "text/x-python",
   "name": "python",
   "nbconvert_exporter": "python",
   "pygments_lexer": "ipython3",
   "version": "3.8.5"
  },
  "metadata": {
   "interpreter": {
    "hash": "f85c0ae1067a86ad6a96b144378883e79fd1516474b579ba33ee3a7084540002"
   }
  },
  "interpreter": {
   "hash": "0e06ac8c649f3ed04bc800268062ef40baec1dd1a85446cc91f40648d236bef8"
  }
 },
 "nbformat": 4,
 "nbformat_minor": 4
}