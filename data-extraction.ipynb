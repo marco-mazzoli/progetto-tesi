{
 "metadata": {
  "language_info": {
   "codemirror_mode": {
    "name": "ipython",
    "version": 3
   },
   "file_extension": ".py",
   "mimetype": "text/x-python",
   "name": "python",
   "nbconvert_exporter": "python",
   "pygments_lexer": "ipython3",
   "version": "3.8.5"
  },
  "orig_nbformat": 2,
  "kernelspec": {
   "name": "python385jvsc74a57bd00e06ac8c649f3ed04bc800268062ef40baec1dd1a85446cc91f40648d236bef8",
   "display_name": "Python 3.8.5 64-bit ('base': conda)"
  }
 },
 "nbformat": 4,
 "nbformat_minor": 2,
 "cells": [
  {
   "cell_type": "code",
   "execution_count": 1,
   "metadata": {},
   "outputs": [],
   "source": [
    "import pandas as pd\n",
    "import numpy as np\n",
    "from datetime import date\n",
    "import csv \n",
    "import requests\n",
    "import glob\n",
    "from pandas import DataFrame\n",
    "from pandas import concat\n",
    "from util import read_multiple_csv, select_relevant_rows, series_to_supervised, select_attributes, read_movement_data"
   ]
  },
  {
   "cell_type": "code",
   "execution_count": 2,
   "metadata": {},
   "outputs": [],
   "source": [
    "url_regional_data = 'https://raw.githubusercontent.com/pcm-dpc/COVID-19/master/dati-regioni/dpc-covid19-ita-regioni-PLACEHOLDER.csv'\n",
    "path = r'/Users/marcomazzoli/Documents/Projects/COVID-19/dati-regioni'\n",
    "\n",
    "frame = read_multiple_csv(path)\n"
   ]
  },
  {
   "cell_type": "code",
   "execution_count": 3,
   "metadata": {},
   "outputs": [],
   "source": [
    "region_focus = 'Emilia-Romagna'\n",
    "attribute_focus = 'denominazione_regione'\n",
    "\n",
    "region_focus_data = select_relevant_rows(frame, attribute_focus, region_focus)\n",
    "#region_focus_data.head()"
   ]
  },
  {
   "cell_type": "code",
   "execution_count": 4,
   "metadata": {},
   "outputs": [],
   "source": [
    "frame_interesting_columns = select_attributes(region_focus_data, ['data', 'ricoverati_con_sintomi', 'terapia_intensiva', 'totale_ospedalizzati'])\n",
    "data = series_to_supervised(frame_interesting_columns, n_in=20, n_out=3)\n",
    "#print(data)"
   ]
  },
  {
   "cell_type": "code",
   "execution_count": 6,
   "metadata": {},
   "outputs": [],
   "source": [
    "frame_interesting_columns = pd.DataFrame(frame_interesting_columns)"
   ]
  },
  {
   "cell_type": "code",
   "execution_count": 7,
   "metadata": {},
   "outputs": [],
   "source": [
    "frame_interesting_columns['data'] = pd.to_datetime(frame_interesting_columns['data'])\n",
    "frame_interesting_columns['data'] = frame_interesting_columns['data'].dt.strftime(r'%Y-%m-%d')\n"
   ]
  },
  {
   "cell_type": "code",
   "execution_count": 8,
   "metadata": {},
   "outputs": [
    {
     "output_type": "execute_result",
     "data": {
      "text/plain": [
       "             data  ricoverati_con_sintomi  terapia_intensiva  \\\n",
       "4      2020-12-26                    2630                214   \n",
       "25     2021-03-17                    3542                381   \n",
       "46     2021-03-03                    2528                251   \n",
       "67     2021-04-16                    2365                313   \n",
       "88     2021-01-29                    2172                209   \n",
       "...           ...                     ...                ...   \n",
       "17476  2020-03-23                    2846                276   \n",
       "17497  2021-01-30                    2124                203   \n",
       "17518  2020-12-17                    2801                206   \n",
       "17539  2020-12-03                    2668                245   \n",
       "17560  2021-03-26                    3515                399   \n",
       "\n",
       "       totale_ospedalizzati  \n",
       "4                      2844  \n",
       "25                     3923  \n",
       "46                     2779  \n",
       "67                     2678  \n",
       "88                     2381  \n",
       "...                     ...  \n",
       "17476                  3122  \n",
       "17497                  2327  \n",
       "17518                  3007  \n",
       "17539                  2913  \n",
       "17560                  3914  \n",
       "\n",
       "[837 rows x 4 columns]"
      ],
      "text/html": "<div>\n<style scoped>\n    .dataframe tbody tr th:only-of-type {\n        vertical-align: middle;\n    }\n\n    .dataframe tbody tr th {\n        vertical-align: top;\n    }\n\n    .dataframe thead th {\n        text-align: right;\n    }\n</style>\n<table border=\"1\" class=\"dataframe\">\n  <thead>\n    <tr style=\"text-align: right;\">\n      <th></th>\n      <th>data</th>\n      <th>ricoverati_con_sintomi</th>\n      <th>terapia_intensiva</th>\n      <th>totale_ospedalizzati</th>\n    </tr>\n  </thead>\n  <tbody>\n    <tr>\n      <th>4</th>\n      <td>2020-12-26</td>\n      <td>2630</td>\n      <td>214</td>\n      <td>2844</td>\n    </tr>\n    <tr>\n      <th>25</th>\n      <td>2021-03-17</td>\n      <td>3542</td>\n      <td>381</td>\n      <td>3923</td>\n    </tr>\n    <tr>\n      <th>46</th>\n      <td>2021-03-03</td>\n      <td>2528</td>\n      <td>251</td>\n      <td>2779</td>\n    </tr>\n    <tr>\n      <th>67</th>\n      <td>2021-04-16</td>\n      <td>2365</td>\n      <td>313</td>\n      <td>2678</td>\n    </tr>\n    <tr>\n      <th>88</th>\n      <td>2021-01-29</td>\n      <td>2172</td>\n      <td>209</td>\n      <td>2381</td>\n    </tr>\n    <tr>\n      <th>...</th>\n      <td>...</td>\n      <td>...</td>\n      <td>...</td>\n      <td>...</td>\n    </tr>\n    <tr>\n      <th>17476</th>\n      <td>2020-03-23</td>\n      <td>2846</td>\n      <td>276</td>\n      <td>3122</td>\n    </tr>\n    <tr>\n      <th>17497</th>\n      <td>2021-01-30</td>\n      <td>2124</td>\n      <td>203</td>\n      <td>2327</td>\n    </tr>\n    <tr>\n      <th>17518</th>\n      <td>2020-12-17</td>\n      <td>2801</td>\n      <td>206</td>\n      <td>3007</td>\n    </tr>\n    <tr>\n      <th>17539</th>\n      <td>2020-12-03</td>\n      <td>2668</td>\n      <td>245</td>\n      <td>2913</td>\n    </tr>\n    <tr>\n      <th>17560</th>\n      <td>2021-03-26</td>\n      <td>3515</td>\n      <td>399</td>\n      <td>3914</td>\n    </tr>\n  </tbody>\n</table>\n<p>837 rows × 4 columns</p>\n</div>"
     },
     "metadata": {},
     "execution_count": 8
    }
   ],
   "source": [
    "frame_interesting_columns"
   ]
  },
  {
   "cell_type": "code",
   "execution_count": null,
   "metadata": {},
   "outputs": [],
   "source": [
    "\"\"\"\n",
    "DataSet crea istanze della serie temporale, con variabili parametriche, ogni istanza ha i valori considerati (da file DataSet) per un valore parametrico di giorni antecedenti.\n",
    "Provincia (regione) (si puo’ scendere per comune nel caso sia disponibile, ma se i valori sono inferiori a 30 difficile fare training).\n",
    "Età in fasce (se disponibile, lavorare per fasce, numero per fascia considerata, almeno 4-5). (Assente da protezione civile.)\n",
    "Genere (in due variabili, numero uomini, numero donne, se presente da dati IRST). (Assente da protezione civile.)\n",
    "Numero di tamponi effettuati (tasso ogni 100.000 residenti).\n",
    "Numero di tamponi effettuati su nuovi soggetti (tasso ogni 100.000 residenti).\n",
    "Numero di tamponi positivi su nuovi soggetti (tasso ogni 100.000 residenti).\n",
    "Numero di tamponi positivi su totale tamponi effettuati (tasso ogni 100.000 residenti).\n",
    "Popolazione residente.\n",
    "Densità di popolazione.\n",
    "Dati mobilita’ di Google.\n",
    "\n",
    "Output\n",
    "Numero di pazienti ricoverati (tasso ogni 100.000 residenti).\n",
    "Numero di pazienti ricoverati in terapia intensiva (tasso ogni 100.000 residenti).\n",
    "Numero di decessi (tasso ogni 100.000 residenti).\n",
    "\"\"\""
   ]
  },
  {
   "cell_type": "code",
   "execution_count": 9,
   "metadata": {},
   "outputs": [],
   "source": [
    "path = '/Users/marcomazzoli/Documents/Scuola/Region_Mobility_Report_CSVs'\n",
    "df = read_movement_data(path, 'IT_Region_Mobility_Report', region='Emilia-Romagna')"
   ]
  },
  {
   "cell_type": "code",
   "execution_count": null,
   "metadata": {},
   "outputs": [],
   "source": [
    "df"
   ]
  },
  {
   "cell_type": "code",
   "execution_count": 10,
   "metadata": {},
   "outputs": [],
   "source": [
    "df = df[['date',\n",
    "            'retail_and_recreation_percent_change_from_baseline',\n",
    "            'grocery_and_pharmacy_percent_change_from_baseline',\n",
    "            'parks_percent_change_from_baseline',\n",
    "            'transit_stations_percent_change_from_baseline',\n",
    "            'workplaces_percent_change_from_baseline',\n",
    "            'residential_percent_change_from_baseline']]"
   ]
  },
  {
   "cell_type": "code",
   "execution_count": 11,
   "metadata": {},
   "outputs": [
    {
     "output_type": "execute_result",
     "data": {
      "text/plain": [
       "             date  retail_and_recreation_percent_change_from_baseline  \\\n",
       "2697   2021-01-01                                              -90.0    \n",
       "2698   2021-01-02                                              -71.0    \n",
       "2699   2021-01-03                                              -74.0    \n",
       "2700   2021-01-04                                              -24.0    \n",
       "2701   2021-01-05                                              -52.0    \n",
       "...           ...                                                ...    \n",
       "21436  2020-12-27                                              -74.0    \n",
       "21437  2020-12-28                                              -35.0    \n",
       "21438  2020-12-29                                              -31.0    \n",
       "21439  2020-12-30                                              -27.0    \n",
       "21440  2020-12-31                                              -54.0    \n",
       "\n",
       "       grocery_and_pharmacy_percent_change_from_baseline  \\\n",
       "2697                                               -93.0   \n",
       "2698                                               -32.0   \n",
       "2699                                               -43.0   \n",
       "2700                                                19.0   \n",
       "2701                                                 2.0   \n",
       "...                                                  ...   \n",
       "21436                                              -26.0   \n",
       "21437                                                0.0   \n",
       "21438                                               13.0   \n",
       "21439                                               36.0   \n",
       "21440                                                6.0   \n",
       "\n",
       "       parks_percent_change_from_baseline  \\\n",
       "2697                                -67.0   \n",
       "2698                                -63.0   \n",
       "2699                                -43.0   \n",
       "2700                                  1.0   \n",
       "2701                                -46.0   \n",
       "...                                   ...   \n",
       "21436                               -46.0   \n",
       "21437                               -35.0   \n",
       "21438                                -9.0   \n",
       "21439                               -22.0   \n",
       "21440                               -23.0   \n",
       "\n",
       "       transit_stations_percent_change_from_baseline  \\\n",
       "2697                                           -84.0   \n",
       "2698                                           -70.0   \n",
       "2699                                           -64.0   \n",
       "2700                                           -45.0   \n",
       "2701                                           -60.0   \n",
       "...                                              ...   \n",
       "21436                                          -65.0   \n",
       "21437                                          -53.0   \n",
       "21438                                          -49.0   \n",
       "21439                                          -48.0   \n",
       "21440                                          -62.0   \n",
       "\n",
       "       workplaces_percent_change_from_baseline  \\\n",
       "2697                                     -88.0   \n",
       "2698                                     -52.0   \n",
       "2699                                     -30.0   \n",
       "2700                                     -41.0   \n",
       "2701                                     -49.0   \n",
       "...                                        ...   \n",
       "21436                                    -30.0   \n",
       "21437                                    -47.0   \n",
       "21438                                    -46.0   \n",
       "21439                                    -47.0   \n",
       "21440                                    -66.0   \n",
       "\n",
       "       residential_percent_change_from_baseline  \n",
       "2697                                       37.0  \n",
       "2698                                       23.0  \n",
       "2699                                       16.0  \n",
       "2700                                       16.0  \n",
       "2701                                       23.0  \n",
       "...                                         ...  \n",
       "21436                                      15.0  \n",
       "21437                                      20.0  \n",
       "21438                                      19.0  \n",
       "21439                                      18.0  \n",
       "21440                                      27.0  \n",
       "\n",
       "[414 rows x 7 columns]"
      ],
      "text/html": "<div>\n<style scoped>\n    .dataframe tbody tr th:only-of-type {\n        vertical-align: middle;\n    }\n\n    .dataframe tbody tr th {\n        vertical-align: top;\n    }\n\n    .dataframe thead th {\n        text-align: right;\n    }\n</style>\n<table border=\"1\" class=\"dataframe\">\n  <thead>\n    <tr style=\"text-align: right;\">\n      <th></th>\n      <th>date</th>\n      <th>retail_and_recreation_percent_change_from_baseline</th>\n      <th>grocery_and_pharmacy_percent_change_from_baseline</th>\n      <th>parks_percent_change_from_baseline</th>\n      <th>transit_stations_percent_change_from_baseline</th>\n      <th>workplaces_percent_change_from_baseline</th>\n      <th>residential_percent_change_from_baseline</th>\n    </tr>\n  </thead>\n  <tbody>\n    <tr>\n      <th>2697</th>\n      <td>2021-01-01</td>\n      <td>-90.0</td>\n      <td>-93.0</td>\n      <td>-67.0</td>\n      <td>-84.0</td>\n      <td>-88.0</td>\n      <td>37.0</td>\n    </tr>\n    <tr>\n      <th>2698</th>\n      <td>2021-01-02</td>\n      <td>-71.0</td>\n      <td>-32.0</td>\n      <td>-63.0</td>\n      <td>-70.0</td>\n      <td>-52.0</td>\n      <td>23.0</td>\n    </tr>\n    <tr>\n      <th>2699</th>\n      <td>2021-01-03</td>\n      <td>-74.0</td>\n      <td>-43.0</td>\n      <td>-43.0</td>\n      <td>-64.0</td>\n      <td>-30.0</td>\n      <td>16.0</td>\n    </tr>\n    <tr>\n      <th>2700</th>\n      <td>2021-01-04</td>\n      <td>-24.0</td>\n      <td>19.0</td>\n      <td>1.0</td>\n      <td>-45.0</td>\n      <td>-41.0</td>\n      <td>16.0</td>\n    </tr>\n    <tr>\n      <th>2701</th>\n      <td>2021-01-05</td>\n      <td>-52.0</td>\n      <td>2.0</td>\n      <td>-46.0</td>\n      <td>-60.0</td>\n      <td>-49.0</td>\n      <td>23.0</td>\n    </tr>\n    <tr>\n      <th>...</th>\n      <td>...</td>\n      <td>...</td>\n      <td>...</td>\n      <td>...</td>\n      <td>...</td>\n      <td>...</td>\n      <td>...</td>\n    </tr>\n    <tr>\n      <th>21436</th>\n      <td>2020-12-27</td>\n      <td>-74.0</td>\n      <td>-26.0</td>\n      <td>-46.0</td>\n      <td>-65.0</td>\n      <td>-30.0</td>\n      <td>15.0</td>\n    </tr>\n    <tr>\n      <th>21437</th>\n      <td>2020-12-28</td>\n      <td>-35.0</td>\n      <td>0.0</td>\n      <td>-35.0</td>\n      <td>-53.0</td>\n      <td>-47.0</td>\n      <td>20.0</td>\n    </tr>\n    <tr>\n      <th>21438</th>\n      <td>2020-12-29</td>\n      <td>-31.0</td>\n      <td>13.0</td>\n      <td>-9.0</td>\n      <td>-49.0</td>\n      <td>-46.0</td>\n      <td>19.0</td>\n    </tr>\n    <tr>\n      <th>21439</th>\n      <td>2020-12-30</td>\n      <td>-27.0</td>\n      <td>36.0</td>\n      <td>-22.0</td>\n      <td>-48.0</td>\n      <td>-47.0</td>\n      <td>18.0</td>\n    </tr>\n    <tr>\n      <th>21440</th>\n      <td>2020-12-31</td>\n      <td>-54.0</td>\n      <td>6.0</td>\n      <td>-23.0</td>\n      <td>-62.0</td>\n      <td>-66.0</td>\n      <td>27.0</td>\n    </tr>\n  </tbody>\n</table>\n<p>414 rows × 7 columns</p>\n</div>"
     },
     "metadata": {},
     "execution_count": 11
    }
   ],
   "source": [
    "df"
   ]
  },
  {
   "cell_type": "code",
   "execution_count": 12,
   "metadata": {},
   "outputs": [],
   "source": [
    "frame_interesting_columns.rename(columns={'data': 'date'}, inplace=True)"
   ]
  },
  {
   "cell_type": "code",
   "execution_count": 13,
   "metadata": {},
   "outputs": [],
   "source": [
    "merged = pd.merge(frame_interesting_columns,df,how='outer',on='date')\n"
   ]
  },
  {
   "cell_type": "code",
   "execution_count": 26,
   "metadata": {},
   "outputs": [],
   "source": [
    "frame_interesting_columns.set_index('date',inplace=True)\n",
    "df.set_index('date',inplace=True)"
   ]
  },
  {
   "cell_type": "code",
   "execution_count": 25,
   "metadata": {},
   "outputs": [
    {
     "output_type": "execute_result",
     "data": {
      "text/plain": [
       "            ricoverati_con_sintomi  terapia_intensiva  totale_ospedalizzati\n",
       "date                                                                       \n",
       "2020-12-26                    2630                214                  2844\n",
       "2021-03-17                    3542                381                  3923\n",
       "2021-03-03                    2528                251                  2779\n",
       "2021-04-16                    2365                313                  2678\n",
       "2021-01-29                    2172                209                  2381\n",
       "...                            ...                ...                   ...\n",
       "2020-03-23                    2846                276                  3122\n",
       "2021-01-30                    2124                203                  2327\n",
       "2020-12-17                    2801                206                  3007\n",
       "2020-12-03                    2668                245                  2913\n",
       "2021-03-26                    3515                399                  3914\n",
       "\n",
       "[837 rows x 3 columns]"
      ],
      "text/html": "<div>\n<style scoped>\n    .dataframe tbody tr th:only-of-type {\n        vertical-align: middle;\n    }\n\n    .dataframe tbody tr th {\n        vertical-align: top;\n    }\n\n    .dataframe thead th {\n        text-align: right;\n    }\n</style>\n<table border=\"1\" class=\"dataframe\">\n  <thead>\n    <tr style=\"text-align: right;\">\n      <th></th>\n      <th>ricoverati_con_sintomi</th>\n      <th>terapia_intensiva</th>\n      <th>totale_ospedalizzati</th>\n    </tr>\n    <tr>\n      <th>date</th>\n      <th></th>\n      <th></th>\n      <th></th>\n    </tr>\n  </thead>\n  <tbody>\n    <tr>\n      <th>2020-12-26</th>\n      <td>2630</td>\n      <td>214</td>\n      <td>2844</td>\n    </tr>\n    <tr>\n      <th>2021-03-17</th>\n      <td>3542</td>\n      <td>381</td>\n      <td>3923</td>\n    </tr>\n    <tr>\n      <th>2021-03-03</th>\n      <td>2528</td>\n      <td>251</td>\n      <td>2779</td>\n    </tr>\n    <tr>\n      <th>2021-04-16</th>\n      <td>2365</td>\n      <td>313</td>\n      <td>2678</td>\n    </tr>\n    <tr>\n      <th>2021-01-29</th>\n      <td>2172</td>\n      <td>209</td>\n      <td>2381</td>\n    </tr>\n    <tr>\n      <th>...</th>\n      <td>...</td>\n      <td>...</td>\n      <td>...</td>\n    </tr>\n    <tr>\n      <th>2020-03-23</th>\n      <td>2846</td>\n      <td>276</td>\n      <td>3122</td>\n    </tr>\n    <tr>\n      <th>2021-01-30</th>\n      <td>2124</td>\n      <td>203</td>\n      <td>2327</td>\n    </tr>\n    <tr>\n      <th>2020-12-17</th>\n      <td>2801</td>\n      <td>206</td>\n      <td>3007</td>\n    </tr>\n    <tr>\n      <th>2020-12-03</th>\n      <td>2668</td>\n      <td>245</td>\n      <td>2913</td>\n    </tr>\n    <tr>\n      <th>2021-03-26</th>\n      <td>3515</td>\n      <td>399</td>\n      <td>3914</td>\n    </tr>\n  </tbody>\n</table>\n<p>837 rows × 3 columns</p>\n</div>"
     },
     "metadata": {},
     "execution_count": 25
    }
   ],
   "source": []
  },
  {
   "cell_type": "code",
   "execution_count": 27,
   "metadata": {},
   "outputs": [],
   "source": [
    "merged = pd.merge(frame_interesting_columns,df,on='date')\n"
   ]
  },
  {
   "cell_type": "code",
   "execution_count": 28,
   "metadata": {},
   "outputs": [
    {
     "output_type": "execute_result",
     "data": {
      "text/plain": [
       "            ricoverati_con_sintomi  terapia_intensiva  totale_ospedalizzati  \\\n",
       "date                                                                          \n",
       "2020-12-26                    2630                214                  2844   \n",
       "2020-12-26                    2630                214                  2844   \n",
       "2021-03-17                    3542                381                  3923   \n",
       "2021-03-17                    3542                381                  3923   \n",
       "2021-03-03                    2528                251                  2779   \n",
       "...                            ...                ...                   ...   \n",
       "2021-04-01                    3337                381                  3718   \n",
       "2021-04-02                    3299                371                  3670   \n",
       "2021-04-02                    3299                371                  3670   \n",
       "2021-04-03                    3181                366                  3547   \n",
       "2021-04-03                    3181                366                  3547   \n",
       "\n",
       "            retail_and_recreation_percent_change_from_baseline  \\\n",
       "date                                                             \n",
       "2020-12-26                                              -88.0    \n",
       "2020-12-26                                              -88.0    \n",
       "2021-03-17                                              -47.0    \n",
       "2021-03-17                                              -47.0    \n",
       "2021-03-03                                              -33.0    \n",
       "...                                                       ...    \n",
       "2021-04-01                                              -36.0    \n",
       "2021-04-02                                              -37.0    \n",
       "2021-04-02                                              -37.0    \n",
       "2021-04-03                                              -50.0    \n",
       "2021-04-03                                              -50.0    \n",
       "\n",
       "            grocery_and_pharmacy_percent_change_from_baseline  \\\n",
       "date                                                            \n",
       "2020-12-26                                              -86.0   \n",
       "2020-12-26                                              -86.0   \n",
       "2021-03-17                                               -6.0   \n",
       "2021-03-17                                               -6.0   \n",
       "2021-03-03                                                6.0   \n",
       "...                                                       ...   \n",
       "2021-04-01                                               12.0   \n",
       "2021-04-02                                               26.0   \n",
       "2021-04-02                                               26.0   \n",
       "2021-04-03                                               15.0   \n",
       "2021-04-03                                               15.0   \n",
       "\n",
       "            parks_percent_change_from_baseline  \\\n",
       "date                                             \n",
       "2020-12-26                               -61.0   \n",
       "2020-12-26                               -61.0   \n",
       "2021-03-17                                -4.0   \n",
       "2021-03-17                                -4.0   \n",
       "2021-03-03                                 7.0   \n",
       "...                                        ...   \n",
       "2021-04-01                                24.0   \n",
       "2021-04-02                                15.0   \n",
       "2021-04-02                                15.0   \n",
       "2021-04-03                               -30.0   \n",
       "2021-04-03                               -30.0   \n",
       "\n",
       "            transit_stations_percent_change_from_baseline  \\\n",
       "date                                                        \n",
       "2020-12-26                                          -77.0   \n",
       "2020-12-26                                          -77.0   \n",
       "2021-03-17                                          -51.0   \n",
       "2021-03-17                                          -51.0   \n",
       "2021-03-03                                          -40.0   \n",
       "...                                                   ...   \n",
       "2021-04-01                                          -43.0   \n",
       "2021-04-02                                          -46.0   \n",
       "2021-04-02                                          -46.0   \n",
       "2021-04-03                                          -54.0   \n",
       "2021-04-03                                          -54.0   \n",
       "\n",
       "            workplaces_percent_change_from_baseline  \\\n",
       "date                                                  \n",
       "2020-12-26                                    -72.0   \n",
       "2020-12-26                                    -72.0   \n",
       "2021-03-17                                    -28.0   \n",
       "2021-03-17                                    -28.0   \n",
       "2021-03-03                                    -21.0   \n",
       "...                                             ...   \n",
       "2021-04-01                                    -27.0   \n",
       "2021-04-02                                    -32.0   \n",
       "2021-04-02                                    -32.0   \n",
       "2021-04-03                                    -38.0   \n",
       "2021-04-03                                    -38.0   \n",
       "\n",
       "            residential_percent_change_from_baseline  \n",
       "date                                                  \n",
       "2020-12-26                                      25.0  \n",
       "2020-12-26                                      25.0  \n",
       "2021-03-17                                      15.0  \n",
       "2021-03-17                                      15.0  \n",
       "2021-03-03                                      11.0  \n",
       "...                                              ...  \n",
       "2021-04-01                                      12.0  \n",
       "2021-04-02                                      14.0  \n",
       "2021-04-02                                      14.0  \n",
       "2021-04-03                                      14.0  \n",
       "2021-04-03                                      14.0  \n",
       "\n",
       "[810 rows x 9 columns]"
      ],
      "text/html": "<div>\n<style scoped>\n    .dataframe tbody tr th:only-of-type {\n        vertical-align: middle;\n    }\n\n    .dataframe tbody tr th {\n        vertical-align: top;\n    }\n\n    .dataframe thead th {\n        text-align: right;\n    }\n</style>\n<table border=\"1\" class=\"dataframe\">\n  <thead>\n    <tr style=\"text-align: right;\">\n      <th></th>\n      <th>ricoverati_con_sintomi</th>\n      <th>terapia_intensiva</th>\n      <th>totale_ospedalizzati</th>\n      <th>retail_and_recreation_percent_change_from_baseline</th>\n      <th>grocery_and_pharmacy_percent_change_from_baseline</th>\n      <th>parks_percent_change_from_baseline</th>\n      <th>transit_stations_percent_change_from_baseline</th>\n      <th>workplaces_percent_change_from_baseline</th>\n      <th>residential_percent_change_from_baseline</th>\n    </tr>\n    <tr>\n      <th>date</th>\n      <th></th>\n      <th></th>\n      <th></th>\n      <th></th>\n      <th></th>\n      <th></th>\n      <th></th>\n      <th></th>\n      <th></th>\n    </tr>\n  </thead>\n  <tbody>\n    <tr>\n      <th>2020-12-26</th>\n      <td>2630</td>\n      <td>214</td>\n      <td>2844</td>\n      <td>-88.0</td>\n      <td>-86.0</td>\n      <td>-61.0</td>\n      <td>-77.0</td>\n      <td>-72.0</td>\n      <td>25.0</td>\n    </tr>\n    <tr>\n      <th>2020-12-26</th>\n      <td>2630</td>\n      <td>214</td>\n      <td>2844</td>\n      <td>-88.0</td>\n      <td>-86.0</td>\n      <td>-61.0</td>\n      <td>-77.0</td>\n      <td>-72.0</td>\n      <td>25.0</td>\n    </tr>\n    <tr>\n      <th>2021-03-17</th>\n      <td>3542</td>\n      <td>381</td>\n      <td>3923</td>\n      <td>-47.0</td>\n      <td>-6.0</td>\n      <td>-4.0</td>\n      <td>-51.0</td>\n      <td>-28.0</td>\n      <td>15.0</td>\n    </tr>\n    <tr>\n      <th>2021-03-17</th>\n      <td>3542</td>\n      <td>381</td>\n      <td>3923</td>\n      <td>-47.0</td>\n      <td>-6.0</td>\n      <td>-4.0</td>\n      <td>-51.0</td>\n      <td>-28.0</td>\n      <td>15.0</td>\n    </tr>\n    <tr>\n      <th>2021-03-03</th>\n      <td>2528</td>\n      <td>251</td>\n      <td>2779</td>\n      <td>-33.0</td>\n      <td>6.0</td>\n      <td>7.0</td>\n      <td>-40.0</td>\n      <td>-21.0</td>\n      <td>11.0</td>\n    </tr>\n    <tr>\n      <th>...</th>\n      <td>...</td>\n      <td>...</td>\n      <td>...</td>\n      <td>...</td>\n      <td>...</td>\n      <td>...</td>\n      <td>...</td>\n      <td>...</td>\n      <td>...</td>\n    </tr>\n    <tr>\n      <th>2021-04-01</th>\n      <td>3337</td>\n      <td>381</td>\n      <td>3718</td>\n      <td>-36.0</td>\n      <td>12.0</td>\n      <td>24.0</td>\n      <td>-43.0</td>\n      <td>-27.0</td>\n      <td>12.0</td>\n    </tr>\n    <tr>\n      <th>2021-04-02</th>\n      <td>3299</td>\n      <td>371</td>\n      <td>3670</td>\n      <td>-37.0</td>\n      <td>26.0</td>\n      <td>15.0</td>\n      <td>-46.0</td>\n      <td>-32.0</td>\n      <td>14.0</td>\n    </tr>\n    <tr>\n      <th>2021-04-02</th>\n      <td>3299</td>\n      <td>371</td>\n      <td>3670</td>\n      <td>-37.0</td>\n      <td>26.0</td>\n      <td>15.0</td>\n      <td>-46.0</td>\n      <td>-32.0</td>\n      <td>14.0</td>\n    </tr>\n    <tr>\n      <th>2021-04-03</th>\n      <td>3181</td>\n      <td>366</td>\n      <td>3547</td>\n      <td>-50.0</td>\n      <td>15.0</td>\n      <td>-30.0</td>\n      <td>-54.0</td>\n      <td>-38.0</td>\n      <td>14.0</td>\n    </tr>\n    <tr>\n      <th>2021-04-03</th>\n      <td>3181</td>\n      <td>366</td>\n      <td>3547</td>\n      <td>-50.0</td>\n      <td>15.0</td>\n      <td>-30.0</td>\n      <td>-54.0</td>\n      <td>-38.0</td>\n      <td>14.0</td>\n    </tr>\n  </tbody>\n</table>\n<p>810 rows × 9 columns</p>\n</div>"
     },
     "metadata": {},
     "execution_count": 28
    }
   ],
   "source": [
    "merged"
   ]
  },
  {
   "cell_type": "code",
   "execution_count": null,
   "metadata": {},
   "outputs": [],
   "source": []
  }
 ]
}