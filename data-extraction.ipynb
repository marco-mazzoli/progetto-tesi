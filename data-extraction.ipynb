{
 "metadata": {
  "language_info": {
   "codemirror_mode": {
    "name": "ipython",
    "version": 3
   },
   "file_extension": ".py",
   "mimetype": "text/x-python",
   "name": "python",
   "nbconvert_exporter": "python",
   "pygments_lexer": "ipython3",
   "version": "3.8.5"
  },
  "orig_nbformat": 2,
  "kernelspec": {
   "name": "python385jvsc74a57bd00e06ac8c649f3ed04bc800268062ef40baec1dd1a85446cc91f40648d236bef8",
   "display_name": "Python 3.8.5 64-bit ('base': conda)"
  }
 },
 "nbformat": 4,
 "nbformat_minor": 2,
 "cells": [
  {
   "cell_type": "code",
   "execution_count": null,
   "metadata": {},
   "outputs": [],
   "source": [
    "import pandas as pd\n",
    "import numpy as np\n",
    "from datetime import date\n",
    "import csv \n",
    "import requests\n",
    "import glob\n",
    "from pandas import DataFrame\n",
    "from pandas import concat\n",
    "from matplotlib import pyplot\n",
    "from util import  select_relevant_rows, series_to_supervised, select_attributes, read_movement_data, read_multiple_csv"
   ]
  },
  {
   "source": [
    "path = r'/Users/marcomazzoli/Documents/Projects/COVID-19/dati-regioni/dpc-covid19-ita-regioni.csv'\n",
    "\n",
    "frame = pd.read_csv(path)"
   ],
   "cell_type": "code",
   "metadata": {},
   "execution_count": null,
   "outputs": []
  },
  {
   "cell_type": "code",
   "execution_count": null,
   "metadata": {},
   "outputs": [],
   "source": [
    "region_focus = 'Emilia-Romagna'\n",
    "attribute_focus = 'denominazione_regione'\n",
    "\n",
    "region_focus_data = select_relevant_rows(frame, attribute_focus, region_focus)"
   ]
  },
  {
   "cell_type": "code",
   "execution_count": null,
   "metadata": {},
   "outputs": [],
   "source": [
    "list(region_focus_data)"
   ]
  },
  {
   "cell_type": "code",
   "execution_count": null,
   "metadata": {},
   "outputs": [],
   "source": [
    "frame_interesting_columns = select_attributes(region_focus_data, ['data', 'ricoverati_con_sintomi', 'terapia_intensiva', 'totale_ospedalizzati', 'variazione_totale_positivi', 'nuovi_positivi', 'deceduti', 'tamponi', 'ingressi_terapia_intensiva'])\n",
    "data = series_to_supervised(frame_interesting_columns, n_in=20, n_out=3)"
   ]
  },
  {
   "cell_type": "code",
   "execution_count": null,
   "metadata": {},
   "outputs": [],
   "source": [
    "frame_interesting_columns"
   ]
  },
  {
   "cell_type": "code",
   "execution_count": null,
   "metadata": {},
   "outputs": [],
   "source": [
    "frame_interesting_columns = pd.DataFrame(frame_interesting_columns)\n",
    "frame_interesting_columns['data'] = pd.to_datetime(frame_interesting_columns['data'])\n",
    "frame_interesting_columns['data'] = frame_interesting_columns['data'].dt.strftime(r'%Y-%m-%d')\n"
   ]
  },
  {
   "cell_type": "code",
   "execution_count": null,
   "metadata": {},
   "outputs": [],
   "source": [
    "\"\"\"\n",
    "DataSet crea istanze della serie temporale, con variabili parametriche, ogni istanza ha i valori considerati (da file DataSet) per un valore parametrico di giorni antecedenti.\n",
    "Provincia (regione) (si puo’ scendere per comune nel caso sia disponibile, ma se i valori sono inferiori a 30 difficile fare training).\n",
    "Età in fasce (se disponibile, lavorare per fasce, numero per fascia considerata, almeno 4-5). (Assente da protezione civile.)\n",
    "Genere (in due variabili, numero uomini, numero donne, se presente da dati IRST). (Assente da protezione civile.)\n",
    "Numero di tamponi effettuati (tasso ogni 100.000 residenti).\n",
    "Numero di tamponi effettuati su nuovi soggetti (tasso ogni 100.000 residenti).\n",
    "Numero di tamponi positivi su nuovi soggetti (tasso ogni 100.000 residenti).\n",
    "Numero di tamponi positivi su totale tamponi effettuati (tasso ogni 100.000 residenti).\n",
    "Popolazione residente.\n",
    "Densità di popolazione.\n",
    "Dati mobilita’ di Google.\n",
    "\n",
    "Output\n",
    "Numero di pazienti ricoverati (tasso ogni 100.000 residenti).\n",
    "Numero di pazienti ricoverati in terapia intensiva (tasso ogni 100.000 residenti).\n",
    "Numero di decessi (tasso ogni 100.000 residenti).\n",
    "\"\"\""
   ]
  },
  {
   "cell_type": "code",
   "execution_count": null,
   "metadata": {},
   "outputs": [],
   "source": [
    "path = '/Users/marcomazzoli/Documents/Scuola/Region_Mobility_Report_CSVs'\n",
    "df = read_movement_data(path, 'IT_Region_Mobility_Report', region='Emilia-Romagna')"
   ]
  },
  {
   "cell_type": "code",
   "execution_count": null,
   "metadata": {},
   "outputs": [],
   "source": [
    "list(df)"
   ]
  },
  {
   "cell_type": "code",
   "execution_count": null,
   "metadata": {},
   "outputs": [],
   "source": [
    "df = df[['date',\n",
    "            'retail_and_recreation_percent_change_from_baseline',\n",
    "            'grocery_and_pharmacy_percent_change_from_baseline',\n",
    "            'parks_percent_change_from_baseline',\n",
    "            'transit_stations_percent_change_from_baseline',\n",
    "            'workplaces_percent_change_from_baseline',\n",
    "            'residential_percent_change_from_baseline']]"
   ]
  },
  {
   "cell_type": "code",
   "execution_count": null,
   "metadata": {},
   "outputs": [],
   "source": [
    "df.head()"
   ]
  },
  {
   "cell_type": "code",
   "execution_count": null,
   "metadata": {},
   "outputs": [],
   "source": [
    "frame_interesting_columns.rename(columns={'data': 'date'}, inplace=True)"
   ]
  },
  {
   "cell_type": "code",
   "execution_count": null,
   "metadata": {},
   "outputs": [],
   "source": [
    "merged = pd.merge(frame_interesting_columns,df,how='outer',on='date')"
   ]
  },
  {
   "cell_type": "code",
   "execution_count": null,
   "metadata": {},
   "outputs": [],
   "source": [
    "frame_interesting_columns.set_index('date',inplace=True)\n",
    "df.set_index('date',inplace=True)"
   ]
  },
  {
   "cell_type": "code",
   "execution_count": null,
   "metadata": {},
   "outputs": [],
   "source": [
    "frame_interesting_columns.head()"
   ]
  },
  {
   "cell_type": "code",
   "execution_count": null,
   "metadata": {},
   "outputs": [],
   "source": [
    "merged = pd.merge(frame_interesting_columns,df,on='date')"
   ]
  },
  {
   "cell_type": "code",
   "execution_count": null,
   "metadata": {},
   "outputs": [],
   "source": [
    "list(merged)"
   ]
  },
  {
   "cell_type": "code",
   "execution_count": null,
   "metadata": {},
   "outputs": [],
   "source": [
    "merged.head()"
   ]
  },
  {
   "cell_type": "code",
   "execution_count": null,
   "metadata": {},
   "outputs": [],
   "source": [
    "dataset = merged\n",
    "values = merged.values\n",
    "\n",
    "groups = range(21)\n",
    "i = 1\n",
    "pyplot.figure()\n",
    "for group in groups:\n",
    "\tpyplot.subplot(len(groups), 1, i)\n",
    "\tpyplot.plot(values[:, group])\n",
    "\tpyplot.title(dataset.columns[group], y=0.5, loc='right')\n",
    "\ti += 1\n",
    "pyplot.show()"
   ]
  },
  {
   "cell_type": "code",
   "execution_count": null,
   "metadata": {},
   "outputs": [],
   "source": []
  }
 ]
}