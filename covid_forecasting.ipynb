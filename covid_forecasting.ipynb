{
  "nbformat": 4,
  "nbformat_minor": 2,
  "metadata": {
    "kernelspec": {
      "name": "python3",
      "display_name": "Python 3.7.11 64-bit ('tf': conda)"
    },
    "language_info": {
      "name": "python",
      "version": "3.7.11",
      "mimetype": "text/x-python",
      "codemirror_mode": {
        "name": "ipython",
        "version": 3
      },
      "pygments_lexer": "ipython3",
      "nbconvert_exporter": "python",
      "file_extension": ".py"
    },
    "metadata": {
      "interpreter": {
        "hash": "f85c0ae1067a86ad6a96b144378883e79fd1516474b579ba33ee3a7084540002"
      }
    },
    "interpreter": {
      "hash": "1c7e388e2ed574d750f7b34bb7f79b568612e5c2dbb821bdb25fb5e93abee03f"
    },
    "colab": {
      "name": "covid_forecasting.ipynb",
      "provenance": []
    }
  },
  "cells": [
    {
      "cell_type": "code",
      "execution_count": null,
      "source": [
        "import pandas as pd\n",
        "import numpy as np\n",
        "from matplotlib import pyplot\n",
        "import seaborn as sns\n",
        "import tensorflow as tf\n",
        "import IPython\n",
        "import IPython.display\n",
        "from statsmodels.tsa.vector_ar.var_model import VAR\n",
        "import sklearn\n",
        "from sklearn.model_selection import TimeSeriesSplit\n",
        "from tensorflow.keras.models import Sequential\n",
        "from tensorflow.keras.layers import Dense, Dropout, LSTM\n",
        "from sklearn.metrics import mean_absolute_error\n",
        "from sklearn.preprocessing import MinMaxScaler\n",
        "from statsmodels.tsa.vector_ar.var_model import VAR\n",
        "\n",
        "# fix for 'package not found' when installing in Anaconda environment\n",
        "if 'google.colab' not in str(get_ipython()):\n",
        "    import pip\n",
        "    pip.main(['install', 'xgboost'])\n",
        "\n",
        "if 'google.colab' in str(get_ipython()):\n",
        "  !rm util.py\n",
        "  !rm window.py\n",
        "  !rm models.py\n",
        "  !wget https://raw.githubusercontent.com/marco-mazzoli/progetto-tesi/master/util.py\n",
        "  !wget https://raw.githubusercontent.com/marco-mazzoli/progetto-tesi/master/windows.py\n",
        "  !wget https://raw.githubusercontent.com/marco-mazzoli/progetto-tesi/master/models.py\n",
        "\n",
        "from xgboost import XGBRegressor\n",
        "from util import select_relevant_rows, select_attributes, read_movement_data,download_updated_mobility_data, download_updated_mobility_data, series_to_supervised\n",
        "from windows import WindowGenerator\n",
        "from models import MultiStepLastBaseline"
      ],
      "outputs": [],
      "metadata": {
        "id": "VSEhcEI602Qp",
        "colab": {
          "base_uri": "https://localhost:8080/"
        },
        "outputId": "237f98aa-d7be-4efc-d0cf-f457712daaaf"
      }
    },
    {
      "cell_type": "markdown",
      "source": [
        "# Data Acquisition and Data Preparation"
      ],
      "metadata": {
        "id": "-_laukLF02RI"
      }
    },
    {
      "cell_type": "code",
      "execution_count": null,
      "source": [
        "local_region_path = r'../COVID-19/dati-regioni/dpc-covid19-ita-regioni.csv'\n",
        "remote_region_path = r'https://raw.githubusercontent.com/pcm-dpc/COVID-19/master/dati-regioni/dpc-covid19-ita-regioni.csv'\n",
        "\n",
        "regions_frame = pd.read_csv(remote_region_path)"
      ],
      "outputs": [],
      "metadata": {
        "id": "jH7mmQes02RO"
      }
    },
    {
      "cell_type": "code",
      "execution_count": null,
      "source": [
        "region_focus = 'Emilia-Romagna'\n",
        "attribute_focus = 'denominazione_regione'\n",
        "\n",
        "region_focus_data = select_relevant_rows(\n",
        "    regions_frame,\n",
        "    attribute_focus,\n",
        "    region_focus\n",
        "    )"
      ],
      "outputs": [],
      "metadata": {
        "id": "PUYXkpT902RQ"
      }
    },
    {
      "cell_type": "code",
      "execution_count": null,
      "source": [
        "frame_interesting_columns = select_attributes(region_focus_data, [\n",
        "    'data',\n",
        "    'ricoverati_con_sintomi',\n",
        "    'terapia_intensiva',\n",
        "    'totale_ospedalizzati',\n",
        "    'variazione_totale_positivi',\n",
        "    'nuovi_positivi',\n",
        "    'deceduti',\n",
        "    'tamponi',\n",
        "    'ingressi_terapia_intensiva'\n",
        "    ])"
      ],
      "outputs": [],
      "metadata": {
        "id": "e6-D1als02RU"
      }
    },
    {
      "cell_type": "code",
      "execution_count": null,
      "source": [
        "frame_interesting_columns.tail()"
      ],
      "outputs": [],
      "metadata": {
        "id": "Kd6Ufo-U02Ra",
        "colab": {
          "base_uri": "https://localhost:8080/",
          "height": 206
        },
        "outputId": "71115f03-534a-4a6b-859c-ac06ef76a819"
      }
    },
    {
      "cell_type": "code",
      "execution_count": null,
      "source": [
        "frame_interesting_columns = pd.DataFrame(frame_interesting_columns)\n",
        "frame_interesting_columns['data'] = pd.to_datetime(frame_interesting_columns['data'])\n",
        "frame_interesting_columns['data'] = frame_interesting_columns['data'].dt.strftime(r'%Y-%m-%d')\n",
        "frame_interesting_columns = frame_interesting_columns.fillna(0)\n"
      ],
      "outputs": [],
      "metadata": {
        "id": "DyOjvvC402Rb"
      }
    },
    {
      "cell_type": "code",
      "execution_count": null,
      "source": [
        "mobility_data_url = r'https://www.gstatic.com/covid19/mobility/Global_Mobility_Report.csv'\n",
        "file_path = r'../Global_Mobility_Report.csv'\n",
        "mobility_data_zip_url = r'https://www.gstatic.com/covid19/mobility/Region_Mobility_Report_CSVs.zip'\n",
        "zip_path = r'../Region_Mobility_Report_CSVs.zip'\n",
        "region_mobility_path = r'../Region_Mobility_Report_CSVs'\n",
        "\n",
        "download_updated_mobility_data(\n",
        "    mobility_data_url,\n",
        "    file_path,\n",
        "    region_mobility_path,\n",
        "    mobility_data_zip_url,\n",
        "    zip_path\n",
        "    )\n",
        "\n",
        "mobility_df = read_movement_data(\n",
        "    region_mobility_path,\n",
        "    'IT_Region_Mobility_Report',\n",
        "    region='Emilia-Romagna'\n",
        "    )"
      ],
      "outputs": [],
      "metadata": {
        "id": "tDVPGa3Y02Rc",
        "colab": {
          "base_uri": "https://localhost:8080/"
        },
        "outputId": "dd5f0b88-98aa-4b23-ed8e-0356838f366d"
      }
    },
    {
      "cell_type": "code",
      "execution_count": null,
      "source": [
        "mobility_df = mobility_df[['date',\n",
        "            'retail_and_recreation_percent_change_from_baseline',\n",
        "            'grocery_and_pharmacy_percent_change_from_baseline',\n",
        "            'parks_percent_change_from_baseline',\n",
        "            'transit_stations_percent_change_from_baseline',\n",
        "            'workplaces_percent_change_from_baseline',\n",
        "            'residential_percent_change_from_baseline']].fillna(0)"
      ],
      "outputs": [],
      "metadata": {
        "id": "18ESzhUi02Re"
      }
    },
    {
      "cell_type": "code",
      "execution_count": null,
      "source": [
        "frame_interesting_columns.rename(columns={'data': 'date'}, inplace=True)\n",
        "frame_interesting_columns.set_index('date',inplace=True)\n",
        "mobility_df.set_index('date',inplace=True)\n",
        "merged = pd.merge(\n",
        "    frame_interesting_columns,\n",
        "    mobility_df,\n",
        "    on='date'\n",
        "    )\n",
        "merged = merged.fillna(0)\n",
        "merged.set_index(pd.DatetimeIndex(merged.index))"
      ],
      "outputs": [],
      "metadata": {
        "id": "9TiER3qD02R0",
        "colab": {
          "base_uri": "https://localhost:8080/",
          "height": 649
        },
        "outputId": "5e717c34-b4ab-42d4-b73d-1d7a625e323e"
      }
    },
    {
      "cell_type": "code",
      "execution_count": null,
      "source": [
        "fig, axes = pyplot.subplots(nrows=4,ncols=2,figsize=(10,8))\n",
        "for i, ax in enumerate(axes.flatten()):\n",
        "    data = np.array(frame_interesting_columns[frame_interesting_columns.columns[i]])\n",
        "    ax.plot(pd.DataFrame(data))\n",
        "    ax.set_title(frame_interesting_columns.columns[i])\n",
        "    ax.plot()\n",
        "\n",
        "pyplot.tight_layout()\n"
      ],
      "outputs": [],
      "metadata": {
        "id": "VqNVQUy802R1",
        "colab": {
          "base_uri": "https://localhost:8080/",
          "height": 585
        },
        "outputId": "d3f55395-a9a6-4e18-8e62-aa4cca995f59"
      }
    },
    {
      "cell_type": "code",
      "execution_count": null,
      "source": [
        "fig, axes = pyplot.subplots(nrows=3,ncols=2,figsize=(10,8))\n",
        "for i, ax in enumerate(axes.flatten()):\n",
        "    data = np.array(mobility_df[mobility_df.columns[i]])\n",
        "    ax.plot(pd.DataFrame(data))\n",
        "    ax.set_title(mobility_df.columns[i])\n",
        "    ax.plot()\n",
        "\n",
        "pyplot.tight_layout()\n"
      ],
      "outputs": [],
      "metadata": {
        "id": "CkC4rbID02SI",
        "colab": {
          "base_uri": "https://localhost:8080/",
          "height": 585
        },
        "outputId": "6f2136be-baee-4db8-baa3-5d4b53828b06"
      }
    },
    {
      "cell_type": "code",
      "execution_count": null,
      "source": [
        "df = merged\n",
        "n = len(merged)\n",
        "train_df = df[0:int(n*0.7)]\n",
        "val_df = df[int(n*0.7):int(n*0.9)]\n",
        "test_df = df[int(n*0.9):]\n",
        "\n",
        "num_features = df.shape[1]\n",
        "num_features"
      ],
      "outputs": [],
      "metadata": {
        "id": "1nz7W8AP02SK",
        "colab": {
          "base_uri": "https://localhost:8080/"
        },
        "outputId": "1bb8bbd5-485d-4674-b0ce-142ebfbd5fbc"
      }
    },
    {
      "cell_type": "markdown",
      "source": [
        "# Univariate XGBOOST"
      ],
      "metadata": {
        "id": "aA6MV9wO02SL"
      }
    },
    {
      "cell_type": "code",
      "execution_count": null,
      "source": [
        "column_univariate = merged['nuovi_positivi']\n",
        "\n",
        "reframed = series_to_supervised(pd.DataFrame(column_univariate),window=7)"
      ],
      "outputs": [],
      "metadata": {
        "id": "9KIMN_xj02SM"
      }
    },
    {
      "cell_type": "code",
      "execution_count": null,
      "source": [
        "reframed"
      ],
      "outputs": [],
      "metadata": {
        "id": "99cvRPoN02SM",
        "colab": {
          "base_uri": "https://localhost:8080/",
          "height": 646
        },
        "outputId": "84aa94d5-f604-47d6-e6d6-7c5caf521118"
      }
    },
    {
      "cell_type": "code",
      "execution_count": null,
      "source": [
        "def train_test_split(data,n_test):\n",
        "\treturn data[:-n_test, :], data[-n_test:, :]\n",
        "\n",
        "def walk_forward_validation(data,n_test):\n",
        "    predictions = list()\n",
        "    train, test = train_test_split(data,n_test)\n",
        "    history = [x for x in train]\n",
        "    for i in range(len(test)):\n",
        "        test_X, test_y = test[i, :-1], test[i, -1]\n",
        "        prediction = xgboost_forecast(history,test_X)\n",
        "        predictions.append(prediction)\n",
        "        history.append(test[i])\n",
        "    error = mean_absolute_error(test[:, -1],predictions)\n",
        "    return error, test[:, 1], predictions\n",
        "\n",
        "def xgboost_forecast(train,test_X):\n",
        "    train = np.ascontiguousarray(train)\n",
        "    test_X = np.ascontiguousarray(test_X)\n",
        "    train_X, train_y = train[:, :-1], train[:, -1]\n",
        "    model = XGBRegressor(objective='reg:squarederror',n_estimators=1000)\n",
        "    model.fit(train_X, train_y)\n",
        "    prediction = model.predict([test_X])\n",
        "    return prediction[0]"
      ],
      "outputs": [],
      "metadata": {
        "id": "61TluCEU02SN"
      }
    },
    {
      "cell_type": "code",
      "execution_count": null,
      "source": [
        "mae, y, yhat = walk_forward_validation(reframed.values,7)"
      ],
      "outputs": [],
      "metadata": {
        "id": "5goGIods02SP",
        "colab": {
          "base_uri": "https://localhost:8080/"
        },
        "outputId": "1b2d5469-8422-4e43-b929-8e5c0c41ef38"
      }
    },
    {
      "cell_type": "code",
      "execution_count": null,
      "source": [
        "print('MAE: %.3f' % mae)\n",
        "pyplot.plot(y,label='Expected')\n",
        "pyplot.plot(yhat,label='Predicted')\n",
        "pyplot.legend()\n",
        "pyplot.show()"
      ],
      "outputs": [],
      "metadata": {
        "id": "uIXBa8g302Sc",
        "colab": {
          "base_uri": "https://localhost:8080/",
          "height": 282
        },
        "outputId": "20bc405e-a26c-479e-9803-5de177d4f346"
      }
    },
    {
      "cell_type": "markdown",
      "source": [
        "# VAR (Vector Auto Regression)"
      ],
      "metadata": {
        "id": "or46puPe02Sf"
      }
    },
    {
      "cell_type": "code",
      "execution_count": null,
      "source": [
        "# !pip3 install scikit-learn==0.24"
      ],
      "outputs": [],
      "metadata": {
        "id": "KGG6di6pWImL"
      }
    },
    {
      "cell_type": "code",
      "execution_count": null,
      "source": [
        "# n_splits=10\n",
        "# test_size=5\n",
        "\n",
        "# tscv = TimeSeriesSplit(n_splits=n_splits,test_size=test_size)\n",
        "\n",
        "# df = frame_interesting_columns\n",
        "\n",
        "# for train_index, test_index in tscv.split(df):\n",
        "#     train = df.iloc[train_index]\n",
        "#     test = df.iloc[test_index]\n",
        "\n",
        "#     model = VAR(endog=train,freq='D')\n",
        "#     fit = model.fit()\n",
        "#     lag_order = fit.k_ar\n",
        "\n",
        "#     prediction = fit.forecast(train.values[-lag_order:],len(test_index))\n",
        "\n",
        "#     pred_df = pd.DataFrame(prediction,columns=df.columns)\n",
        " \n",
        "#     print('train interval: ' + str(train.index[0]) + ' - ' + str(train.index[-1]))\n",
        "#     print('test interval: ' + str(test.index[0]) + ' - ' + str(test.index[-1]))\n",
        "#     for i in test.columns:\n",
        "#         print('mae value for', i, 'is : ', mean_absolute_error(pred_df[i], test[i]))\n"
      ],
      "outputs": [],
      "metadata": {
        "id": "F4CFckSM02Sg"
      }
    },
    {
      "cell_type": "markdown",
      "source": [
        "# LSTM Univariate\n"
      ],
      "metadata": {
        "id": "lomTEbf-02Sh"
      }
    },
    {
      "cell_type": "code",
      "execution_count": null,
      "source": [
        "column_univariate = 'nuovi_positivi'\n",
        "df = pd.DataFrame(frame_interesting_columns[column_univariate])\n",
        "scaler = MinMaxScaler(feature_range=(-1,1))\n",
        "scaled = scaler.fit_transform(df)"
      ],
      "outputs": [],
      "metadata": {
        "id": "kmuC-iA802Sh"
      }
    },
    {
      "cell_type": "code",
      "execution_count": null,
      "source": [
        "reframed = series_to_supervised(pd.DataFrame(scaled),14,1)\n",
        "values = reframed.values\n",
        "train = values[:500,:]\n",
        "test = values[500:,:]\n",
        "\n",
        "train_X, train_y = train[:,:-1], train[:,-1]\n",
        "test_X, test_y = test[:,:-1], test[:,-1]\n",
        "\n",
        "train_X = train_X.reshape((train_X.shape[0],train_X.shape[1],1))\n",
        "test_X = test_X.reshape((test_X.shape[0],test_X.shape[1],1))\n",
        "\n",
        "print(train_X.shape,train_y.shape,test_X.shape,test_y.shape)"
      ],
      "outputs": [],
      "metadata": {
        "id": "PNmMeHi802Si",
        "colab": {
          "base_uri": "https://localhost:8080/"
        },
        "outputId": "558537d0-e6fc-4477-e5dd-b2f3855e372f"
      }
    },
    {
      "cell_type": "code",
      "execution_count": null,
      "source": [
        "reframed.tail()"
      ],
      "outputs": [],
      "metadata": {
        "id": "jT3zJ0xc02St",
        "colab": {
          "base_uri": "https://localhost:8080/",
          "height": 206
        },
        "outputId": "b2400de0-87a5-4903-b3d4-221947f010dd"
      }
    },
    {
      "cell_type": "code",
      "execution_count": null,
      "source": [
        "model = Sequential()\n",
        "model.add(LSTM(50, input_shape=(train_X.shape[1],train_X.shape[2])))\n",
        "model.add(Dense(1))\n",
        "model.compile(loss='mae',optimizer='adam')\n",
        "\n",
        "history = model.fit(train_X,train_y,epochs=50,batch_size=72,validation_data=(test_X,test_y),verbose=0,shuffle=False)\n",
        "\n",
        "pyplot.plot(history.history['loss'],label='Training loss')\n",
        "pyplot.plot(history.history['val_loss'],label='Validation loss')\n",
        "pyplot.legend()\n",
        "pyplot.show()"
      ],
      "outputs": [],
      "metadata": {
        "id": "MlovFcME02Su",
        "colab": {
          "base_uri": "https://localhost:8080/",
          "height": 265
        },
        "outputId": "b585ec19-c2a1-4137-da60-e5faeaadab26"
      }
    },
    {
      "cell_type": "code",
      "execution_count": null,
      "source": [
        "train_prediction = model.predict(train_X)\n",
        "test_prediction = model.predict(test_X)\n",
        "\n",
        "train_prediction = scaler.inverse_transform(train_prediction)\n",
        "test_prediction = scaler.inverse_transform(test_prediction)\n",
        "test_y = scaler.inverse_transform([test_y])\n"
      ],
      "outputs": [],
      "metadata": {
        "id": "Vtm_RZ0I3qJB"
      }
    },
    {
      "cell_type": "code",
      "execution_count": null,
      "source": [
        "test_y = test_y[0]\n",
        "print('Test error')\n",
        "print(mean_absolute_error(test_y,test_prediction))\n",
        "pd.DataFrame(test_y).plot()\n",
        "pd.DataFrame(test_prediction).plot()"
      ],
      "outputs": [],
      "metadata": {
        "colab": {
          "base_uri": "https://localhost:8080/",
          "height": 565
        },
        "id": "1Vg0p7lYNUY5",
        "outputId": "44a75e40-71b2-4f6a-9908-e70b0a3b81cc"
      }
    },
    {
      "cell_type": "markdown",
      "source": [
        "# Multivariate LSTM"
      ],
      "metadata": {
        "id": "bgb1Mg4StHbT"
      }
    },
    {
      "cell_type": "code",
      "execution_count": null,
      "source": [
        "df = pd.DataFrame(frame_interesting_columns.drop('tamponi',axis=1))\n",
        "scaler = MinMaxScaler(feature_range=(0,1))\n",
        "scaled = scaler.fit_transform(df)"
      ],
      "outputs": [],
      "metadata": {
        "id": "QHiFkUcG4ZZK"
      }
    },
    {
      "cell_type": "code",
      "execution_count": null,
      "source": [
        "train_X = []\n",
        "train_y = []\n",
        "\n",
        "n_future = 1\n",
        "n_past = 14\n",
        "\n",
        "dates = df.index\n",
        "\n",
        "df = scaled\n",
        "\n",
        "for i in range(n_past,len(df) - n_future + 1):\n",
        "    train_X.append(df[i - n_past:i, 0:df.shape[1]])\n",
        "    train_y.append(df[i + n_future - 1:i + n_future, 0])\n",
        "\n",
        "train_X, train_y = np.array(train_X), np.array(train_y)\n",
        "\n",
        "print('train_X shape == {}.'.format(train_X.shape))\n",
        "print('train_y shape == {}.'.format(train_y.shape))\n",
        "\n",
        "model = Sequential()\n",
        "model.add(LSTM(64,activation='relu',input_shape=(train_X.shape[1],train_X.shape[2]),return_sequences=True))\n",
        "model.add(LSTM(32,activation='relu',return_sequences=False))\n",
        "model.add(Dropout(0.2))\n",
        "model.add(Dense(train_y.shape[1]))\n",
        "\n",
        "model.compile(optimizer='adam',loss='mse')\n",
        "model.summary()"
      ],
      "outputs": [],
      "metadata": {
        "id": "LImLl3j6N6Q6",
        "colab": {
          "base_uri": "https://localhost:8080/"
        },
        "outputId": "0f4ec780-b0d8-4094-fe92-ec3f5f7af223"
      }
    },
    {
      "cell_type": "code",
      "execution_count": null,
      "source": [
        "history = model.fit(train_X,train_y,epochs=20,batch_size=16,validation_split=0.1,verbose=0)\n"
      ],
      "outputs": [],
      "metadata": {
        "id": "ldsNBHShOvRo"
      }
    },
    {
      "cell_type": "code",
      "execution_count": null,
      "source": [
        "pyplot.plot(history.history['loss'],label='Training loss')\n",
        "pyplot.plot(history.history['val_loss'],label='Validation loss')\n",
        "pyplot.legend()"
      ],
      "outputs": [],
      "metadata": {
        "id": "USVFl6KjO4Wk"
      }
    },
    {
      "cell_type": "code",
      "execution_count": null,
      "source": [
        "n_lags = 21\n",
        "n_predictions = 15"
      ],
      "outputs": [],
      "metadata": {
        "id": "zvgc6c15sxQe"
      }
    },
    {
      "cell_type": "code",
      "execution_count": null,
      "source": [
        "prediction = model.predict(train_X[-n_predictions:])"
      ],
      "outputs": [],
      "metadata": {
        "id": "c_Z7yQ_hSZZm"
      }
    },
    {
      "cell_type": "code",
      "execution_count": null,
      "source": [
        "prediction_copies = np.repeat(prediction,df.shape[1],axis=-1)\n",
        "y_pred_future = scaler.inverse_transform(prediction_copies)[:,0]"
      ],
      "outputs": [],
      "metadata": {
        "id": "IEIajaoZSeCS"
      }
    },
    {
      "cell_type": "code",
      "execution_count": null,
      "source": [
        "predict_period_dates = pd.date_range(list(merged.index)[-n_past],periods=n_predictions).tolist()\n",
        "print(predict_period_dates)"
      ],
      "outputs": [],
      "metadata": {
        "id": "fMLgyDrXS3Yu"
      }
    },
    {
      "cell_type": "code",
      "execution_count": null,
      "source": [
        "forecast_dates = []\n",
        "for time_i in predict_period_dates:\n",
        "    forecast_dates.append(time_i)"
      ],
      "outputs": [],
      "metadata": {
        "id": "LTnK6WnaT1_K"
      }
    },
    {
      "cell_type": "code",
      "execution_count": null,
      "source": [
        "df_forecast = pd.DataFrame({'Date':np.array(forecast_dates),'Feature':y_pred_future})\n",
        "df_forecast['Date'] = pd.to_datetime(df_forecast['Date'])"
      ],
      "outputs": [],
      "metadata": {
        "id": "aFtLBVWrT5N0"
      }
    },
    {
      "cell_type": "code",
      "execution_count": null,
      "source": [
        "# sns.lineplot(merged['nuovi_positivi'])\n",
        "\n",
        "# sns.lineplot(df_forecast['Feature'])\n",
        "# merged['nuovi_positivi']\n",
        "df_forecast.index = df_forecast['Date']"
      ],
      "outputs": [],
      "metadata": {
        "id": "0qERYDqUT8Ts"
      }
    },
    {
      "cell_type": "code",
      "execution_count": null,
      "source": [
        "df_forecast =  df_forecast.drop('Date',1)"
      ],
      "outputs": [],
      "metadata": {
        "id": "XdKTDiW1gaP2"
      }
    },
    {
      "cell_type": "code",
      "execution_count": null,
      "source": [
        "# sns.lineplot(df_forecast['Feature'])\n",
        "# sns.lineplot(merged['nuovi_positivi'])\n",
        "df_forecast['Feature']\n",
        "df_real = merged['nuovi_positivi']\n",
        "df_real = df_real[-n_predictions:]\n"
      ],
      "outputs": [],
      "metadata": {
        "id": "SAwXfwdEhC1W"
      }
    },
    {
      "cell_type": "code",
      "execution_count": null,
      "source": [
        "df_real"
      ],
      "outputs": [],
      "metadata": {
        "id": "LI5zYCdyY77o"
      }
    },
    {
      "cell_type": "code",
      "execution_count": null,
      "source": [
        "df_forecast"
      ],
      "outputs": [],
      "metadata": {
        "id": "h61VS3a5Y-gk"
      }
    }
  ]
}