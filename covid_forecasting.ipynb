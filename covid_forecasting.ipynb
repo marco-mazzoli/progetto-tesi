{
  "nbformat": 4,
  "nbformat_minor": 2,
  "metadata": {
    "kernelspec": {
      "name": "python3",
      "display_name": "Python 3.7.11 64-bit ('tf': conda)"
    },
    "language_info": {
      "name": "python",
      "version": "3.7.11",
      "mimetype": "text/x-python",
      "codemirror_mode": {
        "name": "ipython",
        "version": 3
      },
      "pygments_lexer": "ipython3",
      "nbconvert_exporter": "python",
      "file_extension": ".py"
    },
    "metadata": {
      "interpreter": {
        "hash": "f85c0ae1067a86ad6a96b144378883e79fd1516474b579ba33ee3a7084540002"
      }
    },
    "interpreter": {
      "hash": "1c7e388e2ed574d750f7b34bb7f79b568612e5c2dbb821bdb25fb5e93abee03f"
    },
    "colab": {
      "name": "covid_forecasting.ipynb",
      "provenance": []
    }
  },
  "cells": [
    {
      "cell_type": "code",
      "execution_count": null,
      "source": [
        "import pandas as pd\n",
        "import numpy as np\n",
        "from matplotlib import pyplot\n",
        "import seaborn as sns\n",
        "import tensorflow as tf\n",
        "import IPython\n",
        "import IPython.display\n",
        "from statsmodels.tsa.vector_ar.var_model import VAR\n",
        "import sklearn\n",
        "from sklearn.model_selection import TimeSeriesSplit\n",
        "from tensorflow.keras.models import Sequential\n",
        "from tensorflow.keras.layers import Dense, Dropout, LSTM\n",
        "from sklearn.metrics import mean_absolute_error\n",
        "from sklearn.preprocessing import MinMaxScaler\n",
        "from statsmodels.tsa.vector_ar.var_model import VAR\n",
        "\n",
        "# fix for 'package not found' when installing in Anaconda environment\n",
        "if 'google.colab' not in str(get_ipython()):\n",
        "    import pip\n",
        "    pip.main(['install', 'xgboost'])\n",
        "\n",
        "if 'google.colab' in str(get_ipython()):\n",
        "  !rm util.py\n",
        "  !rm window.py\n",
        "  !rm models.py\n",
        "  !wget https://raw.githubusercontent.com/marco-mazzoli/progetto-tesi/master/util.py\n",
        "  !wget https://raw.githubusercontent.com/marco-mazzoli/progetto-tesi/master/windows.py\n",
        "  !wget https://raw.githubusercontent.com/marco-mazzoli/progetto-tesi/master/models.py\n",
        "\n",
        "from xgboost import XGBRegressor\n",
        "from util import select_relevant_rows, select_attributes, read_movement_data,download_updated_mobility_data, download_updated_mobility_data, series_to_supervised\n",
        "from windows import WindowGenerator\n",
        "from models import MultiStepLastBaseline"
      ],
      "outputs": [],
      "metadata": {
        "id": "VSEhcEI602Qp",
        "colab": {
          "base_uri": "https://localhost:8080/"
        },
        "outputId": "5a14ade4-ec1e-4354-906b-6f921a9eed88"
      }
    },
    {
      "cell_type": "markdown",
      "source": [
        "# Data Acquisition and Data Preparation"
      ],
      "metadata": {
        "id": "-_laukLF02RI"
      }
    },
    {
      "cell_type": "code",
      "execution_count": null,
      "source": [
        "local_region_path = r'../COVID-19/dati-regioni/dpc-covid19-ita-regioni.csv'\n",
        "remote_region_path = r'https://raw.githubusercontent.com/pcm-dpc/COVID-19/master/dati-regioni/dpc-covid19-ita-regioni.csv'\n",
        "\n",
        "regions_frame = pd.read_csv(remote_region_path)"
      ],
      "outputs": [],
      "metadata": {
        "id": "jH7mmQes02RO"
      }
    },
    {
      "cell_type": "code",
      "execution_count": null,
      "source": [
        "region_focus = 'Emilia-Romagna'\n",
        "attribute_focus = 'denominazione_regione'\n",
        "\n",
        "region_focus_data = select_relevant_rows(\n",
        "    regions_frame,\n",
        "    attribute_focus,\n",
        "    region_focus\n",
        "    )"
      ],
      "outputs": [],
      "metadata": {
        "id": "PUYXkpT902RQ"
      }
    },
    {
      "cell_type": "code",
      "execution_count": null,
      "source": [
        "frame_interesting_columns = select_attributes(region_focus_data, [\n",
        "    'data',\n",
        "    'ricoverati_con_sintomi',\n",
        "    'terapia_intensiva',\n",
        "    'totale_ospedalizzati',\n",
        "    'variazione_totale_positivi',\n",
        "    'nuovi_positivi',\n",
        "    'deceduti',\n",
        "    'tamponi',\n",
        "    'ingressi_terapia_intensiva'\n",
        "    ])"
      ],
      "outputs": [],
      "metadata": {
        "id": "e6-D1als02RU"
      }
    },
    {
      "cell_type": "code",
      "execution_count": null,
      "source": [
        "frame_interesting_columns.tail()"
      ],
      "outputs": [],
      "metadata": {
        "id": "Kd6Ufo-U02Ra",
        "colab": {
          "base_uri": "https://localhost:8080/",
          "height": 206
        },
        "outputId": "76da503f-d539-4c08-b298-f3c57712a163"
      }
    },
    {
      "cell_type": "code",
      "execution_count": null,
      "source": [
        "frame_interesting_columns = pd.DataFrame(frame_interesting_columns)\n",
        "frame_interesting_columns['data'] = pd.to_datetime(frame_interesting_columns['data'])\n",
        "frame_interesting_columns['data'] = frame_interesting_columns['data'].dt.strftime(r'%Y-%m-%d')\n",
        "frame_interesting_columns = frame_interesting_columns.fillna(0)\n"
      ],
      "outputs": [],
      "metadata": {
        "id": "DyOjvvC402Rb"
      }
    },
    {
      "cell_type": "code",
      "execution_count": null,
      "source": [
        "mobility_data_url = r'https://www.gstatic.com/covid19/mobility/Global_Mobility_Report.csv'\n",
        "file_path = r'../Global_Mobility_Report.csv'\n",
        "mobility_data_zip_url = r'https://www.gstatic.com/covid19/mobility/Region_Mobility_Report_CSVs.zip'\n",
        "zip_path = r'../Region_Mobility_Report_CSVs.zip'\n",
        "region_mobility_path = r'../Region_Mobility_Report_CSVs'\n",
        "\n",
        "download_updated_mobility_data(\n",
        "    mobility_data_url,\n",
        "    file_path,\n",
        "    region_mobility_path,\n",
        "    mobility_data_zip_url,\n",
        "    zip_path\n",
        "    )\n",
        "\n",
        "mobility_df = read_movement_data(\n",
        "    region_mobility_path,\n",
        "    'IT_Region_Mobility_Report',\n",
        "    region='Emilia-Romagna'\n",
        "    )"
      ],
      "outputs": [],
      "metadata": {
        "id": "tDVPGa3Y02Rc",
        "colab": {
          "base_uri": "https://localhost:8080/"
        },
        "outputId": "43a4e83f-dbe9-45aa-9ac8-7cfa1d8a0802"
      }
    },
    {
      "cell_type": "code",
      "execution_count": null,
      "source": [
        "mobility_df = mobility_df[['date',\n",
        "            'retail_and_recreation_percent_change_from_baseline',\n",
        "            'grocery_and_pharmacy_percent_change_from_baseline',\n",
        "            'parks_percent_change_from_baseline',\n",
        "            'transit_stations_percent_change_from_baseline',\n",
        "            'workplaces_percent_change_from_baseline',\n",
        "            'residential_percent_change_from_baseline']].fillna(0)"
      ],
      "outputs": [],
      "metadata": {
        "id": "18ESzhUi02Re"
      }
    },
    {
      "cell_type": "code",
      "execution_count": null,
      "source": [
        "frame_interesting_columns.rename(columns={'data': 'date'}, inplace=True)\n",
        "frame_interesting_columns.set_index('date',inplace=True)\n",
        "mobility_df.set_index('date',inplace=True)\n",
        "merged = pd.merge(\n",
        "    frame_interesting_columns,\n",
        "    mobility_df,\n",
        "    on='date'\n",
        "    )\n",
        "merged = merged.fillna(0)\n",
        "merged.set_index(pd.DatetimeIndex(merged.index))"
      ],
      "outputs": [],
      "metadata": {
        "id": "9TiER3qD02R0",
        "colab": {
          "base_uri": "https://localhost:8080/",
          "height": 649
        },
        "outputId": "796dfe89-f103-4ab8-f97c-8c8a00a1fd37"
      }
    },
    {
      "cell_type": "code",
      "execution_count": null,
      "source": [
        "fig, axes = pyplot.subplots(nrows=4,ncols=2,figsize=(10,8))\n",
        "for i, ax in enumerate(axes.flatten()):\n",
        "    data = np.array(frame_interesting_columns[frame_interesting_columns.columns[i]])\n",
        "    ax.plot(pd.DataFrame(data))\n",
        "    ax.set_title(frame_interesting_columns.columns[i])\n",
        "    ax.plot()\n",
        "\n",
        "pyplot.tight_layout()\n"
      ],
      "outputs": [],
      "metadata": {
        "id": "VqNVQUy802R1",
        "colab": {
          "base_uri": "https://localhost:8080/",
          "height": 585
        },
        "outputId": "64521c16-f660-4f18-bba9-6235d7b1bbf2"
      }
    },
    {
      "cell_type": "code",
      "execution_count": null,
      "source": [
        "fig, axes = pyplot.subplots(nrows=3,ncols=2,figsize=(10,8))\n",
        "for i, ax in enumerate(axes.flatten()):\n",
        "    data = np.array(mobility_df[mobility_df.columns[i]])\n",
        "    ax.plot(pd.DataFrame(data))\n",
        "    ax.set_title(mobility_df.columns[i])\n",
        "    ax.plot()\n",
        "\n",
        "pyplot.tight_layout()\n"
      ],
      "outputs": [],
      "metadata": {
        "id": "CkC4rbID02SI",
        "colab": {
          "base_uri": "https://localhost:8080/",
          "height": 585
        },
        "outputId": "013a8fc8-140c-4607-f177-1797e7d961eb"
      }
    },
    {
      "cell_type": "code",
      "execution_count": null,
      "source": [
        "df = merged\n",
        "n = len(merged)\n",
        "train_df = df[0:int(n*0.7)]\n",
        "val_df = df[int(n*0.7):int(n*0.9)]\n",
        "test_df = df[int(n*0.9):]\n",
        "\n",
        "num_features = df.shape[1]\n",
        "num_features"
      ],
      "outputs": [],
      "metadata": {
        "id": "1nz7W8AP02SK",
        "colab": {
          "base_uri": "https://localhost:8080/"
        },
        "outputId": "e7f7934b-1834-4ab2-c4c1-bd1a2731dec2"
      }
    },
    {
      "cell_type": "markdown",
      "source": [
        "# Univariate XGBOOST"
      ],
      "metadata": {
        "id": "aA6MV9wO02SL"
      }
    },
    {
      "cell_type": "code",
      "execution_count": null,
      "source": [
        "column_univariate = merged['nuovi_positivi']\n",
        "\n",
        "reframed = series_to_supervised(pd.DataFrame(column_univariate),window=7)"
      ],
      "outputs": [],
      "metadata": {
        "id": "9KIMN_xj02SM"
      }
    },
    {
      "cell_type": "code",
      "execution_count": null,
      "source": [
        "reframed"
      ],
      "outputs": [],
      "metadata": {
        "id": "99cvRPoN02SM",
        "colab": {
          "base_uri": "https://localhost:8080/",
          "height": 646
        },
        "outputId": "0751cc2d-c0df-438c-b593-b41e1eb08ee8"
      }
    },
    {
      "cell_type": "code",
      "execution_count": null,
      "source": [
        "def train_test_split(data,n_test):\n",
        "\treturn data[:-n_test, :], data[-n_test:, :]\n",
        "\n",
        "def walk_forward_validation(data,n_test):\n",
        "    predictions = list()\n",
        "    train, test = train_test_split(data,n_test)\n",
        "    history = [x for x in train]\n",
        "    for i in range(len(test)):\n",
        "        test_X, test_y = test[i, :-1], test[i, -1]\n",
        "        prediction = xgboost_forecast(history,test_X)\n",
        "        predictions.append(prediction)\n",
        "        history.append(test[i])\n",
        "    error = mean_absolute_error(test[:, -1],predictions)\n",
        "    return error, test[:, 1], predictions\n",
        "\n",
        "def xgboost_forecast(train,test_X):\n",
        "    train = np.ascontiguousarray(train)\n",
        "    test_X = np.ascontiguousarray(test_X)\n",
        "    train_X, train_y = train[:, :-1], train[:, -1]\n",
        "    model = XGBRegressor(objective='reg:squarederror',n_estimators=1000)\n",
        "    model.fit(train_X, train_y)\n",
        "    prediction = model.predict([test_X])\n",
        "    return prediction[0]"
      ],
      "outputs": [],
      "metadata": {
        "id": "61TluCEU02SN"
      }
    },
    {
      "cell_type": "code",
      "execution_count": null,
      "source": [
        "mae, y, yhat = walk_forward_validation(reframed.values,7)"
      ],
      "outputs": [],
      "metadata": {
        "id": "5goGIods02SP",
        "colab": {
          "base_uri": "https://localhost:8080/"
        },
        "outputId": "9f01d89a-2545-4950-925a-333d57f611cb"
      }
    },
    {
      "cell_type": "code",
      "execution_count": null,
      "source": [
        "print('MAE: %.3f' % mae)\n",
        "pyplot.plot(y,label='Expected')\n",
        "pyplot.plot(yhat,label='Predicted')\n",
        "pyplot.legend()\n",
        "pyplot.show()"
      ],
      "outputs": [],
      "metadata": {
        "id": "uIXBa8g302Sc",
        "colab": {
          "base_uri": "https://localhost:8080/",
          "height": 282
        },
        "outputId": "d96efa39-710f-4547-81b1-5d3e01352df6"
      }
    },
    {
      "cell_type": "markdown",
      "source": [
        "# VAR (Vector Auto Regression)"
      ],
      "metadata": {
        "id": "or46puPe02Sf"
      }
    },
    {
      "cell_type": "code",
      "execution_count": null,
      "source": [
        "# !pip3 install scikit-learn==0.24"
      ],
      "outputs": [],
      "metadata": {
        "id": "KGG6di6pWImL"
      }
    },
    {
      "cell_type": "code",
      "execution_count": null,
      "source": [
        "# n_splits=10\n",
        "# test_size=5\n",
        "\n",
        "# tscv = TimeSeriesSplit(n_splits=n_splits,test_size=test_size)\n",
        "\n",
        "# df = frame_interesting_columns\n",
        "\n",
        "# for train_index, test_index in tscv.split(df):\n",
        "#     train = df.iloc[train_index]\n",
        "#     test = df.iloc[test_index]\n",
        "\n",
        "#     model = VAR(endog=train,freq='D')\n",
        "#     fit = model.fit()\n",
        "#     lag_order = fit.k_ar\n",
        "\n",
        "#     prediction = fit.forecast(train.values[-lag_order:],len(test_index))\n",
        "\n",
        "#     pred_df = pd.DataFrame(prediction,columns=df.columns)\n",
        " \n",
        "#     print('train interval: ' + str(train.index[0]) + ' - ' + str(train.index[-1]))\n",
        "#     print('test interval: ' + str(test.index[0]) + ' - ' + str(test.index[-1]))\n",
        "#     for i in test.columns:\n",
        "#         print('mae value for', i, 'is : ', mean_absolute_error(pred_df[i], test[i]))\n"
      ],
      "outputs": [],
      "metadata": {
        "id": "F4CFckSM02Sg"
      }
    },
    {
      "cell_type": "markdown",
      "source": [
        "# LSTM Univariate\n"
      ],
      "metadata": {
        "id": "lomTEbf-02Sh"
      }
    },
    {
      "cell_type": "code",
      "execution_count": null,
      "source": [
        "column_univariate = 'nuovi_positivi'\n",
        "df = pd.DataFrame(frame_interesting_columns[column_univariate])\n",
        "scaler = MinMaxScaler(feature_range=(-1,1))\n",
        "scaled = scaler.fit_transform(df)"
      ],
      "outputs": [],
      "metadata": {
        "id": "kmuC-iA802Sh"
      }
    },
    {
      "cell_type": "code",
      "execution_count": null,
      "source": [
        "reframed = series_to_supervised(pd.DataFrame(scaled),14,1)\n",
        "values = reframed.values\n",
        "train = values[:500,:]\n",
        "test = values[500:,:]\n",
        "\n",
        "train_X, train_y = train[:,:-1], train[:,-1]\n",
        "test_X, test_y = test[:,:-1], test[:,-1]\n",
        "\n",
        "train_X = train_X.reshape((train_X.shape[0],train_X.shape[1],1))\n",
        "test_X = test_X.reshape((test_X.shape[0],test_X.shape[1],1))\n",
        "\n",
        "print(train_X.shape,train_y.shape,test_X.shape,test_y.shape)"
      ],
      "outputs": [],
      "metadata": {
        "id": "PNmMeHi802Si",
        "colab": {
          "base_uri": "https://localhost:8080/"
        },
        "outputId": "78c6401a-548b-4098-93b0-c530cd7b6320"
      }
    },
    {
      "cell_type": "code",
      "execution_count": null,
      "source": [
        "reframed.tail()"
      ],
      "outputs": [],
      "metadata": {
        "id": "jT3zJ0xc02St",
        "colab": {
          "base_uri": "https://localhost:8080/",
          "height": 206
        },
        "outputId": "7d135184-83dd-44b6-e7b9-7c9559f1a7bb"
      }
    },
    {
      "cell_type": "code",
      "execution_count": null,
      "source": [
        "model = Sequential()\n",
        "model.add(LSTM(50, input_shape=(train_X.shape[1],train_X.shape[2])))\n",
        "model.add(Dense(1))\n",
        "model.compile(loss='mae',optimizer='adam')\n",
        "\n",
        "history = model.fit(train_X,train_y,epochs=50,batch_size=72,validation_data=(test_X,test_y),verbose=0,shuffle=False)\n",
        "\n",
        "pyplot.plot(history.history['loss'],label='Training loss')\n",
        "pyplot.plot(history.history['val_loss'],label='Validation loss')\n",
        "pyplot.legend()\n",
        "pyplot.show()"
      ],
      "outputs": [],
      "metadata": {
        "id": "MlovFcME02Su",
        "colab": {
          "base_uri": "https://localhost:8080/",
          "height": 265
        },
        "outputId": "c54843c7-6ad2-4b2a-cfef-1983ddd79ba9"
      }
    },
    {
      "cell_type": "code",
      "execution_count": null,
      "source": [
        "train_prediction = model.predict(train_X)\n",
        "test_prediction = model.predict(test_X)\n",
        "\n",
        "train_prediction = scaler.inverse_transform(train_prediction)\n",
        "test_prediction = scaler.inverse_transform(test_prediction)\n",
        "test_y = scaler.inverse_transform([test_y])\n"
      ],
      "outputs": [],
      "metadata": {
        "id": "Vtm_RZ0I3qJB"
      }
    },
    {
      "cell_type": "code",
      "execution_count": null,
      "source": [
        "test_y_descaled = test_y[0]\n",
        "print('Test error')\n",
        "print(mean_absolute_error(test_y_descaled,test_prediction))\n",
        "pyplot.plot(pd.DataFrame(test_y_descaled))\n",
        "pyplot.plot(pd.DataFrame(test_prediction))\n",
        "pyplot.show()"
      ],
      "outputs": [],
      "metadata": {
        "colab": {
          "base_uri": "https://localhost:8080/",
          "height": 300
        },
        "id": "1Vg0p7lYNUY5",
        "outputId": "29312b34-5045-4ad8-9e38-a8c6f4f16556"
      }
    },
    {
      "cell_type": "markdown",
      "source": [
        "#Univariate LSTM with TimeseriesGenerator"
      ],
      "metadata": {
        "id": "w4ZL3T66Brb6"
      }
    },
    {
      "cell_type": "code",
      "execution_count": null,
      "source": [
        "from keras.preprocessing.sequence import TimeseriesGenerator\n",
        "df = pd.DataFrame(frame_interesting_columns['nuovi_positivi'])\n",
        "\n",
        "values = df['nuovi_positivi'].values\n",
        "values = values.reshape((-1,1))\n",
        "\n",
        "values\n",
        "\n",
        "split_percent = 0.80\n",
        "split = int(split_percent*len(values))\n",
        "\n",
        "train = values[:split]\n",
        "test = values[split:]\n",
        "\n",
        "# date_train = df.index[:split]\n",
        "# date_test = df.index[split:]\n",
        "\n",
        "look_back = 14\n",
        "\n",
        "train_generator = TimeseriesGenerator(train,train,length=look_back,batch_size=14)    \n",
        "test_generator = TimeseriesGenerator(test,test,length=look_back,batch_size=1)\n",
        "\n",
        "model = Sequential()\n",
        "model.add(LSTM(50,activation='relu',input_shape=(look_back,1)))\n",
        "model.add(Dense(1))\n",
        "model.compile(optimizer='adam',loss='mae')\n",
        "\n",
        "num_epochs = 50\n",
        "model.fit(train_generator,epochs=num_epochs,verbose=0)\n"
      ],
      "outputs": [],
      "metadata": {
        "id": "6pfvZjsL2v_l",
        "colab": {
          "base_uri": "https://localhost:8080/"
        },
        "outputId": "6b1fa6c6-26ba-48f4-a755-767109b1a59b"
      }
    },
    {
      "cell_type": "code",
      "execution_count": null,
      "source": [
        "import plotly.graph_objects as go\n",
        "\n",
        "prediction = model.predict(test_generator)"
      ],
      "outputs": [],
      "metadata": {
        "id": "blPJvkMm4jqr"
      }
    },
    {
      "cell_type": "code",
      "execution_count": null,
      "source": [
        "train = train.reshape((-1))\n",
        "test = test.reshape((-1))\n",
        "prediction = prediction.reshape((-1))\n",
        "\n",
        "trace1 = go.Scatter(\n",
        "    x = date_train,\n",
        "    y = train,\n",
        "    mode = 'lines',\n",
        "    name = 'Data'\n",
        ")\n",
        "trace2 = go.Scatter(\n",
        "    x = date_test,\n",
        "    y = prediction,\n",
        "    mode = 'lines',\n",
        "    name = 'Prediction'\n",
        ")\n",
        "trace3 = go.Scatter(\n",
        "    x = date_test,\n",
        "    y = test,\n",
        "    mode='lines',\n",
        "    name = 'Ground Truth'\n",
        ")\n",
        "layout = go.Layout(\n",
        "    title = \"nuovi_positivi\",\n",
        "    xaxis = {'title' : \"Date\"},\n",
        "    yaxis = {'title' : \"Close\"}\n",
        ")\n",
        "\n",
        "fig = go.Figure(data=[trace1,trace2,trace3],layout=layout)\n",
        "fig.show()\n",
        "\n",
        "print('mae:')\n",
        "# print(mean_absolute_error(test,prediction))\n",
        "\n",
        "len(test_generator.targets)\n",
        "len(prediction)\n",
        "\n",
        "print(len(test))\n",
        "print(len(prediction))\n"
      ],
      "outputs": [],
      "metadata": {
        "id": "3TMxnFt-SLnZ",
        "outputId": "58571706-26b0-49dc-863c-f44e15b431db",
        "colab": {
          "base_uri": "https://localhost:8080/",
          "height": 594
        }
      }
    },
    {
      "cell_type": "markdown",
      "source": [
        "# Multivariate LSTM"
      ],
      "metadata": {
        "id": "bgb1Mg4StHbT"
      }
    },
    {
      "cell_type": "code",
      "execution_count": null,
      "source": [
        "df = pd.DataFrame(frame_interesting_columns.drop('tamponi',axis=1))\n",
        "scaler = MinMaxScaler(feature_range=(0,1))\n",
        "scaled = scaler.fit_transform(df)"
      ],
      "outputs": [],
      "metadata": {
        "id": "QHiFkUcG4ZZK"
      }
    },
    {
      "cell_type": "code",
      "execution_count": null,
      "source": [
        "train_X = []\n",
        "train_y = []\n",
        "\n",
        "n_future = 1\n",
        "n_past = 14\n",
        "\n",
        "dates = df.index\n",
        "\n",
        "df = scaled\n",
        "\n",
        "for i in range(n_past,len(df) - n_future + 1):\n",
        "    train_X.append(df[i - n_past:i, 0:df.shape[1]])\n",
        "    train_y.append(df[i + n_future - 1:i + n_future, \n",
        "    0])\n",
        "\n",
        "train_X, train_y = np.array(train_X), np.array(train_y)\n",
        "\n",
        "print('train_X shape == {}.'.format(train_X.shape))\n",
        "print('train_y shape == {}.'.format(train_y.shape))\n",
        "\n",
        "model = Sequential()\n",
        "model.add(LSTM(64,activation='relu',input_shape=(train_X.shape[1],train_X.shape[2]),return_sequences=True))\n",
        "model.add(LSTM(32,activation='relu',return_sequences=False))\n",
        "model.add(Dropout(0.2))\n",
        "model.add(Dense(train_y.shape[1]))\n",
        "\n",
        "model.compile(optimizer='adam',loss='mse')\n",
        "model.summary()"
      ],
      "outputs": [],
      "metadata": {
        "id": "LImLl3j6N6Q6",
        "colab": {
          "base_uri": "https://localhost:8080/"
        },
        "outputId": "6e5a8469-d7c5-4bd7-cfa2-b78da5381738"
      }
    },
    {
      "cell_type": "code",
      "execution_count": null,
      "source": [
        "history = model.fit(train_X,train_y,epochs=20,batch_size=16,validation_split=0.1,verbose=0)\n"
      ],
      "outputs": [],
      "metadata": {
        "id": "ldsNBHShOvRo"
      }
    },
    {
      "cell_type": "code",
      "execution_count": null,
      "source": [
        "pyplot.plot(history.history['loss'],label='Training loss')\n",
        "pyplot.plot(history.history['val_loss'],label='Validation loss')\n",
        "pyplot.legend()"
      ],
      "outputs": [],
      "metadata": {
        "id": "USVFl6KjO4Wk",
        "colab": {
          "base_uri": "https://localhost:8080/",
          "height": 285
        },
        "outputId": "df002629-cc48-40a2-9caf-47f9b9b1b88f"
      }
    },
    {
      "cell_type": "code",
      "execution_count": null,
      "source": [
        "n_lags = 21\n",
        "n_predictions = 15"
      ],
      "outputs": [],
      "metadata": {
        "id": "zvgc6c15sxQe"
      }
    },
    {
      "cell_type": "code",
      "execution_count": null,
      "source": [
        "prediction = model.predict(train_X[-n_predictions:])"
      ],
      "outputs": [],
      "metadata": {
        "id": "c_Z7yQ_hSZZm"
      }
    },
    {
      "cell_type": "code",
      "execution_count": null,
      "source": [
        "prediction_copies = np.repeat(prediction,df.shape[1],axis=-1)\n",
        "y_pred_future = scaler.inverse_transform(prediction_copies)[:,0]"
      ],
      "outputs": [],
      "metadata": {
        "id": "IEIajaoZSeCS"
      }
    },
    {
      "cell_type": "code",
      "execution_count": null,
      "source": [
        "predict_period_dates = pd.date_range(dates[-n_past],periods=n_predictions).tolist()\n",
        "print(predict_period_dates)"
      ],
      "outputs": [],
      "metadata": {
        "id": "fMLgyDrXS3Yu",
        "colab": {
          "base_uri": "https://localhost:8080/"
        },
        "outputId": "c6ea2515-e933-4757-bf21-58a3b4dc56bc"
      }
    },
    {
      "cell_type": "code",
      "execution_count": null,
      "source": [
        "forecast_dates = []\n",
        "for time_i in predict_period_dates:\n",
        "    forecast_dates.append(time_i)"
      ],
      "outputs": [],
      "metadata": {
        "id": "LTnK6WnaT1_K"
      }
    },
    {
      "cell_type": "code",
      "execution_count": null,
      "source": [
        "df_forecast = pd.DataFrame({'Date':np.array(forecast_dates),'Feature':y_pred_future})\n",
        "df_forecast['Date'] = pd.to_datetime(df_forecast['Date'])"
      ],
      "outputs": [],
      "metadata": {
        "id": "aFtLBVWrT5N0"
      }
    },
    {
      "cell_type": "code",
      "execution_count": null,
      "source": [
        "# sns.lineplot(merged['nuovi_positivi'])\n",
        "\n",
        "# sns.lineplot(df_forecast['Feature'])\n",
        "# merged['nuovi_positivi']\n",
        "df_forecast.index = df_forecast['Date']"
      ],
      "outputs": [],
      "metadata": {
        "id": "0qERYDqUT8Ts"
      }
    },
    {
      "cell_type": "code",
      "execution_count": null,
      "source": [
        "df_forecast =  df_forecast.drop('Date',1)"
      ],
      "outputs": [],
      "metadata": {
        "id": "XdKTDiW1gaP2"
      }
    },
    {
      "cell_type": "code",
      "execution_count": null,
      "source": [
        "# sns.lineplot(df_forecast['Feature'])\n",
        "# sns.lineplot(merged['nuovi_positivi'])\n",
        "df_forecast['Feature']\n",
        "df_real = frame_interesting_columns['nuovi_positivi']\n",
        "df_real = pd.DataFrame(df_real[-n_predictions:])"
      ],
      "outputs": [],
      "metadata": {
        "id": "SAwXfwdEhC1W"
      }
    },
    {
      "cell_type": "markdown",
      "source": [
        "#Multivariate LSTM with Generator"
      ],
      "metadata": {
        "id": "3hySbqG_T6sz"
      }
    },
    {
      "cell_type": "code",
      "execution_count": null,
      "source": [
        "from keras.preprocessing.sequence import TimeseriesGenerator\n",
        "df = pd.DataFrame(frame_interesting_columns.drop(['tamponi'],axis=1))\n",
        "\n",
        "values = df.values\n",
        "\n",
        "scaler = MinMaxScaler()\n",
        "scaled = scaler.fit_transform(values)\n",
        "\n",
        "X = scaled[:][:-7]\n",
        "y = scaled[:, 4][7:]\n",
        "\n",
        "train_X, test_X, train_Y, test_Y = sklearn.model_selection.train_test_split(X,y,test_size=0.20,random_state=42,shuffle=False)\n",
        "\n",
        "timesteps = 14\n",
        "\n",
        "train_generator = TimeseriesGenerator(train_X,train_Y,length=timesteps,sampling_rate=1,batch_size=timesteps)\n",
        "test_generator = TimeseriesGenerator(test_X,test_Y,length=timesteps,sampling_rate=1,batch_size=timesteps)\n",
        "\n",
        "model = Sequential()\n",
        "model.add(LSTM(64,activation='relu',input_shape=(train_X.shape[1],train_X.shape[2]),return_sequences=True))\n",
        "model.add(LSTM(32,activation='relu',return_sequences=False))\n",
        "model.add(Dropout(0.2))\n",
        "model.add(Dense(train_y.shape[1]))\n",
        "\n",
        "model.compile(optimizer='adam',loss='mse')\n",
        "model.summary()\n"
      ],
      "outputs": [],
      "metadata": {
        "id": "OVNVS-w4UEqA",
        "outputId": "6b5428a4-bda3-4a1d-999c-0998ea1b8492",
        "colab": {
          "base_uri": "https://localhost:8080/",
          "height": 236
        }
      }
    },
    {
      "cell_type": "code",
      "execution_count": null,
      "source": [
        "# prediction = model.predict(test_generator)"
      ],
      "outputs": [],
      "metadata": {
        "id": "pXJrdN_eU-NK"
      }
    },
    {
      "cell_type": "code",
      "execution_count": null,
      "source": [
        "# train = train.reshape((-1))\n",
        "# test = test.reshape((-1))\n",
        "# prediction = prediction.reshape((-1))\n",
        "\n",
        "# trace1 = go.Scatter(\n",
        "#     x = date_train,\n",
        "#     y = train,\n",
        "#     mode = 'lines',\n",
        "#     name = 'Data'\n",
        "# )\n",
        "# trace2 = go.Scatter(\n",
        "#     x = date_test,\n",
        "#     y = prediction,\n",
        "#     mode = 'lines',\n",
        "#     name = 'Prediction'\n",
        "# )\n",
        "# trace3 = go.Scatter(\n",
        "#     x = date_test,\n",
        "#     y = test,\n",
        "#     mode='lines',\n",
        "#     name = 'Ground Truth'\n",
        "# )\n",
        "# layout = go.Layout(\n",
        "#     title = \"nuovi_positivi\",\n",
        "#     xaxis = {'title' : \"Date\"},\n",
        "#     yaxis = {'title' : \"Close\"}\n",
        "# )\n",
        "\n",
        "# fig = go.Figure(data=[trace1,trace2,trace3],layout=layout)\n",
        "# fig.show()\n",
        "\n",
        "# print('mae:')\n",
        "# # print(mean_absolute_error(test,prediction))\n",
        "\n",
        "# len(test_generator.targets)\n",
        "# len(prediction)\n",
        "\n",
        "# print(len(test))\n",
        "# print(len(prediction))"
      ],
      "outputs": [],
      "metadata": {
        "id": "s75nz7g1VEV-"
      }
    }
  ]
}