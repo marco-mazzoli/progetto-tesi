{
 "cells": [
  {
   "cell_type": "code",
   "execution_count": null,
   "source": [
    "import pandas as pd\n",
    "import numpy as np\n",
    "from matplotlib import pyplot\n",
    "import seaborn as sns\n",
    "import tensorflow as tf\n",
    "import IPython\n",
    "import IPython.display\n",
    "from windows import WindowGenerator\n",
    "from models import MultiStepLastBaseline\n",
    "from statsmodels.tsa.vector_ar.var_model import VAR\n",
    "import sklearn\n",
    "from sklearn.model_selection import TimeSeriesSplit\n",
    "from windows import WindowGenerator\n",
    "from models import MultiStepLastBaseline\n",
    "from tensorflow.keras.models import Sequential\n",
    "from tensorflow.keras.layers import Dense\n",
    "from tensorflow.keras.layers import LSTM\n",
    "from sklearn.metrics import mean_absolute_error\n",
    "from sklearn.preprocessing import MinMaxScaler\n",
    "from statsmodels.tsa.vector_ar.var_model import VAR\n",
    "\n",
    "\n",
    "# fix for 'package not found' when installing in Anaconda environment\n",
    "if 'google.colab' not in str(get_ipython()):\n",
    "    import pip\n",
    "    pip.main(['install', 'xgboost'])\n",
    "\n",
    "if 'google.colab' in str(get_ipython()):\n",
    "  !rm util.py\n",
    "  !rm window.py\n",
    "  !rm models.py\n",
    "  !wget https://raw.githubusercontent.com/marco-mazzoli/progetto-tesi/master/util.py\n",
    "  !wget https://raw.githubusercontent.com/marco-mazzoli/progetto-tesi/master/windows.py\n",
    "  !wget https://raw.githubusercontent.com/marco-mazzoli/progetto-tesi/master/models.py\n",
    "\n",
    "\n",
    "from xgboost import XGBRegressor\n",
    "from util import select_relevant_rows, select_attributes, read_movement_data,download_updated_mobility_data, download_updated_mobility_data, series_to_supervised\n"
   ],
   "outputs": [],
   "metadata": {}
  },
  {
   "cell_type": "markdown",
   "source": [
    "# Data Acquisition and Data Preparation"
   ],
   "metadata": {}
  },
  {
   "cell_type": "code",
   "execution_count": null,
   "source": [
    "local_region_path = r'../COVID-19/dati-regioni/dpc-covid19-ita-regioni.csv'\n",
    "remote_region_path = r'https://raw.githubusercontent.com/pcm-dpc/COVID-19/master/dati-regioni/dpc-covid19-ita-regioni.csv'\n",
    "\n",
    "regions_frame = pd.read_csv(remote_region_path)"
   ],
   "outputs": [],
   "metadata": {}
  },
  {
   "cell_type": "code",
   "execution_count": null,
   "source": [
    "region_focus = 'Emilia-Romagna'\n",
    "attribute_focus = 'denominazione_regione'\n",
    "\n",
    "region_focus_data = select_relevant_rows(\n",
    "    regions_frame,\n",
    "    attribute_focus,\n",
    "    region_focus\n",
    "    )"
   ],
   "outputs": [],
   "metadata": {}
  },
  {
   "cell_type": "code",
   "execution_count": null,
   "source": [
    "frame_interesting_columns = select_attributes(region_focus_data, [\n",
    "    'data',\n",
    "    'ricoverati_con_sintomi',\n",
    "    'terapia_intensiva',\n",
    "    'totale_ospedalizzati',\n",
    "    'variazione_totale_positivi',\n",
    "    'nuovi_positivi',\n",
    "    'deceduti',\n",
    "    'tamponi',\n",
    "    'ingressi_terapia_intensiva'\n",
    "    ])"
   ],
   "outputs": [],
   "metadata": {}
  },
  {
   "cell_type": "code",
   "execution_count": null,
   "source": [
    "frame_interesting_columns.tail()"
   ],
   "outputs": [],
   "metadata": {}
  },
  {
   "cell_type": "code",
   "execution_count": null,
   "source": [
    "frame_interesting_columns = pd.DataFrame(frame_interesting_columns)\n",
    "frame_interesting_columns['data'] = pd.to_datetime(frame_interesting_columns['data'])\n",
    "frame_interesting_columns['data'] = frame_interesting_columns['data'].dt.strftime(r'%Y-%m-%d')\n",
    "frame_interesting_columns = frame_interesting_columns.fillna(0)\n"
   ],
   "outputs": [],
   "metadata": {}
  },
  {
   "cell_type": "code",
   "execution_count": null,
   "source": [
    "mobility_data_url = r'https://www.gstatic.com/covid19/mobility/Global_Mobility_Report.csv'\n",
    "file_path = r'../Global_Mobility_Report.csv'\n",
    "mobility_data_zip_url = r'https://www.gstatic.com/covid19/mobility/Region_Mobility_Report_CSVs.zip'\n",
    "zip_path = r'../Region_Mobility_Report_CSVs.zip'\n",
    "region_mobility_path = r'../Region_Mobility_Report_CSVs'\n",
    "\n",
    "download_updated_mobility_data(\n",
    "    mobility_data_url,\n",
    "    file_path,\n",
    "    region_mobility_path,\n",
    "    mobility_data_zip_url,\n",
    "    zip_path\n",
    "    )\n",
    "\n",
    "mobility_df = read_movement_data(\n",
    "    region_mobility_path,\n",
    "    'IT_Region_Mobility_Report',\n",
    "    region='Emilia-Romagna'\n",
    "    )"
   ],
   "outputs": [],
   "metadata": {}
  },
  {
   "cell_type": "code",
   "execution_count": null,
   "source": [
    "mobility_df = mobility_df[['date',\n",
    "            'retail_and_recreation_percent_change_from_baseline',\n",
    "            'grocery_and_pharmacy_percent_change_from_baseline',\n",
    "            'parks_percent_change_from_baseline',\n",
    "            'transit_stations_percent_change_from_baseline',\n",
    "            'workplaces_percent_change_from_baseline',\n",
    "            'residential_percent_change_from_baseline']].fillna(0)"
   ],
   "outputs": [],
   "metadata": {}
  },
  {
   "cell_type": "code",
   "execution_count": null,
   "source": [
    "frame_interesting_columns.rename(columns={'data': 'date'}, inplace=True)\n",
    "frame_interesting_columns.set_index('date',inplace=True)\n",
    "mobility_df.set_index('date',inplace=True)\n",
    "merged = pd.merge(\n",
    "    frame_interesting_columns,\n",
    "    mobility_df,\n",
    "    on='date'\n",
    "    )\n",
    "merged = merged.fillna(0)\n",
    "merged.set_index(pd.DatetimeIndex(merged.index))"
   ],
   "outputs": [],
   "metadata": {}
  },
  {
   "cell_type": "code",
   "execution_count": null,
   "source": [
    "fig, axes = pyplot.subplots(nrows=4,ncols=2,figsize=(10,8))\n",
    "for i, ax in enumerate(axes.flatten()):\n",
    "    data = np.array(frame_interesting_columns[frame_interesting_columns.columns[i]])\n",
    "    ax.plot(pd.DataFrame(data))\n",
    "    ax.set_title(frame_interesting_columns.columns[i])\n",
    "    ax.plot()\n",
    "\n",
    "pyplot.tight_layout()\n"
   ],
   "outputs": [],
   "metadata": {}
  },
  {
   "cell_type": "code",
   "execution_count": null,
   "source": [
    "fig, axes = pyplot.subplots(nrows=3,ncols=2,figsize=(10,8))\n",
    "for i, ax in enumerate(axes.flatten()):\n",
    "    data = np.array(mobility_df[mobility_df.columns[i]])\n",
    "    ax.plot(pd.DataFrame(data))\n",
    "    ax.set_title(mobility_df.columns[i])\n",
    "    ax.plot()\n",
    "\n",
    "pyplot.tight_layout()\n"
   ],
   "outputs": [],
   "metadata": {}
  },
  {
   "cell_type": "code",
   "execution_count": null,
   "source": [
    "df = merged\n",
    "n = len(merged)\n",
    "train_df = df[0:int(n*0.7)]\n",
    "val_df = df[int(n*0.7):int(n*0.9)]\n",
    "test_df = df[int(n*0.9):]\n",
    "\n",
    "num_features = df.shape[1]\n",
    "num_features"
   ],
   "outputs": [],
   "metadata": {}
  },
  {
   "cell_type": "markdown",
   "source": [
    "# Univariate XGBOOST"
   ],
   "metadata": {}
  },
  {
   "cell_type": "code",
   "execution_count": null,
   "source": [
    "column_univariate = merged['nuovi_positivi']\n",
    "\n",
    "reframed = series_to_supervised(pd.DataFrame(column_univariate),window=7)"
   ],
   "outputs": [],
   "metadata": {}
  },
  {
   "cell_type": "code",
   "execution_count": null,
   "source": [
    "reframed"
   ],
   "outputs": [],
   "metadata": {}
  },
  {
   "cell_type": "code",
   "execution_count": null,
   "source": [
    "def train_test_split(data,n_test):\n",
    "\treturn data[:-n_test, :], data[-n_test:, :]\n",
    "\n",
    "def walk_forward_validation(data,n_test):\n",
    "    predictions = list()\n",
    "    train, test = train_test_split(data,n_test)\n",
    "    history = [x for x in train]\n",
    "    for i in range(len(test)):\n",
    "        testX, testy = test[i, :-1], test[i, -1]\n",
    "        prediction = xgboost_forecast(history, testX)\n",
    "        predictions.append(prediction)\n",
    "        history.append(test[i])\n",
    "        print('expected=%.1f, predicted=%.1f' % (testy, prediction))\n",
    "    error = mean_absolute_error(test[:, -1], predictions)\n",
    "    return error, test[:, 1], predictions\n",
    "\n",
    "def xgboost_forecast(train, testX):\n",
    "    train = np.ascontiguousarray(train)\n",
    "    testX = np.ascontiguousarray(testX)\n",
    "    trainX, trainy = train[:, :-1], train[:, -1]\n",
    "    model = XGBRegressor(objective='reg:squarederror',n_estimators=1000)\n",
    "    model.fit(trainX, trainy)\n",
    "    prediction = model.predict([testX])\n",
    "    return prediction[0]\n",
    "    return 0"
   ],
   "outputs": [],
   "metadata": {}
  },
  {
   "cell_type": "code",
   "execution_count": null,
   "source": [
    "mae, y, yhat = walk_forward_validation(reframed.values,7)"
   ],
   "outputs": [],
   "metadata": {}
  },
  {
   "cell_type": "markdown",
   "source": [
    "# VAR (Vector Auto Regression)"
   ],
   "metadata": {}
  },
  {
   "cell_type": "code",
   "execution_count": null,
   "source": [
    "n_splits=10\n",
    "test_size=5\n",
    "\n",
    "tscv = TimeSeriesSplit(n_splits=n_splits,test_size=test_size)\n",
    "\n",
    "df = frame_interesting_columns\n",
    "\n",
    "for train_index, test_index in tscv.split(df):\n",
    "    train = df.iloc[train_index]\n",
    "    test = df.iloc[test_index]\n",
    "\n",
    "    model = VAR(endog=train,freq='D')\n",
    "    fit = model.fit()\n",
    "    lag_order = fit.k_ar\n",
    "\n",
    "    prediction = fit.forecast(train.values[-lag_order:],len(test_index))\n",
    "\n",
    "    pred_df = pd.DataFrame(prediction,columns=df.columns)\n",
    " \n",
    "    print('train interval: ' + str(train.index[0]) + ' - ' + str(train.index[-1]))\n",
    "    print('test interval: ' + str(test.index[0]) + ' - ' + str(test.index[-1]))\n",
    "    for i in test.columns:\n",
    "        print('mae value for', i, 'is : ', mean_absolute_error(pred_df[i], test[i]))\n"
   ],
   "outputs": [],
   "metadata": {}
  },
  {
   "cell_type": "markdown",
   "source": [
    "# LSTMS(Long Short Term Memory)"
   ],
   "metadata": {}
  },
  {
   "cell_type": "code",
   "execution_count": null,
   "source": [
    "merged.drop('tamponi',axis=1)\n",
    "scaler = MinMaxScaler(feature_range=(0, 1))\n",
    "scaled = scaler.fit_transform(merged)"
   ],
   "outputs": [],
   "metadata": {}
  },
  {
   "cell_type": "code",
   "execution_count": null,
   "source": [
    "reframed = series_to_supervised(merged, 1, 1)\n",
    "values = reframed.values\n",
    "train = values[:400, :]\n",
    "test = values[400:, :]\n",
    "\n",
    "train_X, train_y = train[:, :-1], train[:, -1]\n",
    "test_X, test_y = test[:, :-1], test[:, -1]\n",
    "\n",
    "train_X = train_X.reshape((train_X.shape[0], 1, train_X.shape[1]))\n",
    "test_X = test_X.reshape((test_X.shape[0], 1, test_X.shape[1]))\n",
    "\n",
    "print(train_X.shape, train_y.shape, test_X.shape, test_y.shape)"
   ],
   "outputs": [],
   "metadata": {}
  },
  {
   "cell_type": "code",
   "execution_count": null,
   "source": [
    "reframed"
   ],
   "outputs": [],
   "metadata": {}
  },
  {
   "cell_type": "code",
   "execution_count": null,
   "source": [
    "model = Sequential()\n",
    "model.add(LSTM(50, input_shape=(train_X.shape[1], train_X.shape[2])))\n",
    "model.add(Dense(1))\n",
    "model.compile(loss='mae', optimizer='adam')\n",
    "# fit network\n",
    "history = model.fit(train_X, train_y, epochs=50, batch_size=72, validation_data=(test_X, test_y), verbose=2, shuffle=False)\n",
    "# plot history\n",
    "pyplot.plot(history.history['loss'], label='train')\n",
    "pyplot.plot(history.history['val_loss'], label='test')\n",
    "pyplot.legend()\n",
    "pyplot.show()"
   ],
   "outputs": [],
   "metadata": {}
  }
 ],
 "metadata": {
  "kernelspec": {
   "name": "python3",
   "display_name": "Python 3.7.10 64-bit ('tf': conda)"
  },
  "language_info": {
   "name": "python",
   "version": "3.7.11",
   "mimetype": "text/x-python",
   "codemirror_mode": {
    "name": "ipython",
    "version": 3
   },
   "pygments_lexer": "ipython3",
   "nbconvert_exporter": "python",
   "file_extension": ".py"
  },
  "metadata": {
   "interpreter": {
    "hash": "f85c0ae1067a86ad6a96b144378883e79fd1516474b579ba33ee3a7084540002"
   }
  },
  "interpreter": {
   "hash": "1c7e388e2ed574d750f7b34bb7f79b568612e5c2dbb821bdb25fb5e93abee03f"
  }
 },
 "nbformat": 4,
 "nbformat_minor": 4
}