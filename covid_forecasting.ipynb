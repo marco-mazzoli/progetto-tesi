{
  "cells": [
    {
      "cell_type": "code",
      "execution_count": null,
      "metadata": {
        "colab": {
          "base_uri": "https://localhost:8080/"
        },
        "id": "VSEhcEI602Qp",
        "outputId": "cc68a71c-f80b-4119-d364-421105a11ade"
      },
      "outputs": [],
      "source": [
        "import pandas as pd\n",
        "import numpy as np\n",
        "from matplotlib import pyplot\n",
        "import seaborn as sns\n",
        "import tensorflow as tf\n",
        "import IPython\n",
        "import IPython.display\n",
        "from statsmodels.tsa.vector_ar.var_model import VAR\n",
        "import sklearn\n",
        "from sklearn.model_selection import TimeSeriesSplit\n",
        "from tensorflow.keras.models import Sequential\n",
        "from tensorflow.keras.layers import Dense, Dropout, LSTM\n",
        "from sklearn.metrics import mean_absolute_error\n",
        "from sklearn.preprocessing import MinMaxScaler\n",
        "from statsmodels.tsa.vector_ar.var_model import VAR\n",
        "from keras.preprocessing.sequence import TimeseriesGenerator\n",
        "import plotly.graph_objects as go\n",
        "from sklearn.model_selection import train_test_split\n",
        "\n",
        "# fix for 'package not found' when installing in Anaconda environment\n",
        "if 'google.colab' not in str(get_ipython()):\n",
        "    import pip\n",
        "    pip.main(['install', 'xgboost'])\n",
        "\n",
        "if 'google.colab' in str(get_ipython()):\n",
        "  !rm util.py\n",
        "  !rm window.py\n",
        "  !rm models.py\n",
        "  !wget https://raw.githubusercontent.com/marco-mazzoli/progetto-tesi/master/util.py\n",
        "  !wget https://raw.githubusercontent.com/marco-mazzoli/progetto-tesi/master/windows.py\n",
        "  !wget https://raw.githubusercontent.com/marco-mazzoli/progetto-tesi/master/models.py\n",
        "\n",
        "from xgboost import XGBRegressor\n",
        "from util import select_relevant_rows, select_attributes, read_movement_data,download_updated_mobility_data, download_updated_mobility_data, series_to_supervised\n",
        "from windows import WindowGenerator\n",
        "from models import MultiStepLastBaseline"
      ]
    },
    {
      "cell_type": "markdown",
      "metadata": {
        "id": "-_laukLF02RI"
      },
      "source": [
        "# Data Acquisition and Data Preparation"
      ]
    },
    {
      "cell_type": "code",
      "execution_count": null,
      "metadata": {
        "id": "jH7mmQes02RO"
      },
      "outputs": [],
      "source": [
        "local_region_path = r'../COVID-19/dati-regioni/dpc-covid19-ita-regioni.csv'\n",
        "remote_region_path = r'https://raw.githubusercontent.com/pcm-dpc/COVID-19/master/dati-regioni/dpc-covid19-ita-regioni.csv'\n",
        "\n",
        "regions_frame = pd.read_csv(remote_region_path)"
      ]
    },
    {
      "cell_type": "code",
      "execution_count": null,
      "metadata": {
        "id": "PUYXkpT902RQ"
      },
      "outputs": [],
      "source": [
        "region_focus = 'Emilia-Romagna'\n",
        "attribute_focus = 'denominazione_regione'\n",
        "\n",
        "region_focus_data = select_relevant_rows(\n",
        "    regions_frame,\n",
        "    attribute_focus,\n",
        "    region_focus\n",
        "    )"
      ]
    },
    {
      "cell_type": "code",
      "execution_count": null,
      "metadata": {
        "id": "e6-D1als02RU"
      },
      "outputs": [],
      "source": [
        "frame_interesting_columns = select_attributes(region_focus_data, [\n",
        "    'data',\n",
        "    'ricoverati_con_sintomi',\n",
        "    'terapia_intensiva',\n",
        "    'totale_ospedalizzati',\n",
        "    'variazione_totale_positivi',\n",
        "    'nuovi_positivi',\n",
        "    'deceduti',\n",
        "    'tamponi',\n",
        "    'ingressi_terapia_intensiva'\n",
        "    ])"
      ]
    },
    {
      "cell_type": "code",
      "execution_count": null,
      "metadata": {
        "colab": {
          "base_uri": "https://localhost:8080/",
          "height": 204
        },
        "id": "Kd6Ufo-U02Ra",
        "outputId": "5cddce52-3098-4eaf-d0e1-f88bd8560913"
      },
      "outputs": [],
      "source": [
        "frame_interesting_columns.tail()"
      ]
    },
    {
      "cell_type": "code",
      "execution_count": null,
      "metadata": {
        "id": "DyOjvvC402Rb"
      },
      "outputs": [],
      "source": [
        "frame_interesting_columns = pd.DataFrame(frame_interesting_columns)\n",
        "frame_interesting_columns['data'] = pd.to_datetime(frame_interesting_columns['data'])\n",
        "frame_interesting_columns['data'] = frame_interesting_columns['data'].dt.strftime(r'%Y-%m-%d')\n",
        "frame_interesting_columns = frame_interesting_columns.fillna(0)\n"
      ]
    },
    {
      "cell_type": "code",
      "execution_count": null,
      "metadata": {
        "colab": {
          "base_uri": "https://localhost:8080/"
        },
        "id": "tDVPGa3Y02Rc",
        "outputId": "0c09d211-ae95-467d-fa79-c35392e04f05"
      },
      "outputs": [],
      "source": [
        "mobility_data_url = r'https://www.gstatic.com/covid19/mobility/Global_Mobility_Report.csv'\n",
        "file_path = r'../Global_Mobility_Report.csv'\n",
        "mobility_data_zip_url = r'https://www.gstatic.com/covid19/mobility/Region_Mobility_Report_CSVs.zip'\n",
        "zip_path = r'../Region_Mobility_Report_CSVs.zip'\n",
        "region_mobility_path = r'../Region_Mobility_Report_CSVs'\n",
        "\n",
        "download_updated_mobility_data(\n",
        "    mobility_data_url,\n",
        "    file_path,\n",
        "    region_mobility_path,\n",
        "    mobility_data_zip_url,\n",
        "    zip_path\n",
        "    )\n",
        "\n",
        "mobility_df = read_movement_data(\n",
        "    region_mobility_path,\n",
        "    'IT_Region_Mobility_Report',\n",
        "    region='Emilia-Romagna'\n",
        "    )"
      ]
    },
    {
      "cell_type": "code",
      "execution_count": null,
      "metadata": {
        "id": "18ESzhUi02Re"
      },
      "outputs": [],
      "source": [
        "mobility_df = mobility_df[['date',\n",
        "            'retail_and_recreation_percent_change_from_baseline',\n",
        "            'grocery_and_pharmacy_percent_change_from_baseline',\n",
        "            'parks_percent_change_from_baseline',\n",
        "            'transit_stations_percent_change_from_baseline',\n",
        "            'workplaces_percent_change_from_baseline',\n",
        "            'residential_percent_change_from_baseline']].fillna(0)"
      ]
    },
    {
      "cell_type": "code",
      "execution_count": null,
      "metadata": {
        "colab": {
          "base_uri": "https://localhost:8080/",
          "height": 640
        },
        "id": "9TiER3qD02R0",
        "outputId": "9be1a09e-5bba-4894-d8d6-71678cad808e"
      },
      "outputs": [],
      "source": [
        "frame_interesting_columns.rename(columns={'data': 'date'}, inplace=True)\n",
        "frame_interesting_columns.set_index('date',inplace=True)\n",
        "mobility_df.set_index('date',inplace=True)\n",
        "merged = pd.merge(\n",
        "    frame_interesting_columns,\n",
        "    mobility_df,\n",
        "    on='date'\n",
        "    )\n",
        "merged = merged.fillna(0)\n",
        "merged.set_index(pd.DatetimeIndex(merged.index))"
      ]
    },
    {
      "cell_type": "code",
      "execution_count": null,
      "metadata": {
        "colab": {
          "base_uri": "https://localhost:8080/",
          "height": 585
        },
        "id": "VqNVQUy802R1",
        "outputId": "fbfe85e1-be65-4da5-b4c4-0595bb95b8c4"
      },
      "outputs": [],
      "source": [
        "fig, axes = pyplot.subplots(nrows=4,ncols=2,figsize=(10,8))\n",
        "for i, ax in enumerate(axes.flatten()):\n",
        "    data = np.array(frame_interesting_columns[frame_interesting_columns.columns[i]])\n",
        "    ax.plot(pd.DataFrame(data))\n",
        "    ax.set_title(frame_interesting_columns.columns[i])\n",
        "    ax.plot()\n",
        "\n",
        "pyplot.tight_layout()\n"
      ]
    },
    {
      "cell_type": "code",
      "execution_count": null,
      "metadata": {
        "colab": {
          "base_uri": "https://localhost:8080/",
          "height": 585
        },
        "id": "CkC4rbID02SI",
        "outputId": "99e73145-e88a-4fd3-a6f5-a704bdf6f71c"
      },
      "outputs": [],
      "source": [
        "fig, axes = pyplot.subplots(nrows=3,ncols=2,figsize=(10,8))\n",
        "for i, ax in enumerate(axes.flatten()):\n",
        "    data = np.array(mobility_df[mobility_df.columns[i]])\n",
        "    ax.plot(pd.DataFrame(data))\n",
        "    ax.set_title(mobility_df.columns[i])\n",
        "    ax.plot()\n",
        "\n",
        "pyplot.tight_layout()\n"
      ]
    },
    {
      "cell_type": "code",
      "execution_count": null,
      "metadata": {
        "id": "1nz7W8AP02SK"
      },
      "outputs": [],
      "source": [
        "df = merged\n",
        "n = len(merged)\n",
        "train_df = df[0:int(n*0.7)]\n",
        "val_df = df[int(n*0.7):int(n*0.9)]\n",
        "test_df = df[int(n*0.9):]\n",
        "\n",
        "num_features = df.shape[1]"
      ]
    },
    {
      "cell_type": "markdown",
      "metadata": {
        "id": "aA6MV9wO02SL"
      },
      "source": [
        "# Univariate XGBOOST"
      ]
    },
    {
      "cell_type": "code",
      "execution_count": null,
      "metadata": {
        "id": "9KIMN_xj02SM"
      },
      "outputs": [],
      "source": [
        "column_univariate = 'nuovi_positivi'\n",
        "df = pd.DataFrame(frame_interesting_columns[column_univariate])\n",
        "scaler = MinMaxScaler(feature_range=(0,1))\n",
        "scaled = scaler.fit_transform(df)\n",
        "\n",
        "values = scaled\n",
        "\n",
        "look_back = 7\n",
        "\n",
        "reframed = series_to_supervised(pd.DataFrame(values),window=look_back)"
      ]
    },
    {
      "cell_type": "code",
      "execution_count": null,
      "metadata": {
        "colab": {
          "base_uri": "https://localhost:8080/",
          "height": 419
        },
        "id": "99cvRPoN02SM",
        "outputId": "f8f11667-6317-4b5b-9860-0dfb6180f500"
      },
      "outputs": [],
      "source": [
        "reframed"
      ]
    },
    {
      "cell_type": "code",
      "execution_count": null,
      "metadata": {
        "id": "61TluCEU02SN"
      },
      "outputs": [],
      "source": [
        "def split_for_testing(data,n_test):\n",
        "\treturn data[:-n_test, :], data[-n_test:, :]\n",
        "\n",
        "def walk_forward_validation(data,n_test):\n",
        "    predictions = list()\n",
        "    train, test = split_for_testing(data,n_test)\n",
        "    history = [x for x in train]\n",
        "    for i in range(len(test)):\n",
        "        test_X, test_y = test[i, :-1], test[i, -1]\n",
        "        prediction = xgboost_forecast(history,test_X)\n",
        "        predictions.append(prediction)\n",
        "        history.append(test[i])\n",
        "    error = mean_absolute_error(test[:, -1],predictions)\n",
        "    return error, test[:, 1], predictions\n",
        "\n",
        "def xgboost_forecast(train,test_X):\n",
        "    train = np.ascontiguousarray(train)\n",
        "    test_X = np.ascontiguousarray(test_X)\n",
        "    train_X, train_y = train[:, :-1], train[:, -1]\n",
        "    model = XGBRegressor(objective='reg:squarederror',n_estimators=1000)\n",
        "    model.fit(train_X, train_y)\n",
        "    prediction = model.predict([test_X])\n",
        "    return prediction[0]"
      ]
    },
    {
      "cell_type": "code",
      "execution_count": null,
      "metadata": {
        "colab": {
          "base_uri": "https://localhost:8080/"
        },
        "id": "5goGIods02SP",
        "outputId": "35683575-1d45-4d2a-d810-ab5d43c746cd"
      },
      "outputs": [],
      "source": [
        "mae, y, yhat = walk_forward_validation(reframed.values,look_back)"
      ]
    },
    {
      "cell_type": "code",
      "execution_count": null,
      "metadata": {
        "colab": {
          "base_uri": "https://localhost:8080/",
          "height": 285
        },
        "id": "uIXBa8g302Sc",
        "outputId": "bc2744e4-335d-400c-a4ab-d367ab108714"
      },
      "outputs": [],
      "source": [
        "print('MAE: %.3f' % mae)\n",
        "pyplot.plot(y,label='Expected')\n",
        "pyplot.plot(yhat,label='Predicted')\n",
        "pyplot.legend()\n",
        "pyplot.show()"
      ]
    },
    {
      "cell_type": "markdown",
      "metadata": {
        "id": "or46puPe02Sf"
      },
      "source": [
        "# VAR (Vector Auto Regression)"
      ]
    },
    {
      "cell_type": "code",
      "execution_count": null,
      "metadata": {
        "id": "KGG6di6pWImL"
      },
      "outputs": [],
      "source": [
        "# !pip3 install scikit-learn==0.24"
      ]
    },
    {
      "cell_type": "code",
      "execution_count": null,
      "metadata": {
        "id": "F4CFckSM02Sg"
      },
      "outputs": [],
      "source": [
        "# n_splits=10\n",
        "# test_size=5\n",
        "\n",
        "# tscv = TimeSeriesSplit(n_splits=n_splits,test_size=test_size)\n",
        "\n",
        "# df = frame_interesting_columns\n",
        "\n",
        "# for train_index, test_index in tscv.split(df):\n",
        "#     train = df.iloc[train_index]\n",
        "#     test = df.iloc[test_index]\n",
        "\n",
        "#     model = VAR(endog=train,freq='D')\n",
        "#     fit = model.fit()\n",
        "#     lag_order = fit.k_ar\n",
        "\n",
        "#     prediction = fit.forecast(train.values[-lag_order:],len(test_index))\n",
        "\n",
        "#     pred_df = pd.DataFrame(prediction,columns=df.columns)\n",
        " \n",
        "#     print('train interval: ' + str(train.index[0]) + ' - ' + str(train.index[-1]))\n",
        "#     print('test interval: ' + str(test.index[0]) + ' - ' + str(test.index[-1]))\n",
        "#     for i in test.columns:\n",
        "#         print('mae value for', i, 'is : ', mean_absolute_error(pred_df[i], test[i]))\n"
      ]
    },
    {
      "cell_type": "markdown",
      "metadata": {
        "id": "lomTEbf-02Sh"
      },
      "source": [
        "# LSTM Univariate\n"
      ]
    },
    {
      "cell_type": "code",
      "execution_count": null,
      "metadata": {
        "id": "kmuC-iA802Sh"
      },
      "outputs": [],
      "source": [
        "column_univariate = 'nuovi_positivi'\n",
        "df = pd.DataFrame(frame_interesting_columns[column_univariate])\n",
        "scaler = MinMaxScaler(feature_range=(0,1))\n",
        "scaled = scaler.fit_transform(df)\n",
        "\n",
        "look_back = 7"
      ]
    },
    {
      "cell_type": "code",
      "execution_count": null,
      "metadata": {
        "id": "PNmMeHi802Si"
      },
      "outputs": [],
      "source": [
        "split_percent = 0.80\n",
        "split = int(split_percent*len(scaled))\n",
        "\n",
        "train = scaled[:split,:]\n",
        "test = scaled[split:,]\n",
        "\n",
        "date_train = df.index[:split]\n",
        "date_test = df.index[split:]\n",
        "date_prediction = df.index[split+look_back:]\n",
        "\n",
        "train_reframed = series_to_supervised(pd.DataFrame(train),look_back,1).values\n",
        "test_reframed = series_to_supervised(pd.DataFrame(test),look_back,1).values\n",
        "\n",
        "train_X, train_y = train_reframed[:,:-1], train_reframed[:,-1]\n",
        "test_X, test_y = test_reframed[:,:-1], test_reframed[:,-1]\n",
        "\n",
        "train_X = train_X.reshape((train_X.shape[0],train_X.shape[1],1))\n",
        "test_X = test_X.reshape((test_X.shape[0],test_X.shape[1],1))\n"
      ]
    },
    {
      "cell_type": "code",
      "execution_count": null,
      "metadata": {
        "colab": {
          "base_uri": "https://localhost:8080/",
          "height": 268
        },
        "id": "MlovFcME02Su",
        "outputId": "f4aa07f6-ba23-463e-979f-20c6d6984f58"
      },
      "outputs": [],
      "source": [
        "model = Sequential()\n",
        "model.add(LSTM(50, input_shape=(train_X.shape[1],train_X.shape[2])))\n",
        "model.add(Dense(1))\n",
        "model.compile(loss='mae',optimizer='adam')\n",
        "\n",
        "history = model.fit(train_X,train_y,epochs=50,batch_size=72,validation_data=(test_X,test_y),verbose=0,shuffle=False)\n",
        "\n",
        "pyplot.plot(history.history['loss'],label='Training loss')\n",
        "pyplot.plot(history.history['val_loss'],label='Validation loss')\n",
        "pyplot.legend()\n",
        "pyplot.show()"
      ]
    },
    {
      "cell_type": "code",
      "execution_count": null,
      "metadata": {
        "colab": {
          "base_uri": "https://localhost:8080/",
          "height": 576
        },
        "id": "Vtm_RZ0I3qJB",
        "outputId": "ee92a9d8-eba8-4a5b-de5d-e530a0fa5267"
      },
      "outputs": [],
      "source": [
        "prediction = model.predict(test_X)\n",
        "\n",
        "train = scaler.inverse_transform(train).reshape(-1)\n",
        "test = scaler.inverse_transform(test).reshape(-1)\n",
        "prediction = scaler.inverse_transform(prediction).reshape(-1)\n",
        "\n",
        "print('Test error')\n",
        "print(mean_absolute_error(test[look_back + 1:],prediction))\n",
        "\n",
        "trace1 = go.Scatter(x=date_train,y=train,mode='lines',name='Data')\n",
        "trace2 = go.Scatter(x=date_prediction,y=prediction,mode='lines',name='Prediction')\n",
        "# trace3 = go.Scatter(x=date_test,y=test,mode='lines',name='Ground Truth')\n",
        "layout = go.Layout(title=\"nuovi_positivi\",xaxis={'title':\"Date\"},yaxis={'title':\"nuovi_positivi\"})\n",
        "\n",
        "fig = go.Figure(data=[trace1,trace2,trace3],layout=layout)\n",
        "fig.show()"
      ]
    },
    {
      "cell_type": "markdown",
      "metadata": {
        "id": "b4ZwyAH-coPq"
      },
      "source": [
        "#Univariate LSTM with TimeseriesGenerator"
      ]
    },
    {
      "cell_type": "code",
      "execution_count": null,
      "metadata": {
        "colab": {
          "base_uri": "https://localhost:8080/",
          "height": 265
        },
        "id": "6pfvZjsL2v_l",
        "outputId": "5c07bd4b-eb01-4e99-f929-ad3431283ab3"
      },
      "outputs": [],
      "source": [
        "df = pd.DataFrame(frame_interesting_columns['nuovi_positivi'])\n",
        "\n",
        "scaler = MinMaxScaler(feature_range=(0,1))\n",
        "scaled = scaler.fit_transform(df.values)\n",
        "\n",
        "# values = df['nuovi_positivi'].values\n",
        "# values = values.reshape((-1,1))\n",
        "\n",
        "values = scaled\n",
        "\n",
        "split_percent = 0.80\n",
        "split = int(split_percent*len(values))\n",
        "\n",
        "look_back = 7\n",
        "\n",
        "train = values[:split]\n",
        "test = values[split:]\n",
        "\n",
        "date_train = df.index[:split]\n",
        "date_test = df.index[split:]\n",
        "date_prediction = df.index[split+look_back:]\n",
        "\n",
        "train_generator = TimeseriesGenerator(train,train,length=look_back,batch_size=20)    \n",
        "test_generator = TimeseriesGenerator(test,test,length=look_back,batch_size=1)\n",
        "\n",
        "model = Sequential()\n",
        "model.add(LSTM(50,activation='relu',input_shape=(look_back,1)))\n",
        "model.add(Dense(1))\n",
        "model.compile(optimizer='adam',loss='mae')\n",
        "\n",
        "num_epochs = 50\n",
        "history = model.fit(train_generator,validation_data=test_generator,epochs=num_epochs,verbose=0)\n",
        "\n",
        "pyplot.plot(history.history['loss'],label='Training loss')\n",
        "pyplot.plot(history.history['val_loss'],label='Validation loss')\n",
        "pyplot.legend()\n",
        "pyplot.show()"
      ]
    },
    {
      "cell_type": "code",
      "execution_count": null,
      "metadata": {
        "colab": {
          "base_uri": "https://localhost:8080/",
          "height": 576
        },
        "id": "blPJvkMm4jqr",
        "outputId": "432290b6-a98f-4b48-cf77-69295d3db8ab"
      },
      "outputs": [],
      "source": [
        "prediction = model.predict(test_generator)\n",
        "\n",
        "train = scaler.inverse_transform(train).reshape(-1)\n",
        "test = scaler.inverse_transform(test).reshape(-1)\n",
        "prediction = scaler.inverse_transform(prediction).reshape(-1)\n",
        "\n",
        "trace1 = go.Scatter(x=date_train,y=train,mode='lines',name='Data')\n",
        "trace2 = go.Scatter(x=date_prediction,y=prediction,mode='lines',name='Prediction')\n",
        "trace3 = go.Scatter(x=date_test,y=test,mode='lines',name='Ground Truth')\n",
        "layout = go.Layout(title=\"nuovi_positivi\",xaxis={'title':\"Date\"},yaxis={'title':\"nuovi_positivi\"})\n",
        "\n",
        "fig = go.Figure(data=[trace1,trace2,trace3],layout=layout)\n",
        "fig.show()\n",
        "\n",
        "# first seven steps used for lags to avoid using last 7 steps for \n",
        "# training in order to avoid using traing data for testing\n",
        "print('mae:')\n",
        "print(mean_absolute_error(test[look_back:],prediction))\n"
      ]
    },
    {
      "cell_type": "markdown",
      "metadata": {
        "id": "bgb1Mg4StHbT"
      },
      "source": [
        "# Multivariate LSTM"
      ]
    },
    {
      "cell_type": "code",
      "execution_count": null,
      "metadata": {
        "id": "QHiFkUcG4ZZK"
      },
      "outputs": [],
      "source": [
        "df = pd.DataFrame(frame_interesting_columns.drop('tamponi',axis=1))\n",
        "scaler = MinMaxScaler(feature_range=(0,1))\n",
        "scaled = scaler.fit_transform(df)"
      ]
    },
    {
      "cell_type": "code",
      "execution_count": null,
      "metadata": {
        "colab": {
          "base_uri": "https://localhost:8080/"
        },
        "id": "LImLl3j6N6Q6",
        "outputId": "08c28a2b-7753-4eb9-9793-bbf3314d59f8"
      },
      "outputs": [],
      "source": [
        "train_X = []\n",
        "train_y = []\n",
        "\n",
        "n_future = 1\n",
        "n_past = 14\n",
        "\n",
        "dates = df.index\n",
        "\n",
        "values = scaled\n",
        "\n",
        "for i in range(n_past,len(values) - n_future + 1):\n",
        "    train_X.append(values[i - n_past:i,0:values.shape[1]])\n",
        "    train_y.append(values[i + n_future - 1:i + n_future,0])\n",
        "\n",
        "train_X, train_y = np.array(train_X), np.array(train_y)\n",
        "\n",
        "print('train_X shape == {}.'.format(train_X.shape))\n",
        "print('train_y shape == {}.'.format(train_y.shape))\n",
        "\n",
        "model = Sequential()\n",
        "model.add(LSTM(64,activation='relu',input_shape=(train_X.shape[1],train_X.shape[2]),return_sequences=True))\n",
        "model.add(LSTM(32,activation='relu',return_sequences=False))\n",
        "model.add(Dropout(0.2))\n",
        "model.add(Dense(train_y.shape[1]))\n",
        "\n",
        "model.compile(optimizer='adam',loss='mse')\n",
        "model.summary()"
      ]
    },
    {
      "cell_type": "code",
      "execution_count": null,
      "metadata": {
        "colab": {
          "base_uri": "https://localhost:8080/"
        },
        "id": "AENwxChxTSM8",
        "outputId": "e5d9c714-b1bb-45a8-a627-394d7310baeb"
      },
      "outputs": [],
      "source": [
        "values.shape"
      ]
    },
    {
      "cell_type": "code",
      "execution_count": null,
      "metadata": {
        "colab": {
          "base_uri": "https://localhost:8080/",
          "height": 282
        },
        "id": "ldsNBHShOvRo",
        "outputId": "858bc1c3-8b32-470b-b387-fa612e7573de"
      },
      "outputs": [],
      "source": [
        "history = model.fit(train_X,train_y,epochs=20,batch_size=16,validation_split=0.2,verbose=0)\n",
        "pyplot.plot(history.history['loss'],label='Training loss')\n",
        "pyplot.plot(history.history['val_loss'],label='Validation loss')\n",
        "pyplot.legend()"
      ]
    },
    {
      "cell_type": "code",
      "execution_count": null,
      "metadata": {
        "colab": {
          "base_uri": "https://localhost:8080/"
        },
        "id": "zvgc6c15sxQe",
        "outputId": "cc962a4a-b10f-4a62-83fb-33aeed93ef24"
      },
      "outputs": [],
      "source": [
        "n_lags = 21\n",
        "n_predictions = 15\n",
        "\n",
        "prediction = model.predict(train_X[-n_predictions:])\n",
        "prediction_copies = np.repeat(prediction,df.shape[1],axis=-1)\n",
        "y_pred_future = scaler.inverse_transform(prediction_copies)[:,0]\n",
        "\n",
        "predict_period_dates = pd.date_range(dates[-n_past],periods=n_predictions).tolist()\n",
        "print(predict_period_dates)\n",
        "\n",
        "forecast_dates = []\n",
        "for time_i in predict_period_dates:\n",
        "    forecast_dates.append(time_i)\n",
        "\n",
        "df_forecast = pd.DataFrame({'Date':np.array(forecast_dates),'Feature':y_pred_future})\n",
        "df_forecast['Date'] = pd.to_datetime(df_forecast['Date'])\n",
        "\n",
        "# sns.lineplot(merged['nuovi_positivi'])\n",
        "\n",
        "# sns.lineplot(df_forecast['Feature'])\n",
        "# merged['nuovi_positivi']\n",
        "df_forecast.index = df_forecast['Date']\n",
        "\n",
        "df_forecast =  df_forecast.drop('Date',1)\n",
        "\n",
        "# sns.lineplot(df_forecast['Feature'])\n",
        "# sns.lineplot(merged['nuovi_positivi'])\n",
        "df_forecast['Feature']\n",
        "df_real = frame_interesting_columns['nuovi_positivi']\n",
        "df_real = pd.DataFrame(df_real[-n_predictions:])"
      ]
    },
    {
      "cell_type": "markdown",
      "metadata": {
        "id": "aq4kerF4cyB3"
      },
      "source": [
        "# Multivariate LSTM with TimeseriesGenerator"
      ]
    },
    {
      "cell_type": "code",
      "execution_count": null,
      "metadata": {
        "colab": {
          "base_uri": "https://localhost:8080/"
        },
        "id": "FBBd_ev2t9-V",
        "outputId": "4ec927fc-d2e3-401f-c11b-45da28ad1065"
      },
      "outputs": [],
      "source": [
        "df = pd.DataFrame(frame_interesting_columns.drop('tamponi',axis=1))\n",
        "scaler = MinMaxScaler(feature_range=(0,1))\n",
        "scaled = scaler.fit_transform(df.values)\n",
        "\n",
        "values = scaled\n",
        "\n",
        "column_to_predict = 'nuovi_positivi'\n",
        "index_to_predict = df.columns.get_loc(column_to_predict)\n",
        "\n",
        "split_percent = 0.80\n",
        "split = int(split_percent*len(values))\n",
        "\n",
        "look_back = 7\n",
        "\n",
        "# X contains all columns with the last $look_back readings removed\n",
        "# y contains the column to be predicted withouth the first $look_back readings\n",
        "X = values[:][:-look_back]\n",
        "y = values[:,index_to_predict][look_back:]\n",
        "\n",
        "train_X, test_X, train_y, test_y = train_test_split(X,y,test_size=0.20,random_state=42,shuffle=False)\n",
        "\n",
        "train_generator = TimeseriesGenerator(train_X,train_y,sampling_rate=1,length=look_back,batch_size=look_back)\n",
        "test_generator = TimeseriesGenerator(test_X,test_y,sampling_rate=1,length=look_back,batch_size=look_back)\n",
        "\n",
        "model = Sequential()\n",
        "model.add(LSTM(64,activation='relu',input_shape=(look_back,scaled.shape[1]),return_sequences=True))\n",
        "model.add(LSTM(32,activation='relu',return_sequences=False))\n",
        "model.add(Dropout(0.2))\n",
        "model.add(Dense(1))\n",
        "\n",
        "model.compile(optimizer='adam',loss='mse')\n",
        "model.summary()"
      ]
    },
    {
      "cell_type": "code",
      "execution_count": null,
      "metadata": {
        "colab": {
          "base_uri": "https://localhost:8080/",
          "height": 282
        },
        "id": "6l5uYiW5IW5i",
        "outputId": "49b3f20e-0d4a-4be4-d0c9-2cb833c7bace"
      },
      "outputs": [],
      "source": [
        "history = model.fit(train_generator,validation_data=test_generator,epochs=num_epochs,verbose=0)\n",
        "\n",
        "pyplot.plot(history.history['loss'],label='Training loss')\n",
        "pyplot.plot(history.history['val_loss'],label='Validation loss')\n",
        "pyplot.legend()"
      ]
    },
    {
      "cell_type": "code",
      "execution_count": null,
      "metadata": {
        "colab": {
          "base_uri": "https://localhost:8080/",
          "height": 576
        },
        "id": "172oii_QOdKC",
        "outputId": "ee0784b1-d993-4db0-a731-31ce66387fa1"
      },
      "outputs": [],
      "source": [
        "prediction = model.predict(test_generator)\n",
        "\n",
        "prediction_copies = np.repeat(prediction,df.shape[1],axis=-1)\n",
        "test_copies = np.repeat(pd.DataFrame(test_y).values,df.shape[1],axis=-1)\n",
        "\n",
        "prediction_descaled = scaler.inverse_transform(prediction_copies)[:,0]\n",
        "test_descaled = scaler.inverse_transform(test_copies)[:,0]\n",
        "\n",
        "train = scaler.inverse_transform(values)[:,index_to_predict].reshape(-1)\n",
        "test = test_descaled.reshape((-1))\n",
        "prediction = prediction_descaled.reshape((-1))\n",
        "\n",
        "trace1 = go.Scatter(x=date_train,y=train,mode='lines',name='Data')\n",
        "trace2 = go.Scatter(x=date_prediction,y=prediction,mode='lines',name='Prediction')\n",
        "trace3 = go.Scatter(x=date_test,y=test,mode='lines',name='Ground Truth')\n",
        "layout = go.Layout(title=\"nuovi_positivi\",xaxis={'title':\"Date\"},yaxis={'title':\"nuovi_positivi\"})\n",
        "\n",
        "fig = go.Figure(data=[trace1,trace2,trace3],layout=layout)\n",
        "fig.show()\n",
        "\n",
        "# first seven steps used for lags to avoid using last 7 steps for \n",
        "# training in order to avoid using traing data for testing\n",
        "print('mae:')\n",
        "print(mean_absolute_error(test[look_back:],prediction))"
      ]
    }
  ],
  "metadata": {
    "colab": {
      "name": "covid_forecasting.ipynb",
      "provenance": []
    },
    "interpreter": {
      "hash": "b6e8a8e6cd5b0d8bd2b931e6e2bcfab8fa0bbcead3979137bf827a61abd923e3"
    },
    "kernelspec": {
      "display_name": "Python 3.7.11 64-bit ('tf': conda)",
      "name": "python3"
    },
    "language_info": {
      "codemirror_mode": {
        "name": "ipython",
        "version": 3
      },
      "file_extension": ".py",
      "mimetype": "text/x-python",
      "name": "python",
      "nbconvert_exporter": "python",
      "pygments_lexer": "ipython3",
      "version": "3.7.11"
    },
    "metadata": {
      "interpreter": {
        "hash": "f85c0ae1067a86ad6a96b144378883e79fd1516474b579ba33ee3a7084540002"
      }
    }
  },
  "nbformat": 4,
  "nbformat_minor": 0
}
