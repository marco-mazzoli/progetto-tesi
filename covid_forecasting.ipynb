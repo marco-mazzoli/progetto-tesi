{
  "cells": [
    {
      "cell_type": "code",
      "execution_count": null,
      "metadata": {
        "colab": {
          "base_uri": "https://localhost:8080/"
        },
        "id": "VSEhcEI602Qp",
        "outputId": "f8a252cd-bc13-4383-96b8-797ec4ec24f7"
      },
      "outputs": [],
      "source": [
        "import pandas as pd\n",
        "import numpy as np\n",
        "from matplotlib import pyplot\n",
        "import seaborn as sns\n",
        "import tensorflow as tf\n",
        "import IPython\n",
        "import IPython.display\n",
        "from statsmodels.tsa.vector_ar.var_model import VAR\n",
        "import sklearn\n",
        "from sklearn.model_selection import TimeSeriesSplit\n",
        "from tensorflow.keras.models import Sequential\n",
        "from tensorflow.keras.layers import Dense, Dropout, LSTM\n",
        "from sklearn.metrics import mean_absolute_error\n",
        "from sklearn.preprocessing import MinMaxScaler\n",
        "from statsmodels.tsa.vector_ar.var_model import VAR\n",
        "from keras.preprocessing.sequence import TimeseriesGenerator\n",
        "import plotly.graph_objects as go\n",
        "from sklearn.model_selection import train_test_split\n",
        "\n",
        "# fix for 'package not found' when installing in Anaconda environment\n",
        "if 'google.colab' not in str(get_ipython()):\n",
        "    import pip\n",
        "    pip.main(['install', 'xgboost'])\n",
        "\n",
        "if 'google.colab' in str(get_ipython()):\n",
        "  !rm util.py\n",
        "  !rm window.py\n",
        "  !rm models.py\n",
        "  !wget https://raw.githubusercontent.com/marco-mazzoli/progetto-tesi/master/util.py\n",
        "  !wget https://raw.githubusercontent.com/marco-mazzoli/progetto-tesi/master/windows.py\n",
        "  !wget https://raw.githubusercontent.com/marco-mazzoli/progetto-tesi/master/models.py\n",
        "\n",
        "from xgboost import XGBRegressor\n",
        "from util import select_relevant_rows, select_attributes, read_movement_data,download_updated_mobility_data, download_updated_mobility_data, series_to_supervised\n",
        "from windows import WindowGenerator\n",
        "from models import MultiStepLastBaseline\n",
        "\n",
        "# if sklearn.__version__ != '0.24':\n",
        "#   !pip3 install scikit-learn==0.24"
      ]
    },
    {
      "cell_type": "markdown",
      "metadata": {
        "id": "-_laukLF02RI"
      },
      "source": [
        "# Data Acquisition and Data Preparation"
      ]
    },
    {
      "cell_type": "code",
      "execution_count": null,
      "metadata": {
        "id": "jH7mmQes02RO"
      },
      "outputs": [],
      "source": [
        "local_region_path = r'../COVID-19/dati-regioni/dpc-covid19-ita-regioni.csv'\n",
        "remote_region_path = r'https://raw.githubusercontent.com/pcm-dpc/COVID-19/master/dati-regioni/dpc-covid19-ita-regioni.csv'\n",
        "\n",
        "regions_frame = pd.read_csv(remote_region_path)"
      ]
    },
    {
      "cell_type": "code",
      "execution_count": null,
      "metadata": {
        "id": "PUYXkpT902RQ"
      },
      "outputs": [],
      "source": [
        "region_focus = 'Emilia-Romagna'\n",
        "attribute_focus = 'denominazione_regione'\n",
        "\n",
        "region_focus_data = select_relevant_rows(\n",
        "    regions_frame,\n",
        "    attribute_focus,\n",
        "    region_focus\n",
        "    )"
      ]
    },
    {
      "cell_type": "code",
      "execution_count": null,
      "metadata": {
        "id": "e6-D1als02RU"
      },
      "outputs": [],
      "source": [
        "frame_interesting_columns = select_attributes(region_focus_data, [\n",
        "    'data',\n",
        "    'ricoverati_con_sintomi',\n",
        "    'terapia_intensiva',\n",
        "    'totale_ospedalizzati',\n",
        "    'variazione_totale_positivi',\n",
        "    'nuovi_positivi',\n",
        "    'deceduti',\n",
        "    'tamponi',\n",
        "    'ingressi_terapia_intensiva'\n",
        "    ])"
      ]
    },
    {
      "cell_type": "code",
      "execution_count": null,
      "metadata": {
        "colab": {
          "base_uri": "https://localhost:8080/",
          "height": 204
        },
        "id": "Kd6Ufo-U02Ra",
        "outputId": "3dc270da-cc41-4664-ff66-7575108f1044"
      },
      "outputs": [],
      "source": [
        "frame_interesting_columns.tail()"
      ]
    },
    {
      "cell_type": "code",
      "execution_count": null,
      "metadata": {
        "id": "DyOjvvC402Rb"
      },
      "outputs": [],
      "source": [
        "frame_interesting_columns = pd.DataFrame(frame_interesting_columns)\n",
        "frame_interesting_columns['data'] = pd.to_datetime(frame_interesting_columns['data'])\n",
        "frame_interesting_columns['data'] = frame_interesting_columns['data'].dt.strftime(r'%Y-%m-%d')\n",
        "frame_interesting_columns = frame_interesting_columns.fillna(0)\n"
      ]
    },
    {
      "cell_type": "code",
      "execution_count": null,
      "metadata": {
        "colab": {
          "base_uri": "https://localhost:8080/"
        },
        "id": "tDVPGa3Y02Rc",
        "outputId": "56e0c18f-b0e1-4795-da74-e383300c66ff"
      },
      "outputs": [],
      "source": [
        "mobility_data_url = r'https://www.gstatic.com/covid19/mobility/Global_Mobility_Report.csv'\n",
        "file_path = r'../Global_Mobility_Report.csv'\n",
        "mobility_data_zip_url = r'https://www.gstatic.com/covid19/mobility/Region_Mobility_Report_CSVs.zip'\n",
        "zip_path = r'../Region_Mobility_Report_CSVs.zip'\n",
        "region_mobility_path = r'../Region_Mobility_Report_CSVs'\n",
        "\n",
        "download_updated_mobility_data(\n",
        "    mobility_data_url,\n",
        "    file_path,\n",
        "    region_mobility_path,\n",
        "    mobility_data_zip_url,\n",
        "    zip_path\n",
        "    )\n",
        "\n",
        "mobility_df = read_movement_data(\n",
        "    region_mobility_path,\n",
        "    'IT_Region_Mobility_Report',\n",
        "    region='Emilia-Romagna'\n",
        "    )"
      ]
    },
    {
      "cell_type": "code",
      "execution_count": null,
      "metadata": {
        "id": "18ESzhUi02Re"
      },
      "outputs": [],
      "source": [
        "mobility_df = mobility_df[['date',\n",
        "            'retail_and_recreation_percent_change_from_baseline',\n",
        "            'grocery_and_pharmacy_percent_change_from_baseline',\n",
        "            'parks_percent_change_from_baseline',\n",
        "            'transit_stations_percent_change_from_baseline',\n",
        "            'workplaces_percent_change_from_baseline',\n",
        "            'residential_percent_change_from_baseline']].fillna(0)"
      ]
    },
    {
      "cell_type": "code",
      "execution_count": null,
      "metadata": {
        "colab": {
          "base_uri": "https://localhost:8080/",
          "height": 640
        },
        "id": "9TiER3qD02R0",
        "outputId": "60b2df13-2414-4aad-eb44-325593d60fe8"
      },
      "outputs": [],
      "source": [
        "frame_interesting_columns.rename(columns={'data': 'date'}, inplace=True)\n",
        "frame_interesting_columns.set_index('date',inplace=True)\n",
        "mobility_df.set_index('date',inplace=True)\n",
        "merged = pd.merge(\n",
        "    frame_interesting_columns,\n",
        "    mobility_df,\n",
        "    on='date'\n",
        "    )\n",
        "merged = merged.fillna(0)\n",
        "merged.set_index(pd.DatetimeIndex(merged.index))"
      ]
    },
    {
      "cell_type": "code",
      "execution_count": null,
      "metadata": {
        "colab": {
          "base_uri": "https://localhost:8080/",
          "height": 585
        },
        "id": "VqNVQUy802R1",
        "outputId": "e8bce86f-48aa-4193-d56d-626f8496025e"
      },
      "outputs": [],
      "source": [
        "fig, axes = pyplot.subplots(nrows=4,ncols=2,figsize=(10,8))\n",
        "for i, ax in enumerate(axes.flatten()):\n",
        "    data = np.array(frame_interesting_columns[frame_interesting_columns.columns[i]])\n",
        "    ax.plot(pd.DataFrame(data))\n",
        "    ax.set_title(frame_interesting_columns.columns[i])\n",
        "    ax.plot()\n",
        "\n",
        "pyplot.tight_layout()\n"
      ]
    },
    {
      "cell_type": "code",
      "execution_count": null,
      "metadata": {
        "colab": {
          "base_uri": "https://localhost:8080/",
          "height": 585
        },
        "id": "CkC4rbID02SI",
        "outputId": "9935ef3e-0a10-451d-df2d-274c60824348"
      },
      "outputs": [],
      "source": [
        "fig, axes = pyplot.subplots(nrows=3,ncols=2,figsize=(10,8))\n",
        "for i, ax in enumerate(axes.flatten()):\n",
        "    data = np.array(mobility_df[mobility_df.columns[i]])\n",
        "    ax.plot(pd.DataFrame(data))\n",
        "    ax.set_title(mobility_df.columns[i])\n",
        "    ax.plot()\n",
        "\n",
        "pyplot.tight_layout()\n"
      ]
    },
    {
      "cell_type": "code",
      "execution_count": null,
      "metadata": {
        "id": "1nz7W8AP02SK"
      },
      "outputs": [],
      "source": [
        "df = merged\n",
        "n = len(merged)\n",
        "train_df = df[0:int(n*0.7)]\n",
        "val_df = df[int(n*0.7):int(n*0.9)]\n",
        "test_df = df[int(n*0.9):]\n",
        "\n",
        "num_features = df.shape[1]"
      ]
    },
    {
      "cell_type": "markdown",
      "metadata": {
        "id": "aA6MV9wO02SL"
      },
      "source": [
        "# Univariate XGBOOST"
      ]
    },
    {
      "cell_type": "code",
      "execution_count": null,
      "metadata": {
        "id": "9KIMN_xj02SM"
      },
      "outputs": [],
      "source": [
        "column_univariate = 'nuovi_positivi'\n",
        "df = pd.DataFrame(frame_interesting_columns[column_univariate])\n",
        "scaler = MinMaxScaler(feature_range=(0,1))\n",
        "scaled = scaler.fit_transform(df)\n",
        "\n",
        "values = scaled\n",
        "\n",
        "look_back = 7\n",
        "\n",
        "reframed = series_to_supervised(pd.DataFrame(values),window=look_back)"
      ]
    },
    {
      "cell_type": "code",
      "execution_count": null,
      "metadata": {
        "colab": {
          "base_uri": "https://localhost:8080/",
          "height": 419
        },
        "id": "99cvRPoN02SM",
        "outputId": "bc6481ab-2b2f-4100-db1c-a756aa6aefc8"
      },
      "outputs": [],
      "source": [
        "reframed"
      ]
    },
    {
      "cell_type": "code",
      "execution_count": null,
      "metadata": {
        "id": "61TluCEU02SN"
      },
      "outputs": [],
      "source": [
        "def split_for_testing(data,n_test):\n",
        "\treturn data[:-n_test, :], data[-n_test:, :]\n",
        "\n",
        "def walk_forward_validation(data,n_test):\n",
        "    predictions = list()\n",
        "    train, test = split_for_testing(data,n_test)\n",
        "    history = [x for x in train]\n",
        "    for i in range(len(test)):\n",
        "        test_X, test_y = test[i, :-1], test[i, -1]\n",
        "        prediction = xgboost_forecast(history,test_X)\n",
        "        predictions.append(prediction)\n",
        "        history.append(test[i])\n",
        "    error = mean_absolute_error(test[:, -1],predictions)\n",
        "    return error, test[:, 1], predictions\n",
        "\n",
        "def xgboost_forecast(train,test_X):\n",
        "    train = np.ascontiguousarray(train)\n",
        "    test_X = np.ascontiguousarray(test_X)\n",
        "    train_X, train_y = train[:, :-1], train[:, -1]\n",
        "    model = XGBRegressor(objective='reg:squarederror',n_estimators=1000)\n",
        "    model.fit(train_X, train_y)\n",
        "    prediction = model.predict([test_X])\n",
        "    return prediction[0]"
      ]
    },
    {
      "cell_type": "code",
      "execution_count": null,
      "metadata": {
        "colab": {
          "base_uri": "https://localhost:8080/"
        },
        "id": "5goGIods02SP",
        "outputId": "ae9e16ff-d281-469d-a6bb-5ada39b2a95e"
      },
      "outputs": [],
      "source": [
        "mae, y, yhat = walk_forward_validation(reframed.values,look_back)"
      ]
    },
    {
      "cell_type": "code",
      "execution_count": null,
      "metadata": {
        "colab": {
          "base_uri": "https://localhost:8080/",
          "height": 282
        },
        "id": "uIXBa8g302Sc",
        "outputId": "95f36926-a945-4c3a-f583-82d5868db00c"
      },
      "outputs": [],
      "source": [
        "print('MAE: %.3f' % mae)\n",
        "pyplot.plot(y,label='Expected')\n",
        "pyplot.plot(yhat,label='Predicted')\n",
        "pyplot.legend()\n",
        "pyplot.show()"
      ]
    },
    {
      "cell_type": "markdown",
      "metadata": {
        "id": "or46puPe02Sf"
      },
      "source": [
        "# VAR (Vector Auto Regression)"
      ]
    },
    {
      "cell_type": "code",
      "execution_count": null,
      "metadata": {
        "id": "F4CFckSM02Sg"
      },
      "outputs": [],
      "source": [
        "# n_splits=10\n",
        "# test_size=5\n",
        "\n",
        "# tscv = TimeSeriesSplit(n_splits=n_splits,test_size=test_size)\n",
        "\n",
        "# df = frame_interesting_columns\n",
        "\n",
        "# for train_index, test_index in tscv.split(df):\n",
        "#     train = df.iloc[train_index]\n",
        "#     test = df.iloc[test_index]\n",
        "\n",
        "#     model = VAR(endog=train,freq='D')\n",
        "#     fit = model.fit()\n",
        "#     lag_order = fit.k_ar\n",
        "\n",
        "#     prediction = fit.forecast(train.values[-lag_order:],len(test_index))\n",
        "\n",
        "#     pred_df = pd.DataFrame(prediction,columns=df.columns)\n",
        " \n",
        "#     print('train interval: ' + str(train.index[0]) + ' - ' + str(train.index[-1]))\n",
        "#     print('test interval: ' + str(test.index[0]) + ' - ' + str(test.index[-1]))\n",
        "#     for i in test.columns:\n",
        "#         print('mae value for', i, 'is : ', mean_absolute_error(pred_df[i], test[i]))\n"
      ]
    },
    {
      "cell_type": "markdown",
      "metadata": {
        "id": "lomTEbf-02Sh"
      },
      "source": [
        "# LSTM Univariate\n"
      ]
    },
    {
      "cell_type": "code",
      "execution_count": null,
      "metadata": {
        "colab": {
          "base_uri": "https://localhost:8080/",
          "height": 265
        },
        "id": "PNmMeHi802Si",
        "outputId": "ceb1f1b3-21d1-43a7-c177-810bd7b67196"
      },
      "outputs": [],
      "source": [
        "column_univariate = 'nuovi_positivi'\n",
        "df = pd.DataFrame(frame_interesting_columns[column_univariate])\n",
        "scaler = MinMaxScaler(feature_range=(0,1))\n",
        "scaled = scaler.fit_transform(df)\n",
        "\n",
        "look_back = 7\n",
        "\n",
        "split_percent = 0.80\n",
        "split = int(split_percent*len(scaled))\n",
        "\n",
        "train = scaled[:split,:]\n",
        "test = scaled[split:,]\n",
        "\n",
        "date_train = df.index[:split]\n",
        "date_test = df.index[split:]\n",
        "date_prediction = df.index[split+look_back:]\n",
        "\n",
        "train_reframed = series_to_supervised(pd.DataFrame(train),look_back,1).values\n",
        "test_reframed = series_to_supervised(pd.DataFrame(test),look_back,1).values\n",
        "\n",
        "train_X, train_y = train_reframed[:,:-1], train_reframed[:,-1]\n",
        "test_X, test_y = test_reframed[:,:-1], test_reframed[:,-1]\n",
        "\n",
        "train_X = train_X.reshape((train_X.shape[0],train_X.shape[1],1))\n",
        "test_X = test_X.reshape((test_X.shape[0],test_X.shape[1],1))\n",
        "\n",
        "model = Sequential()\n",
        "model.add(LSTM(50, input_shape=(train_X.shape[1],train_X.shape[2])))\n",
        "model.add(Dense(1))\n",
        "model.compile(loss='mae',optimizer='adam')\n",
        "\n",
        "history = model.fit(train_X,train_y,epochs=50,batch_size=72,validation_data=(test_X,test_y),verbose=0,shuffle=False)\n",
        "\n",
        "pyplot.plot(history.history['loss'],label='Training loss')\n",
        "pyplot.plot(history.history['val_loss'],label='Validation loss')\n",
        "pyplot.legend()\n",
        "pyplot.show()"
      ]
    },
    {
      "cell_type": "code",
      "execution_count": null,
      "metadata": {
        "colab": {
          "base_uri": "https://localhost:8080/",
          "height": 576
        },
        "id": "Vtm_RZ0I3qJB",
        "outputId": "c0344337-48b4-4a20-e788-48694a85c681"
      },
      "outputs": [],
      "source": [
        "prediction = model.predict(test_X)\n",
        "\n",
        "train = scaler.inverse_transform(train).reshape(-1)\n",
        "test = scaler.inverse_transform(test).reshape(-1)\n",
        "prediction = scaler.inverse_transform(prediction).reshape(-1)\n",
        "\n",
        "print('mae:')\n",
        "print(mean_absolute_error(test_y,prediction))\n",
        "\n",
        "data_trace = go.Scatter(x=date_train,y=train,mode='lines',name='Data')\n",
        "prediction_trace = go.Scatter(x=date_prediction,y=prediction,mode='lines',name='Prediction')\n",
        "truth_trace = go.Scatter(x=date_test,y=test,mode='lines',name='Ground Truth')\n",
        "layout = go.Layout(title=\"nuovi_positivi\",xaxis={'title':\"Date\"},yaxis={'title':\"nuovi_positivi\"})\n",
        "\n",
        "fig = go.Figure(data=[data_trace,prediction_trace,truth_trace],layout=layout)\n",
        "fig.show()"
      ]
    },
    {
      "cell_type": "markdown",
      "metadata": {
        "id": "b4ZwyAH-coPq"
      },
      "source": [
        "#Univariate LSTM with TimeseriesGenerator"
      ]
    },
    {
      "cell_type": "code",
      "execution_count": null,
      "metadata": {
        "colab": {
          "base_uri": "https://localhost:8080/",
          "height": 266
        },
        "id": "6pfvZjsL2v_l",
        "outputId": "44688341-0c56-495a-f4b6-945c67afa9f0"
      },
      "outputs": [],
      "source": [
        "df = pd.DataFrame(frame_interesting_columns['nuovi_positivi'])\n",
        "\n",
        "scaler = MinMaxScaler(feature_range=(0,1))\n",
        "scaled = scaler.fit_transform(df.values)\n",
        "\n",
        "values = scaled\n",
        "\n",
        "split_percent = 0.80\n",
        "split = int(split_percent*len(values))\n",
        "\n",
        "look_back = 7\n",
        "\n",
        "train = values[:split]\n",
        "test = values[split:]\n",
        "\n",
        "date_train = df.index[:split]\n",
        "date_test = df.index[split:]\n",
        "date_prediction = df.index[split+look_back:]\n",
        "\n",
        "train_generator = TimeseriesGenerator(train,train,length=look_back,batch_size=20)    \n",
        "test_generator = TimeseriesGenerator(test,test,length=look_back,batch_size=1)\n",
        "\n",
        "model = Sequential()\n",
        "model.add(LSTM(50,activation='relu',input_shape=(look_back,1)))\n",
        "model.add(Dense(1))\n",
        "model.compile(optimizer='adam',loss='mae')\n",
        "\n",
        "num_epochs = 50\n",
        "\n",
        "history = model.fit(train_generator,validation_data=test_generator,epochs=num_epochs,verbose=0)\n",
        "\n",
        "pyplot.plot(history.history['loss'],label='Training loss')\n",
        "pyplot.plot(history.history['val_loss'],label='Validation loss')\n",
        "pyplot.legend()\n",
        "pyplot.show()"
      ]
    },
    {
      "cell_type": "code",
      "execution_count": null,
      "metadata": {
        "colab": {
          "base_uri": "https://localhost:8080/",
          "height": 576
        },
        "id": "blPJvkMm4jqr",
        "outputId": "8dc1b797-52af-4a0f-e538-b1eed52f56a3"
      },
      "outputs": [],
      "source": [
        "prediction = model.predict(test_generator)\n",
        "\n",
        "train = scaler.inverse_transform(train).reshape(-1)\n",
        "test = scaler.inverse_transform(test).reshape(-1)\n",
        "prediction = scaler.inverse_transform(prediction).reshape(-1)\n",
        "\n",
        "data_trace = go.Scatter(x=date_train,y=train,mode='lines',name='Data')\n",
        "prediction_trace = go.Scatter(x=date_prediction,y=prediction,mode='lines',name='Prediction')\n",
        "truth_trace = go.Scatter(x=date_test,y=test,mode='lines',name='Ground Truth')\n",
        "layout = go.Layout(title=\"nuovi_positivi\",xaxis={'title':\"Date\"},yaxis={'title':\"nuovi_positivi\"})\n",
        "\n",
        "fig = go.Figure(data=[data_trace,prediction_trace,truth_trace],layout=layout)\n",
        "fig.show()\n",
        "\n",
        "# first seven steps used for lags to avoid using last 7 steps for \n",
        "# training in order to avoid using traing data for testing\n",
        "print('mae:')\n",
        "print(mean_absolute_error(test[look_back:],prediction))\n"
      ]
    },
    {
      "cell_type": "markdown",
      "metadata": {
        "id": "bgb1Mg4StHbT"
      },
      "source": [
        "# Multivariate LSTM"
      ]
    },
    {
      "cell_type": "code",
      "execution_count": null,
      "metadata": {
        "id": "QHiFkUcG4ZZK"
      },
      "outputs": [],
      "source": [
        "df = pd.DataFrame(frame_interesting_columns.drop('tamponi',axis=1))\n",
        "scaler = MinMaxScaler(feature_range=(0,1))\n",
        "scaled = scaler.fit_transform(df)\n",
        "\n",
        "split_percent = 0.80\n",
        "split = int(split_percent*len(scaled))\n",
        "\n",
        "look_back = 7\n",
        "n_future = 1\n",
        "\n",
        "train = scaled[:split]\n",
        "test = scaled[split:]\n",
        "\n",
        "column_to_predict = 'nuovi_positivi'\n",
        "index_to_predict = df.columns.get_loc(column_to_predict)\n",
        "\n",
        "date_train = df.index[:split]\n",
        "date_test = df.index[split:]\n",
        "date_prediction = df.index[split+look_back:]"
      ]
    },
    {
      "cell_type": "code",
      "execution_count": null,
      "metadata": {
        "colab": {
          "base_uri": "https://localhost:8080/",
          "height": 282
        },
        "id": "LImLl3j6N6Q6",
        "outputId": "0833c275-76d7-43c5-c8c5-ca881d23c22d"
      },
      "outputs": [],
      "source": [
        "train_X, test_X = [], []\n",
        "train_y, test_y = [], []\n",
        "\n",
        "for i in range(look_back,len(train) - n_future + 1):\n",
        "    train_X.append(train[i - look_back:i,0:train.shape[1]])\n",
        "    train_y.append(train[i + n_future - 1:i + n_future,index_to_predict])\n",
        "\n",
        "for i in range(look_back,len(test) - n_future + 1):\n",
        "    test_X.append(test[i - look_back:i,0:test.shape[1]])\n",
        "    test_y.append(test[i + n_future - 1:i + n_future,index_to_predict])\n",
        "\n",
        "train_X, train_y = np.array(train_X), np.array(train_y)\n",
        "test_X, test_y = np.array(test_X), np.array(test_y)\n",
        "\n",
        "model = Sequential()\n",
        "model.add(LSTM(64,activation='relu',input_shape=(train_X.shape[1],train_X.shape[2]),return_sequences=True))\n",
        "model.add(LSTM(32,activation='relu',return_sequences=False))\n",
        "model.add(Dropout(0.2))\n",
        "model.add(Dense(train_y.shape[1]))\n",
        "\n",
        "model.compile(optimizer='adam',loss='mse')\n",
        "\n",
        "history = model.fit(train_X,train_y,epochs=num_epochs,batch_size=16,validation_split=0.2,verbose=0)\n",
        "\n",
        "pyplot.plot(history.history['loss'],label='Training loss')\n",
        "pyplot.plot(history.history['val_loss'],label='Validation loss')\n",
        "pyplot.legend()"
      ]
    },
    {
      "cell_type": "code",
      "execution_count": null,
      "metadata": {
        "colab": {
          "base_uri": "https://localhost:8080/",
          "height": 610
        },
        "id": "zvgc6c15sxQe",
        "outputId": "cff4f8c6-0759-475f-bca1-d2521395c4f2"
      },
      "outputs": [],
      "source": [
        "prediction = model.predict(test_X)\n",
        "\n",
        "prediction_copies = np.repeat(prediction,df.shape[1],axis=-1)\n",
        "test_copies = np.repeat(pd.DataFrame(test_y).values,df.shape[1],axis=-1)\n",
        "\n",
        "prediction_descaled = scaler.inverse_transform(prediction_copies)[:,0]\n",
        "test_descaled = scaler.inverse_transform(test_copies)[:,0]\n",
        "\n",
        "train = scaler.inverse_transform(scaled)[:,index_to_predict].reshape(-1)\n",
        "test = test_descaled.reshape((-1))\n",
        "prediction = prediction_descaled.reshape((-1))\n",
        "\n",
        "data_trace = go.Scatter(x=date_train,y=train,mode='lines',name='Data')\n",
        "prediction_trace = go.Scatter(x=date_prediction,y=prediction,mode='lines',name='Prediction')\n",
        "truth_trace = go.Scatter(x=date_test,y=test,mode='lines',name='Ground Truth')\n",
        "layout = go.Layout(title=\"nuovi_positivi\",xaxis={'title':\"Date\"},yaxis={'title':\"nuovi_positivi\"})\n",
        "\n",
        "fig = go.Figure(data=[data_trace,prediction_trace,truth_trace],layout=layout)\n",
        "fig.show()\n",
        "\n",
        "# first seven steps used for lags to avoid using last 7 steps for \n",
        "# training in order to avoid using traing data for testing\n",
        "print('mae:')\n",
        "print(mean_absolute_error(test_y,prediction))\n",
        "\n",
        "print(len(train))\n",
        "print(len(test))"
      ]
    },
    {
      "cell_type": "markdown",
      "metadata": {
        "id": "aq4kerF4cyB3"
      },
      "source": [
        "# Multivariate LSTM with TimeseriesGenerator"
      ]
    },
    {
      "cell_type": "code",
      "execution_count": null,
      "metadata": {
        "colab": {
          "base_uri": "https://localhost:8080/"
        },
        "id": "FBBd_ev2t9-V",
        "outputId": "8c674af9-4ca1-48cb-f3ea-e3165d6e501e"
      },
      "outputs": [],
      "source": [
        "df = pd.DataFrame(frame_interesting_columns.drop('tamponi',axis=1))\n",
        "scaler = MinMaxScaler(feature_range=(0,1))\n",
        "scaled = scaler.fit_transform(df.values)\n",
        "\n",
        "values = scaled\n",
        "\n",
        "column_to_predict = 'nuovi_positivi'\n",
        "index_to_predict = df.columns.get_loc(column_to_predict)\n",
        "\n",
        "look_back = 7\n",
        "\n",
        "date_train = df.index[:split]\n",
        "date_test = df.index[split:]\n",
        "date_prediction = df.index[split+look_back:]\n",
        "\n",
        "# X contains all columns with the last $look_back readings removed\n",
        "# y contains the column to be predicted withouth the first $look_back readings\n",
        "X = values[:][:-look_back]\n",
        "y = values[:,index_to_predict][look_back:]\n",
        "\n",
        "train_X, test_X, train_y, test_y = train_test_split(X,y,test_size=0.20,random_state=42,shuffle=False)\n",
        "\n",
        "train_generator = TimeseriesGenerator(train_X,train_y,sampling_rate=1,length=look_back,batch_size=look_back)\n",
        "test_generator = TimeseriesGenerator(test_X,test_y,sampling_rate=1,length=look_back,batch_size=look_back)\n",
        "\n",
        "model = Sequential()\n",
        "model.add(LSTM(64,activation='relu',input_shape=(look_back,scaled.shape[1]),return_sequences=True))\n",
        "model.add(LSTM(32,activation='relu',return_sequences=False))\n",
        "model.add(Dropout(0.2))\n",
        "model.add(Dense(1))\n",
        "\n",
        "model.compile(optimizer='adam',loss='mse')\n",
        "model.summary()"
      ]
    },
    {
      "cell_type": "code",
      "execution_count": null,
      "metadata": {
        "colab": {
          "base_uri": "https://localhost:8080/",
          "height": 282
        },
        "id": "6l5uYiW5IW5i",
        "outputId": "85ba1a91-f142-4d11-b274-02bbf579ca98"
      },
      "outputs": [],
      "source": [
        "history = model.fit(train_generator,validation_data=test_generator,epochs=num_epochs,verbose=0)\n",
        "\n",
        "pyplot.plot(history.history['loss'],label='Training loss')\n",
        "pyplot.plot(history.history['val_loss'],label='Validation loss')\n",
        "pyplot.legend()"
      ]
    },
    {
      "cell_type": "code",
      "execution_count": null,
      "metadata": {
        "colab": {
          "base_uri": "https://localhost:8080/",
          "height": 576
        },
        "id": "172oii_QOdKC",
        "outputId": "8fb15811-13ac-435d-9b26-76e128415a05"
      },
      "outputs": [],
      "source": [
        "prediction = model.predict(test_generator)\n",
        "\n",
        "prediction_copies = np.repeat(prediction,df.shape[1],axis=-1)\n",
        "test_copies = np.repeat(pd.DataFrame(test_y).values,df.shape[1],axis=-1)\n",
        "\n",
        "prediction_descaled = scaler.inverse_transform(prediction_copies)[:,0]\n",
        "test_descaled = scaler.inverse_transform(test_copies)[:,0]\n",
        "\n",
        "train = scaler.inverse_transform(values)[:,index_to_predict].reshape(-1)\n",
        "test = test_descaled.reshape((-1))\n",
        "prediction = prediction_descaled.reshape((-1))\n",
        "\n",
        "data_trace = go.Scatter(x=date_train,y=train,mode='lines',name='Data')\n",
        "prediction_trace = go.Scatter(x=date_prediction,y=prediction,mode='lines',name='Prediction')\n",
        "truth_trace = go.Scatter(x=date_test,y=test,mode='lines',name='Ground Truth')\n",
        "layout = go.Layout(title=\"nuovi_positivi\",xaxis={'title':\"Date\"},yaxis={'title':\"nuovi_positivi\"})\n",
        "\n",
        "fig = go.Figure(data=[data_trace,prediction_trace,truth_trace],layout=layout)\n",
        "fig.show()\n",
        "\n",
        "# first seven steps used for lags to avoid using last 7 steps for \n",
        "# training in order to avoid using traing data for testing\n",
        "print('mae:')\n",
        "print(mean_absolute_error(test[look_back:],prediction))"
      ]
    }
  ],
  "metadata": {
    "colab": {
      "name": "covid_forecasting.ipynb",
      "provenance": []
    },
    "interpreter": {
      "hash": "b6e8a8e6cd5b0d8bd2b931e6e2bcfab8fa0bbcead3979137bf827a61abd923e3"
    },
    "kernelspec": {
      "display_name": "Python 3.7.11 64-bit ('tf': conda)",
      "name": "python3"
    },
    "language_info": {
      "codemirror_mode": {
        "name": "ipython",
        "version": 3
      },
      "file_extension": ".py",
      "mimetype": "text/x-python",
      "name": "python",
      "nbconvert_exporter": "python",
      "pygments_lexer": "ipython3",
      "version": "3.7.11"
    },
    "metadata": {
      "interpreter": {
        "hash": "f85c0ae1067a86ad6a96b144378883e79fd1516474b579ba33ee3a7084540002"
      }
    }
  },
  "nbformat": 4,
  "nbformat_minor": 0
}
