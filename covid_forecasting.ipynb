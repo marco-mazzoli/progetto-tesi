{
  "cells": [
    {
      "cell_type": "code",
      "execution_count": null,
      "metadata": {
        "colab": {
          "base_uri": "https://localhost:8080/"
        },
        "id": "VSEhcEI602Qp",
        "outputId": "5b9cd0c0-5519-4b32-e0b4-07dc43b94c76"
      },
      "outputs": [],
      "source": [
        "import pandas as pd\n",
        "import numpy as np\n",
        "from matplotlib import pyplot\n",
        "import IPython.display\n",
        "from statsmodels.tsa.vector_ar.var_model import VAR\n",
        "from sklearn.model_selection import TimeSeriesSplit\n",
        "from tensorflow.keras.models import Sequential\n",
        "from tensorflow.keras.layers import Dense, Dropout, LSTM\n",
        "from sklearn.metrics import mean_absolute_error\n",
        "from sklearn.preprocessing import MinMaxScaler\n",
        "from statsmodels.tsa.vector_ar.var_model import VAR\n",
        "from keras.preprocessing.sequence import TimeseriesGenerator\n",
        "import plotly.graph_objects as go\n",
        "from sklearn.model_selection import train_test_split\n",
        "\n",
        "# fix for 'package not found' when installing in Anaconda environment\n",
        "if 'google.colab' not in str(get_ipython()):\n",
        "    import pip\n",
        "    pip.main(['install', 'xgboost'])\n",
        "\n",
        "if 'google.colab' in str(get_ipython()):\n",
        "    !rm util.py\n",
        "    !rm window.py\n",
        "    !rm models.py\n",
        "    !wget https: // raw.githubusercontent.com/marco-mazzoli/progetto-tesi/master/util.py\n",
        "    !wget https: // raw.githubusercontent.com/marco-mazzoli/progetto-tesi/master/windows.py\n",
        "    !wget https: // raw.githubusercontent.com/marco-mazzoli/progetto-tesi/master/models.py\n",
        "\n",
        "from xgboost import XGBRegressor\n",
        "from util import select_relevant_rows, select_attributes, read_movement_data, download_updated_mobility_data, download_updated_mobility_data, series_to_supervised"
      ]
    },
    {
      "cell_type": "markdown",
      "metadata": {
        "id": "-_laukLF02RI"
      },
      "source": [
        "# Data Acquisition and Data Preparation"
      ]
    },
    {
      "cell_type": "code",
      "execution_count": null,
      "metadata": {
        "id": "jH7mmQes02RO"
      },
      "outputs": [],
      "source": [
        "local_region_path = r'../COVID-19/dati-regioni/dpc-covid19-ita-regioni.csv'\n",
        "remote_region_path = r'https://raw.githubusercontent.com/pcm-dpc/COVID-19/master/dati-regioni/dpc-covid19-ita-regioni.csv'\n",
        "\n",
        "regions_frame = pd.read_csv(remote_region_path)\n",
        "\n",
        "region_focus = 'Emilia-Romagna'\n",
        "attribute_focus = 'denominazione_regione'\n",
        "\n",
        "region_focus_data = select_relevant_rows(\n",
        "    regions_frame,\n",
        "    attribute_focus,\n",
        "    region_focus\n",
        ")\n",
        "\n",
        "frame_interesting_columns = select_attributes(region_focus_data, [\n",
        "    'data',\n",
        "    'ricoverati_con_sintomi',\n",
        "    'terapia_intensiva',\n",
        "    'totale_ospedalizzati',\n",
        "    'variazione_totale_positivi',\n",
        "    'nuovi_positivi',\n",
        "    'deceduti',\n",
        "    'tamponi',\n",
        "    'ingressi_terapia_intensiva'\n",
        "])"
      ]
    },
    {
      "cell_type": "code",
      "execution_count": null,
      "metadata": {
        "colab": {
          "base_uri": "https://localhost:8080/",
          "height": 309
        },
        "id": "Kd6Ufo-U02Ra",
        "outputId": "a37c0eb8-bdca-44b5-fd8a-63aded440b86"
      },
      "outputs": [],
      "source": [
        "frame_interesting_columns.tail()"
      ]
    },
    {
      "cell_type": "code",
      "execution_count": null,
      "metadata": {
        "colab": {
          "base_uri": "https://localhost:8080/"
        },
        "id": "DyOjvvC402Rb",
        "outputId": "c3d86df4-66aa-43a1-8d2b-b5041124e2e4"
      },
      "outputs": [],
      "source": [
        "frame_interesting_columns = pd.DataFrame(frame_interesting_columns)\n",
        "frame_interesting_columns['data'] = pd.to_datetime(\n",
        "    frame_interesting_columns['data'])\n",
        "frame_interesting_columns['data'] = frame_interesting_columns['data'].dt.strftime(\n",
        "    r'%Y-%m-%d')\n",
        "frame_interesting_columns = frame_interesting_columns.fillna(0)\n",
        "\n",
        "mobility_data_url = r'https://www.gstatic.com/covid19/mobility/Global_Mobility_Report.csv'\n",
        "file_path = r'../Global_Mobility_Report.csv'\n",
        "mobility_data_zip_url = r'https://www.gstatic.com/covid19/mobility/Region_Mobility_Report_CSVs.zip'\n",
        "zip_path = r'../Region_Mobility_Report_CSVs.zip'\n",
        "region_mobility_path = r'../Region_Mobility_Report_CSVs'\n",
        "\n",
        "download_updated_mobility_data(\n",
        "    mobility_data_url,\n",
        "    file_path,\n",
        "    region_mobility_path,\n",
        "    mobility_data_zip_url,\n",
        "    zip_path\n",
        ")\n",
        "\n",
        "mobility_df = read_movement_data(\n",
        "    region_mobility_path,\n",
        "    'IT_Region_Mobility_Report',\n",
        "    region='Emilia-Romagna'\n",
        ")\n",
        "\n",
        "mobility_df = mobility_df[['date',\n",
        "                           'retail_and_recreation_percent_change_from_baseline',\n",
        "                           'grocery_and_pharmacy_percent_change_from_baseline',\n",
        "                           'parks_percent_change_from_baseline',\n",
        "                           'transit_stations_percent_change_from_baseline',\n",
        "                           'workplaces_percent_change_from_baseline',\n",
        "                           'residential_percent_change_from_baseline']].fillna(0)\n",
        "\n",
        "frame_interesting_columns.rename(columns={'data': 'date'}, inplace=True)\n",
        "frame_interesting_columns.set_index('date', inplace=True)\n",
        "mobility_df.set_index('date', inplace=True)\n",
        "merged = pd.merge(\n",
        "    frame_interesting_columns,\n",
        "    mobility_df,\n",
        "    on='date'\n",
        ")\n",
        "\n",
        "merged = merged.fillna(0)\n",
        "merged.set_index(pd.DatetimeIndex(merged.index), inplace=True)"
      ]
    },
    {
      "cell_type": "code",
      "execution_count": null,
      "metadata": {
        "colab": {
          "base_uri": "https://localhost:8080/",
          "height": 1000
        },
        "id": "VqNVQUy802R1",
        "outputId": "37d66b09-17f7-4a8d-bb7a-6e4768af305d"
      },
      "outputs": [],
      "source": [
        "fig, axes = pyplot.subplots(nrows=4, ncols=2, figsize=(10, 8))\n",
        "for i, ax in enumerate(axes.flatten()):\n",
        "    data = np.array(\n",
        "        frame_interesting_columns[frame_interesting_columns.columns[i]])\n",
        "    ax.plot(pd.DataFrame(data))\n",
        "    ax.set_title(frame_interesting_columns.columns[i])\n",
        "    ax.plot()\n",
        "\n",
        "pyplot.tight_layout()\n",
        "\n",
        "fig, axes = pyplot.subplots(nrows=3, ncols=2, figsize=(10, 8))\n",
        "for i, ax in enumerate(axes.flatten()):\n",
        "    data = np.array(mobility_df[mobility_df.columns[i]])\n",
        "    ax.plot(pd.DataFrame(data))\n",
        "    ax.set_title(mobility_df.columns[i])\n",
        "    ax.plot()\n",
        "\n",
        "pyplot.tight_layout()\n"
      ]
    },
    {
      "cell_type": "markdown",
      "metadata": {
        "id": "aA6MV9wO02SL"
      },
      "source": [
        "# Univariate XGBOOST"
      ]
    },
    {
      "cell_type": "code",
      "execution_count": null,
      "metadata": {
        "id": "61TluCEU02SN"
      },
      "outputs": [],
      "source": [
        "def split_for_testing(data, split_percent):\n",
        "    split = int(split_percent*len(scaled))\n",
        "    return data[:split, :], data[split:, :],\n",
        "\n",
        "\n",
        "def split_dates(data, split_percent):\n",
        "    split = int(split_percent*len(scaled))\n",
        "    date_train = data.index[:split]\n",
        "    date_test = data.index[split:]\n",
        "    date_prediction = data.index[split+look_back:]\n",
        "    return date_train, date_test, date_prediction\n",
        "\n",
        "\n",
        "def walk_forward_validation(data, split_percent):\n",
        "    predictions = list()\n",
        "    train, test = split_for_testing(data, split_percent)\n",
        "    history = [x for x in train]\n",
        "    for i in range(len(test)):\n",
        "        test_X, test_y = test[i, :-1], test[i, -1]\n",
        "        prediction = xgboost_forecast_retrain(history, test_X)\n",
        "        predictions.append(prediction)\n",
        "        history.append(test[i])\n",
        "    error = mean_absolute_error(test[:, -1], predictions)\n",
        "    return error, test[:, 1], predictions\n",
        "\n",
        "\n",
        "def xgboost_forecast_retrain(train, test_X):\n",
        "    train = np.ascontiguousarray(train)\n",
        "    test_X = np.ascontiguousarray(test_X)\n",
        "    train_X, train_y = train[:, :-1], train[:, -1]\n",
        "    model = XGBRegressor(objective='reg:squarederror', n_estimators=1000)\n",
        "    model.fit(train_X, train_y)\n",
        "    prediction = model.predict([test_X])\n",
        "    return prediction[0]"
      ]
    },
    {
      "cell_type": "code",
      "execution_count": null,
      "metadata": {
        "colab": {
          "base_uri": "https://localhost:8080/",
          "height": 627
        },
        "id": "uIXBa8g302Sc",
        "outputId": "48527c9e-025b-476b-cd1b-8eef77e747f6"
      },
      "outputs": [],
      "source": [
        "column_univariate = 'nuovi_positivi'\n",
        "df = pd.DataFrame(frame_interesting_columns[column_univariate])\n",
        "scaler = MinMaxScaler(feature_range=(0, 1))\n",
        "scaled = scaler.fit_transform(df)\n",
        "\n",
        "split_percent = 0.80\n",
        "split = int(split_percent*len(scaled))\n",
        "look_back = 7\n",
        "\n",
        "values = scaled\n",
        "\n",
        "date_train, date_test, date_prediction = split_dates(df, split_percent)\n",
        "\n",
        "train = df[:split].values.reshape(-1)\n",
        "\n",
        "reframed = series_to_supervised(pd.DataFrame(values), window=look_back)\n",
        "mae, test, prediction = walk_forward_validation(\n",
        "    reframed.values, split_percent=split_percent)\n",
        "\n",
        "test = scaler.inverse_transform(test.reshape(-1, 1)).reshape(-1)\n",
        "prediction = scaler.inverse_transform(\n",
        "    np.array(prediction).reshape(-1, 1)).reshape(-1)\n",
        "\n",
        "print('MAE: %.3f' % mean_absolute_error(test, prediction))\n",
        "\n",
        "data_trace = go.Scatter(x=date_train, y=train, mode='lines', name='Data')\n",
        "prediction_trace = go.Scatter(\n",
        "    x=date_prediction, y=prediction, mode='lines', name='Prediction')\n",
        "truth_trace = go.Scatter(\n",
        "    x=date_test, y=test, mode='lines', name='Ground Truth')\n",
        "layout = go.Layout(title=\"nuovi_positivi\", xaxis={\n",
        "                   'title': \"Date\"}, yaxis={'title': \"nuovi_positivi\"})\n",
        "\n",
        "fig = go.Figure(data=[data_trace, prediction_trace,\n",
        "                truth_trace], layout=layout)\n",
        "fig.show()"
      ]
    },
    {
      "cell_type": "markdown",
      "metadata": {
        "id": "jfWiDt1Qv_Vp"
      },
      "source": [
        "# Multivariate XGBOOST"
      ]
    },
    {
      "cell_type": "code",
      "execution_count": null,
      "metadata": {
        "colab": {
          "base_uri": "https://localhost:8080/",
          "height": 375
        },
        "id": "24pGSW6HwHEr",
        "outputId": "543f43be-c6b1-41a9-a875-4a52ffdcace1"
      },
      "outputs": [],
      "source": [
        "df = pd.DataFrame(frame_interesting_columns.drop('tamponi', axis=1))\n",
        "scaler = MinMaxScaler(feature_range=(0, 1))\n",
        "scaled = scaler.fit_transform(df)\n",
        "\n",
        "train = scaled[:split]\n",
        "test = scaled[split:]\n",
        "\n",
        "column_to_predict = 'nuovi_positivi'\n",
        "index_to_predict = df.columns.get_loc(column_to_predict)\n",
        "\n",
        "split_percent = 0.80\n",
        "split = int(split_percent*len(scaled))\n",
        "look_back = 7\n",
        "\n",
        "values = scaled\n",
        "\n",
        "date_train, date_test, date_prediction = split_dates(df, split_percent)\n",
        "\n",
        "train = df.values[:split, index_to_predict].reshape(-1)\n",
        "test_original = df.values[split:, index_to_predict].reshape(-1)\n",
        "\n",
        "reframed = series_to_supervised(\n",
        "    pd.DataFrame(values), window=look_back, index_to_predict=index_to_predict)\n",
        "mae, test, prediction = walk_forward_validation(\n",
        "    reframed.values, split_percent=split_percent)\n",
        "\n",
        "prediction_copies = np.repeat(pd.DataFrame(\n",
        "    prediction).values, df.shape[1], axis=-1)\n",
        "test_copies = np.repeat(pd.DataFrame(test).values, df.shape[1], axis=-1)\n",
        "\n",
        "prediction = scaler.inverse_transform(prediction_copies)[:, 0]\n",
        "test = scaler.inverse_transform(test_copies)[:, 0]\n",
        "\n",
        "print('MAE: %.3f' % mean_absolute_error(test, prediction))\n",
        "\n",
        "data_trace = go.Scatter(x=date_train, y=train, mode='lines', name='Data')\n",
        "prediction_trace = go.Scatter(\n",
        "    x=date_prediction, y=prediction, mode='lines', name='Prediction')\n",
        "truth_trace = go.Scatter(\n",
        "    x=date_test, y=test_original, mode='lines', name='Ground Truth')\n",
        "layout = go.Layout(title=\"nuovi_positivi\", xaxis={\n",
        "                   'title': \"Date\"}, yaxis={'title': \"nuovi_positivi\"})\n",
        "\n",
        "fig = go.Figure(data=[data_trace, prediction_trace,\n",
        "                truth_trace], layout=layout)\n",
        "fig.show()\n",
        "\n"
      ]
    },
    {
      "cell_type": "markdown",
      "metadata": {
        "id": "or46puPe02Sf"
      },
      "source": [
        "# VAR (Vector Auto Regression)"
      ]
    },
    {
      "cell_type": "code",
      "execution_count": null,
      "metadata": {
        "id": "F4CFckSM02Sg"
      },
      "outputs": [],
      "source": [
        "# n_splits = 10\n",
        "# test_size = 5\n",
        "\n",
        "# tscv = TimeSeriesSplit(n_splits=n_splits, test_size=test_size)\n",
        "\n",
        "# df = frame_interesting_columns\n",
        "\n",
        "# for train_index, test_index in tscv.split(df):\n",
        "#     train = df.iloc[train_index]\n",
        "#     test = df.iloc[test_index]\n",
        "\n",
        "#     model = VAR(endog=train, freq='D')\n",
        "#     fit = model.fit()\n",
        "#     lag_order = fit.k_ar\n",
        "\n",
        "#     prediction = fit.forecast(train.values[-lag_order:], len(test_index))\n",
        "\n",
        "#     pred_df = pd.DataFrame(prediction, columns=df.columns)\n",
        "\n",
        "#     print('train interval: ' +\n",
        "#           str(train.index[0]) + ' - ' + str(train.index[-1]))\n",
        "#     print('test interval: ' + str(test.index[0]) + ' - ' + str(test.index[-1]))\n",
        "#     for i in test.columns:\n",
        "#         print('mae value for', i, 'is : ',\n",
        "#               mean_absolute_error(pred_df[i], test[i]))"
      ]
    },
    {
      "cell_type": "markdown",
      "metadata": {
        "id": "lomTEbf-02Sh"
      },
      "source": [
        "# LSTM Univariate\n"
      ]
    },
    {
      "cell_type": "code",
      "execution_count": null,
      "metadata": {
        "colab": {
          "base_uri": "https://localhost:8080/",
          "height": 807
        },
        "id": "PNmMeHi802Si",
        "outputId": "8aa36c17-1028-4e33-9640-4cb41306a319"
      },
      "outputs": [],
      "source": [
        "column_univariate = 'nuovi_positivi'\n",
        "df = pd.DataFrame(frame_interesting_columns[column_univariate])\n",
        "scaler = MinMaxScaler(feature_range=(0, 1))\n",
        "scaled = scaler.fit_transform(df)\n",
        "\n",
        "look_back = 7\n",
        "split_percent = 0.80\n",
        "split = int(split_percent*len(scaled))\n",
        "\n",
        "train = scaled[:split, :]\n",
        "test = scaled[split:, ]\n",
        "\n",
        "date_train = df.index[:split]\n",
        "date_test = df.index[split:]\n",
        "date_prediction = df.index[split+look_back:]\n",
        "\n",
        "train_reframed = series_to_supervised(pd.DataFrame(train), look_back, 1).values\n",
        "test_reframed = series_to_supervised(pd.DataFrame(test), look_back, 1).values\n",
        "\n",
        "train_X, train_y = train_reframed[:, :-1], train_reframed[:, -1]\n",
        "test_X, test_y = test_reframed[:, :-1], test_reframed[:, -1]\n",
        "\n",
        "train_X = train_X.reshape((train_X.shape[0], train_X.shape[1], 1))\n",
        "test_X = test_X.reshape((test_X.shape[0], test_X.shape[1], 1))\n",
        "\n",
        "model = Sequential()\n",
        "model.add(LSTM(50, input_shape=(train_X.shape[1], train_X.shape[2])))\n",
        "model.add(Dense(1))\n",
        "model.compile(loss='mae', optimizer='adam')\n",
        "\n",
        "history = model.fit(train_X, train_y, epochs=50, batch_size=72,\n",
        "                    validation_data=(test_X, test_y), verbose=0, shuffle=False)\n",
        "\n",
        "pyplot.plot(history.history['loss'], label='Training loss')\n",
        "pyplot.plot(history.history['val_loss'], label='Validation loss')\n",
        "pyplot.legend()\n",
        "pyplot.show()\n",
        "\n",
        "prediction = model.predict(test_X)\n",
        "\n",
        "train = scaler.inverse_transform(train).reshape(-1)\n",
        "test = scaler.inverse_transform(test).reshape(-1)\n",
        "prediction = scaler.inverse_transform(prediction).reshape(-1)\n",
        "\n",
        "print('MAE: %.3f' % mean_absolute_error(test_y, prediction))\n",
        "\n",
        "data_trace = go.Scatter(x=date_train, y=train, mode='lines', name='Data')\n",
        "prediction_trace = go.Scatter(\n",
        "    x=date_prediction, y=prediction, mode='lines', name='Prediction')\n",
        "truth_trace = go.Scatter(\n",
        "    x=date_test, y=test, mode='lines', name='Ground Truth')\n",
        "layout = go.Layout(title=\"nuovi_positivi\", xaxis={\n",
        "                   'title': \"Date\"}, yaxis={'title': \"nuovi_positivi\"})\n",
        "\n",
        "fig = go.Figure(data=[data_trace, prediction_trace,\n",
        "                truth_trace], layout=layout)\n",
        "fig.show()"
      ]
    },
    {
      "cell_type": "markdown",
      "metadata": {
        "id": "b4ZwyAH-coPq"
      },
      "source": [
        "#Univariate LSTM with TimeseriesGenerator"
      ]
    },
    {
      "cell_type": "code",
      "execution_count": null,
      "metadata": {
        "colab": {
          "base_uri": "https://localhost:8080/",
          "height": 807
        },
        "id": "6pfvZjsL2v_l",
        "outputId": "af94c096-a6e7-4b30-af89-fd70e5d61828"
      },
      "outputs": [],
      "source": [
        "df = pd.DataFrame(frame_interesting_columns['nuovi_positivi'])\n",
        "\n",
        "scaler = MinMaxScaler(feature_range=(0, 1))\n",
        "scaled = scaler.fit_transform(df.values)\n",
        "\n",
        "values = scaled\n",
        "\n",
        "split_percent = 0.80\n",
        "split = int(split_percent*len(values))\n",
        "\n",
        "look_back = 7\n",
        "\n",
        "train = values[:split]\n",
        "test = values[split:]\n",
        "\n",
        "date_train = df.index[:split]\n",
        "date_test = df.index[split:]\n",
        "date_prediction = df.index[split+look_back:]\n",
        "\n",
        "train_generator = TimeseriesGenerator(\n",
        "    train, train, length=look_back, batch_size=20)\n",
        "test_generator = TimeseriesGenerator(\n",
        "    test, test, length=look_back, batch_size=1)\n",
        "\n",
        "model = Sequential()\n",
        "model.add(LSTM(50, activation='relu', input_shape=(look_back, 1)))\n",
        "model.add(Dense(1))\n",
        "model.compile(optimizer='adam', loss='mae')\n",
        "\n",
        "num_epochs = 50\n",
        "\n",
        "history = model.fit(\n",
        "    train_generator, validation_data=test_generator, epochs=num_epochs, verbose=0)\n",
        "\n",
        "pyplot.plot(history.history['loss'], label='Training loss')\n",
        "pyplot.plot(history.history['val_loss'], label='Validation loss')\n",
        "pyplot.legend()\n",
        "pyplot.show()\n",
        "\n",
        "prediction = model.predict(test_generator)\n",
        "\n",
        "train = scaler.inverse_transform(train).reshape(-1)\n",
        "test = scaler.inverse_transform(test).reshape(-1)\n",
        "prediction = scaler.inverse_transform(prediction).reshape(-1)\n",
        "\n",
        "data_trace = go.Scatter(x=date_train, y=train, mode='lines', name='Data')\n",
        "prediction_trace = go.Scatter(\n",
        "    x=date_prediction, y=prediction, mode='lines', name='Prediction')\n",
        "truth_trace = go.Scatter(\n",
        "    x=date_test, y=test, mode='lines', name='Ground Truth')\n",
        "layout = go.Layout(title=\"nuovi_positivi\", xaxis={\n",
        "                   'title': \"Date\"}, yaxis={'title': \"nuovi_positivi\"})\n",
        "\n",
        "fig = go.Figure(data=[data_trace, prediction_trace,\n",
        "                truth_trace], layout=layout)\n",
        "fig.show()\n",
        "\n",
        "# first seven steps used for lags to avoid using last 7 steps for\n",
        "# training in order to avoid using traing data for testing\n",
        "print('MAE: %.3f' % mean_absolute_error(test[look_back:], prediction))"
      ]
    },
    {
      "cell_type": "markdown",
      "metadata": {
        "id": "bgb1Mg4StHbT"
      },
      "source": [
        "# Multivariate LSTM"
      ]
    },
    {
      "cell_type": "code",
      "execution_count": null,
      "metadata": {
        "colab": {
          "base_uri": "https://localhost:8080/",
          "height": 807
        },
        "id": "QHiFkUcG4ZZK",
        "outputId": "11915bc4-c477-4363-fff9-17355ce781f6"
      },
      "outputs": [],
      "source": [
        "df = pd.DataFrame(frame_interesting_columns.drop('tamponi', axis=1))\n",
        "scaler = MinMaxScaler(feature_range=(0, 1))\n",
        "scaled = scaler.fit_transform(df)\n",
        "\n",
        "split_percent = 0.80\n",
        "split = int(split_percent*len(scaled))\n",
        "\n",
        "look_back = 7\n",
        "n_future = 1\n",
        "\n",
        "train = scaled[:split]\n",
        "test = scaled[split:]\n",
        "\n",
        "column_to_predict = 'nuovi_positivi'\n",
        "index_to_predict = df.columns.get_loc(column_to_predict)\n",
        "\n",
        "date_train = df.index[:split]\n",
        "date_test = df.index[split:]\n",
        "date_prediction = df.index[split:]\n",
        "\n",
        "train_X, test_X = [], []\n",
        "train_y, test_y = [], []\n",
        "\n",
        "for i in range(look_back, len(train) - n_future + 1):\n",
        "    train_X.append(train[i - look_back:i, 0:train.shape[1]])\n",
        "    train_y.append(train[i + n_future - 1:i + n_future, index_to_predict])\n",
        "\n",
        "for i in range(look_back, len(test) - n_future + 1):\n",
        "    test_X.append(test[i - look_back:i, 0:test.shape[1]])\n",
        "    test_y.append(test[i + n_future - 1:i + n_future, index_to_predict])\n",
        "\n",
        "train_X, train_y = np.array(train_X), np.array(train_y)\n",
        "test_X, test_y = np.array(test_X), np.array(test_y)\n",
        "\n",
        "model = Sequential()\n",
        "model.add(LSTM(64, activation='relu', input_shape=(\n",
        "    train_X.shape[1], train_X.shape[2]), return_sequences=True))\n",
        "model.add(LSTM(32, activation='relu', return_sequences=False))\n",
        "model.add(Dropout(0.2))\n",
        "model.add(Dense(1))\n",
        "\n",
        "model.compile(optimizer='adam', loss='mse')\n",
        "\n",
        "history = model.fit(train_X, train_y, epochs=num_epochs,\n",
        "                    batch_size=16, validation_split=0.2, verbose=0)\n",
        "\n",
        "pyplot.plot(history.history['loss'], label='Training loss')\n",
        "pyplot.plot(history.history['val_loss'], label='Validation loss')\n",
        "pyplot.legend()\n",
        "\n",
        "prediction = model.predict(test_X)\n",
        "\n",
        "prediction_copies = np.repeat(prediction, df.shape[1], axis=-1)\n",
        "test_copies = np.repeat(pd.DataFrame(test_y).values, df.shape[1], axis=-1)\n",
        "\n",
        "prediction_descaled = scaler.inverse_transform(prediction_copies)[:, 0]\n",
        "test_descaled = scaler.inverse_transform(test_copies)[:, 0]\n",
        "\n",
        "train = scaler.inverse_transform(scaled)[:, index_to_predict].reshape(-1)\n",
        "test = test_descaled.reshape((-1))\n",
        "prediction = prediction_descaled.reshape((-1))\n",
        "\n",
        "data_trace = go.Scatter(x=date_train, y=train, mode='lines', name='Data')\n",
        "prediction_trace = go.Scatter(\n",
        "    x=date_prediction, y=prediction, mode='lines', name='Prediction')\n",
        "truth_trace = go.Scatter(\n",
        "    x=date_test, y=test, mode='lines', name='Ground Truth')\n",
        "layout = go.Layout(title=\"nuovi_positivi\", xaxis={\n",
        "                   'title': \"Date\"}, yaxis={'title': \"nuovi_positivi\"})\n",
        "\n",
        "fig = go.Figure(data=[data_trace, prediction_trace,\n",
        "                truth_trace], layout=layout)\n",
        "fig.show()\n",
        "\n",
        "print('MAE: %.3f' % mean_absolute_error(test_y, prediction))"
      ]
    },
    {
      "cell_type": "markdown",
      "metadata": {
        "id": "aq4kerF4cyB3"
      },
      "source": [
        "# Multivariate LSTM with TimeseriesGenerator"
      ]
    },
    {
      "cell_type": "code",
      "execution_count": null,
      "metadata": {
        "colab": {
          "base_uri": "https://localhost:8080/",
          "height": 811
        },
        "id": "FBBd_ev2t9-V",
        "outputId": "ad2489d8-7dae-4bb6-d156-4fd2c5e17775"
      },
      "outputs": [],
      "source": [
        "df = pd.DataFrame(frame_interesting_columns.drop('tamponi', axis=1))\n",
        "scaler = MinMaxScaler(feature_range=(0, 1))\n",
        "scaled = scaler.fit_transform(df.values)\n",
        "\n",
        "values = scaled\n",
        "\n",
        "column_to_predict = 'nuovi_positivi'\n",
        "index_to_predict = df.columns.get_loc(column_to_predict)\n",
        "\n",
        "look_back = 7\n",
        "\n",
        "date_train = df.index[:split]\n",
        "date_test = df.index[split:]\n",
        "date_prediction = df.index[split+look_back:]\n",
        "\n",
        "# X = values[:][:-look_back]\n",
        "# y = values[:,index_to_predict][look_back:]\n",
        "\n",
        "X = values[:][:]\n",
        "y = values[:, index_to_predict][:]\n",
        "\n",
        "train_X, test_X, train_y, test_y = train_test_split(\n",
        "    X, y, test_size=0.20, random_state=42, shuffle=False)\n",
        "\n",
        "train_generator = TimeseriesGenerator(\n",
        "    train_X, train_y, sampling_rate=1, length=look_back, batch_size=look_back)\n",
        "test_generator = TimeseriesGenerator(\n",
        "    test_X, test_y, sampling_rate=1, length=look_back, batch_size=look_back)\n",
        "\n",
        "model = Sequential()\n",
        "model.add(LSTM(64, activation='relu', input_shape=(\n",
        "    look_back, scaled.shape[1]), return_sequences=True))\n",
        "model.add(LSTM(32, activation='relu', return_sequences=False))\n",
        "model.add(Dropout(0.2))\n",
        "model.add(Dense(1))\n",
        "\n",
        "model.compile(optimizer='adam', loss='mse')\n",
        "\n",
        "history = model.fit(\n",
        "    train_generator, validation_data=test_generator, epochs=num_epochs, verbose=0)\n",
        "\n",
        "pyplot.plot(history.history['loss'], label='Training loss')\n",
        "pyplot.plot(history.history['val_loss'], label='Validation loss')\n",
        "pyplot.legend()\n",
        "\n",
        "prediction = model.predict(test_generator)\n",
        "\n",
        "prediction_copies = np.repeat(prediction, df.shape[1], axis=-1)\n",
        "test_copies = np.repeat(pd.DataFrame(test_y).values, df.shape[1], axis=-1)\n",
        "\n",
        "prediction_descaled = scaler.inverse_transform(prediction_copies)[:, 0]\n",
        "test_descaled = scaler.inverse_transform(test_copies)[:, 0]\n",
        "\n",
        "train = scaler.inverse_transform(values)[:, index_to_predict].reshape(-1)\n",
        "test = test_descaled.reshape((-1))\n",
        "prediction = prediction_descaled.reshape((-1))\n",
        "\n",
        "data_trace = go.Scatter(x=date_train, y=train, mode='lines', name='Data')\n",
        "prediction_trace = go.Scatter(\n",
        "    x=date_prediction, y=prediction, mode='lines', name='Prediction')\n",
        "truth_trace = go.Scatter(\n",
        "    x=date_test, y=test, mode='lines', name='Ground Truth')\n",
        "layout = go.Layout(title=\"nuovi_positivi\", xaxis={\n",
        "                   'title': \"Date\"}, yaxis={'title': \"nuovi_positivi\"})\n",
        "\n",
        "fig = go.Figure(data=[data_trace, prediction_trace,\n",
        "                truth_trace], layout=layout)\n",
        "fig.show()\n",
        "\n",
        "print('MAE: %.3f' % mean_absolute_error(test[look_back:], prediction))"
      ]
    }
  ],
  "metadata": {
    "colab": {
      "name": "covid_forecasting.ipynb",
      "provenance": []
    },
    "interpreter": {
      "hash": "b6e8a8e6cd5b0d8bd2b931e6e2bcfab8fa0bbcead3979137bf827a61abd923e3"
    },
    "kernelspec": {
      "display_name": "Python 3.7.11 64-bit ('tf': conda)",
      "name": "python3"
    },
    "language_info": {
      "codemirror_mode": {
        "name": "ipython",
        "version": 3
      },
      "file_extension": ".py",
      "mimetype": "text/x-python",
      "name": "python",
      "nbconvert_exporter": "python",
      "pygments_lexer": "ipython3",
      "version": "3.7.11"
    },
    "metadata": {
      "interpreter": {
        "hash": "f85c0ae1067a86ad6a96b144378883e79fd1516474b579ba33ee3a7084540002"
      }
    }
  },
  "nbformat": 4,
  "nbformat_minor": 0
}
