{
  "cells": [
    {
      "cell_type": "code",
      "execution_count": null,
      "metadata": {
        "colab": {
          "base_uri": "https://localhost:8080/"
        },
        "id": "VSEhcEI602Qp",
        "outputId": "ebf2a3f7-b81b-440b-963f-b283d1648cb3"
      },
      "outputs": [],
      "source": [
        "import pandas as pd\n",
        "import numpy as np\n",
        "from matplotlib import pyplot\n",
        "import seaborn as sns\n",
        "import tensorflow as tf\n",
        "import IPython\n",
        "import IPython.display\n",
        "from statsmodels.tsa.vector_ar.var_model import VAR\n",
        "import sklearn\n",
        "from sklearn.model_selection import TimeSeriesSplit\n",
        "from tensorflow.keras.models import Sequential\n",
        "from tensorflow.keras.layers import Dense, Dropout, LSTM\n",
        "from sklearn.metrics import mean_absolute_error\n",
        "from sklearn.preprocessing import MinMaxScaler\n",
        "from statsmodels.tsa.vector_ar.var_model import VAR\n",
        "from keras.preprocessing.sequence import TimeseriesGenerator\n",
        "import plotly.graph_objects as go\n",
        "from sklearn.model_selection import train_test_split\n",
        "\n",
        "# fix for 'package not found' when installing in Anaconda environment\n",
        "if 'google.colab' not in str(get_ipython()):\n",
        "    import pip\n",
        "    pip.main(['install', 'xgboost'])\n",
        "\n",
        "if 'google.colab' in str(get_ipython()):\n",
        "  !rm util.py\n",
        "  !rm window.py\n",
        "  !rm models.py\n",
        "  !wget https://raw.githubusercontent.com/marco-mazzoli/progetto-tesi/master/util.py\n",
        "  !wget https://raw.githubusercontent.com/marco-mazzoli/progetto-tesi/master/windows.py\n",
        "  !wget https://raw.githubusercontent.com/marco-mazzoli/progetto-tesi/master/models.py\n",
        "\n",
        "from xgboost import XGBRegressor\n",
        "from util import select_relevant_rows, select_attributes, read_movement_data,download_updated_mobility_data, download_updated_mobility_data, series_to_supervised\n",
        "from windows import WindowGenerator\n",
        "from models import MultiStepLastBaseline"
      ]
    },
    {
      "cell_type": "markdown",
      "metadata": {
        "id": "-_laukLF02RI"
      },
      "source": [
        "# Data Acquisition and Data Preparation"
      ]
    },
    {
      "cell_type": "code",
      "execution_count": null,
      "metadata": {
        "id": "jH7mmQes02RO"
      },
      "outputs": [],
      "source": [
        "local_region_path = r'../COVID-19/dati-regioni/dpc-covid19-ita-regioni.csv'\n",
        "remote_region_path = r'https://raw.githubusercontent.com/pcm-dpc/COVID-19/master/dati-regioni/dpc-covid19-ita-regioni.csv'\n",
        "\n",
        "regions_frame = pd.read_csv(remote_region_path)"
      ]
    },
    {
      "cell_type": "code",
      "execution_count": null,
      "metadata": {
        "id": "PUYXkpT902RQ"
      },
      "outputs": [],
      "source": [
        "region_focus = 'Emilia-Romagna'\n",
        "attribute_focus = 'denominazione_regione'\n",
        "\n",
        "region_focus_data = select_relevant_rows(\n",
        "    regions_frame,\n",
        "    attribute_focus,\n",
        "    region_focus\n",
        "    )"
      ]
    },
    {
      "cell_type": "code",
      "execution_count": null,
      "metadata": {
        "id": "e6-D1als02RU"
      },
      "outputs": [],
      "source": [
        "frame_interesting_columns = select_attributes(region_focus_data, [\n",
        "    'data',\n",
        "    'ricoverati_con_sintomi',\n",
        "    'terapia_intensiva',\n",
        "    'totale_ospedalizzati',\n",
        "    'variazione_totale_positivi',\n",
        "    'nuovi_positivi',\n",
        "    'deceduti',\n",
        "    'tamponi',\n",
        "    'ingressi_terapia_intensiva'\n",
        "    ])"
      ]
    },
    {
      "cell_type": "code",
      "execution_count": null,
      "metadata": {
        "colab": {
          "base_uri": "https://localhost:8080/",
          "height": 204
        },
        "id": "Kd6Ufo-U02Ra",
        "outputId": "bd10df6b-549b-4bdc-d7ea-5211a082630a"
      },
      "outputs": [],
      "source": [
        "frame_interesting_columns.tail()"
      ]
    },
    {
      "cell_type": "code",
      "execution_count": null,
      "metadata": {
        "id": "DyOjvvC402Rb"
      },
      "outputs": [],
      "source": [
        "frame_interesting_columns = pd.DataFrame(frame_interesting_columns)\n",
        "frame_interesting_columns['data'] = pd.to_datetime(frame_interesting_columns['data'])\n",
        "frame_interesting_columns['data'] = frame_interesting_columns['data'].dt.strftime(r'%Y-%m-%d')\n",
        "frame_interesting_columns = frame_interesting_columns.fillna(0)\n"
      ]
    },
    {
      "cell_type": "code",
      "execution_count": null,
      "metadata": {
        "colab": {
          "base_uri": "https://localhost:8080/"
        },
        "id": "tDVPGa3Y02Rc",
        "outputId": "05250e48-8e52-4e7f-e93d-faaf5279580a"
      },
      "outputs": [],
      "source": [
        "mobility_data_url = r'https://www.gstatic.com/covid19/mobility/Global_Mobility_Report.csv'\n",
        "file_path = r'../Global_Mobility_Report.csv'\n",
        "mobility_data_zip_url = r'https://www.gstatic.com/covid19/mobility/Region_Mobility_Report_CSVs.zip'\n",
        "zip_path = r'../Region_Mobility_Report_CSVs.zip'\n",
        "region_mobility_path = r'../Region_Mobility_Report_CSVs'\n",
        "\n",
        "download_updated_mobility_data(\n",
        "    mobility_data_url,\n",
        "    file_path,\n",
        "    region_mobility_path,\n",
        "    mobility_data_zip_url,\n",
        "    zip_path\n",
        "    )\n",
        "\n",
        "mobility_df = read_movement_data(\n",
        "    region_mobility_path,\n",
        "    'IT_Region_Mobility_Report',\n",
        "    region='Emilia-Romagna'\n",
        "    )"
      ]
    },
    {
      "cell_type": "code",
      "execution_count": null,
      "metadata": {
        "id": "18ESzhUi02Re"
      },
      "outputs": [],
      "source": [
        "mobility_df = mobility_df[['date',\n",
        "            'retail_and_recreation_percent_change_from_baseline',\n",
        "            'grocery_and_pharmacy_percent_change_from_baseline',\n",
        "            'parks_percent_change_from_baseline',\n",
        "            'transit_stations_percent_change_from_baseline',\n",
        "            'workplaces_percent_change_from_baseline',\n",
        "            'residential_percent_change_from_baseline']].fillna(0)"
      ]
    },
    {
      "cell_type": "code",
      "execution_count": null,
      "metadata": {
        "colab": {
          "base_uri": "https://localhost:8080/",
          "height": 640
        },
        "id": "9TiER3qD02R0",
        "outputId": "5d7ed136-f467-458c-bbd7-0cc25f965e0a"
      },
      "outputs": [],
      "source": [
        "frame_interesting_columns.rename(columns={'data': 'date'}, inplace=True)\n",
        "frame_interesting_columns.set_index('date',inplace=True)\n",
        "mobility_df.set_index('date',inplace=True)\n",
        "merged = pd.merge(\n",
        "    frame_interesting_columns,\n",
        "    mobility_df,\n",
        "    on='date'\n",
        "    )\n",
        "merged = merged.fillna(0)\n",
        "merged.set_index(pd.DatetimeIndex(merged.index))"
      ]
    },
    {
      "cell_type": "code",
      "execution_count": null,
      "metadata": {
        "colab": {
          "base_uri": "https://localhost:8080/",
          "height": 585
        },
        "id": "VqNVQUy802R1",
        "outputId": "56ff4269-fe60-4a51-da7b-3acc64dfe375"
      },
      "outputs": [],
      "source": [
        "fig, axes = pyplot.subplots(nrows=4,ncols=2,figsize=(10,8))\n",
        "for i, ax in enumerate(axes.flatten()):\n",
        "    data = np.array(frame_interesting_columns[frame_interesting_columns.columns[i]])\n",
        "    ax.plot(pd.DataFrame(data))\n",
        "    ax.set_title(frame_interesting_columns.columns[i])\n",
        "    ax.plot()\n",
        "\n",
        "pyplot.tight_layout()\n"
      ]
    },
    {
      "cell_type": "code",
      "execution_count": null,
      "metadata": {
        "colab": {
          "base_uri": "https://localhost:8080/",
          "height": 585
        },
        "id": "CkC4rbID02SI",
        "outputId": "2be31d3d-171b-4870-9b21-af0c83cbb524"
      },
      "outputs": [],
      "source": [
        "fig, axes = pyplot.subplots(nrows=3,ncols=2,figsize=(10,8))\n",
        "for i, ax in enumerate(axes.flatten()):\n",
        "    data = np.array(mobility_df[mobility_df.columns[i]])\n",
        "    ax.plot(pd.DataFrame(data))\n",
        "    ax.set_title(mobility_df.columns[i])\n",
        "    ax.plot()\n",
        "\n",
        "pyplot.tight_layout()\n"
      ]
    },
    {
      "cell_type": "code",
      "execution_count": null,
      "metadata": {
        "colab": {
          "base_uri": "https://localhost:8080/"
        },
        "id": "1nz7W8AP02SK",
        "outputId": "66345f1d-41b2-4e49-bd2e-e304b96d6d0b"
      },
      "outputs": [],
      "source": [
        "df = merged\n",
        "n = len(merged)\n",
        "train_df = df[0:int(n*0.7)]\n",
        "val_df = df[int(n*0.7):int(n*0.9)]\n",
        "test_df = df[int(n*0.9):]\n",
        "\n",
        "num_features = df.shape[1]\n",
        "num_features"
      ]
    },
    {
      "cell_type": "markdown",
      "metadata": {
        "id": "aA6MV9wO02SL"
      },
      "source": [
        "# Univariate XGBOOST"
      ]
    },
    {
      "cell_type": "code",
      "execution_count": null,
      "metadata": {
        "id": "9KIMN_xj02SM"
      },
      "outputs": [],
      "source": [
        "column_univariate = merged['nuovi_positivi']\n",
        "\n",
        "reframed = series_to_supervised(pd.DataFrame(column_univariate),window=7)"
      ]
    },
    {
      "cell_type": "code",
      "execution_count": null,
      "metadata": {
        "colab": {
          "base_uri": "https://localhost:8080/",
          "height": 637
        },
        "id": "99cvRPoN02SM",
        "outputId": "bcf49399-ce99-4c6e-ae90-a18b3d89f758"
      },
      "outputs": [],
      "source": [
        "reframed"
      ]
    },
    {
      "cell_type": "code",
      "execution_count": null,
      "metadata": {
        "id": "61TluCEU02SN"
      },
      "outputs": [],
      "source": [
        "def split_for_testing(data,n_test):\n",
        "\treturn data[:-n_test, :], data[-n_test:, :]\n",
        "\n",
        "def walk_forward_validation(data,n_test):\n",
        "    predictions = list()\n",
        "    train, test = split_for_testing(data,n_test)\n",
        "    history = [x for x in train]\n",
        "    for i in range(len(test)):\n",
        "        test_X, test_y = test[i, :-1], test[i, -1]\n",
        "        prediction = xgboost_forecast(history,test_X)\n",
        "        predictions.append(prediction)\n",
        "        history.append(test[i])\n",
        "    error = mean_absolute_error(test[:, -1],predictions)\n",
        "    return error, test[:, 1], predictions\n",
        "\n",
        "def xgboost_forecast(train,test_X):\n",
        "    train = np.ascontiguousarray(train)\n",
        "    test_X = np.ascontiguousarray(test_X)\n",
        "    train_X, train_y = train[:, :-1], train[:, -1]\n",
        "    model = XGBRegressor(objective='reg:squarederror',n_estimators=1000)\n",
        "    model.fit(train_X, train_y)\n",
        "    prediction = model.predict([test_X])\n",
        "    return prediction[0]"
      ]
    },
    {
      "cell_type": "code",
      "execution_count": null,
      "metadata": {
        "colab": {
          "base_uri": "https://localhost:8080/"
        },
        "id": "5goGIods02SP",
        "outputId": "31e53932-c934-4077-84f8-6d710f6954e6"
      },
      "outputs": [],
      "source": [
        "mae, y, yhat = walk_forward_validation(reframed.values,7)"
      ]
    },
    {
      "cell_type": "code",
      "execution_count": null,
      "metadata": {
        "colab": {
          "base_uri": "https://localhost:8080/",
          "height": 282
        },
        "id": "uIXBa8g302Sc",
        "outputId": "02ea55bf-295e-4ada-8044-a898337fac4f"
      },
      "outputs": [],
      "source": [
        "print('MAE: %.3f' % mae)\n",
        "pyplot.plot(y,label='Expected')\n",
        "pyplot.plot(yhat,label='Predicted')\n",
        "pyplot.legend()\n",
        "pyplot.show()"
      ]
    },
    {
      "cell_type": "markdown",
      "metadata": {
        "id": "or46puPe02Sf"
      },
      "source": [
        "# VAR (Vector Auto Regression)"
      ]
    },
    {
      "cell_type": "code",
      "execution_count": null,
      "metadata": {
        "id": "KGG6di6pWImL"
      },
      "outputs": [],
      "source": [
        "# !pip3 install scikit-learn==0.24"
      ]
    },
    {
      "cell_type": "code",
      "execution_count": null,
      "metadata": {
        "id": "F4CFckSM02Sg"
      },
      "outputs": [],
      "source": [
        "# n_splits=10\n",
        "# test_size=5\n",
        "\n",
        "# tscv = TimeSeriesSplit(n_splits=n_splits,test_size=test_size)\n",
        "\n",
        "# df = frame_interesting_columns\n",
        "\n",
        "# for train_index, test_index in tscv.split(df):\n",
        "#     train = df.iloc[train_index]\n",
        "#     test = df.iloc[test_index]\n",
        "\n",
        "#     model = VAR(endog=train,freq='D')\n",
        "#     fit = model.fit()\n",
        "#     lag_order = fit.k_ar\n",
        "\n",
        "#     prediction = fit.forecast(train.values[-lag_order:],len(test_index))\n",
        "\n",
        "#     pred_df = pd.DataFrame(prediction,columns=df.columns)\n",
        " \n",
        "#     print('train interval: ' + str(train.index[0]) + ' - ' + str(train.index[-1]))\n",
        "#     print('test interval: ' + str(test.index[0]) + ' - ' + str(test.index[-1]))\n",
        "#     for i in test.columns:\n",
        "#         print('mae value for', i, 'is : ', mean_absolute_error(pred_df[i], test[i]))\n"
      ]
    },
    {
      "cell_type": "markdown",
      "metadata": {
        "id": "lomTEbf-02Sh"
      },
      "source": [
        "# LSTM Univariate\n"
      ]
    },
    {
      "cell_type": "code",
      "execution_count": null,
      "metadata": {
        "id": "kmuC-iA802Sh"
      },
      "outputs": [],
      "source": [
        "column_univariate = 'nuovi_positivi'\n",
        "df = pd.DataFrame(frame_interesting_columns[column_univariate])\n",
        "scaler = MinMaxScaler(feature_range=(-1,1))\n",
        "scaled = scaler.fit_transform(df)"
      ]
    },
    {
      "cell_type": "code",
      "execution_count": null,
      "metadata": {
        "colab": {
          "base_uri": "https://localhost:8080/"
        },
        "id": "PNmMeHi802Si",
        "outputId": "d8b4350d-c22b-47ad-f31b-a3a137d8db35"
      },
      "outputs": [],
      "source": [
        "reframed = series_to_supervised(pd.DataFrame(scaled),14,1)\n",
        "values = reframed.values\n",
        "train = values[:500,:]\n",
        "test = values[500:,:]\n",
        "\n",
        "train_X, train_y = train[:,:-1], train[:,-1]\n",
        "test_X, test_y = test[:,:-1], test[:,-1]\n",
        "\n",
        "train_X = train_X.reshape((train_X.shape[0],train_X.shape[1],1))\n",
        "test_X = test_X.reshape((test_X.shape[0],test_X.shape[1],1))\n",
        "\n",
        "print(train_X.shape,train_y.shape,test_X.shape,test_y.shape)"
      ]
    },
    {
      "cell_type": "code",
      "execution_count": null,
      "metadata": {
        "colab": {
          "base_uri": "https://localhost:8080/",
          "height": 204
        },
        "id": "jT3zJ0xc02St",
        "outputId": "bb35abc8-5dc5-4a84-f457-480ec987837c"
      },
      "outputs": [],
      "source": [
        "reframed.tail()"
      ]
    },
    {
      "cell_type": "code",
      "execution_count": null,
      "metadata": {
        "colab": {
          "base_uri": "https://localhost:8080/",
          "height": 265
        },
        "id": "MlovFcME02Su",
        "outputId": "1fa0d303-62d1-497a-f5b7-e48f5960f0e3"
      },
      "outputs": [],
      "source": [
        "model = Sequential()\n",
        "model.add(LSTM(50, input_shape=(train_X.shape[1],train_X.shape[2])))\n",
        "model.add(Dense(1))\n",
        "model.compile(loss='mae',optimizer='adam')\n",
        "\n",
        "history = model.fit(train_X,train_y,epochs=50,batch_size=72,validation_data=(test_X,test_y),verbose=0,shuffle=False)\n",
        "\n",
        "pyplot.plot(history.history['loss'],label='Training loss')\n",
        "pyplot.plot(history.history['val_loss'],label='Validation loss')\n",
        "pyplot.legend()\n",
        "pyplot.show()"
      ]
    },
    {
      "cell_type": "code",
      "execution_count": null,
      "metadata": {
        "id": "Vtm_RZ0I3qJB"
      },
      "outputs": [],
      "source": [
        "train_prediction = model.predict(train_X)\n",
        "test_prediction = model.predict(test_X)\n",
        "\n",
        "train_prediction = scaler.inverse_transform(train_prediction)\n",
        "test_prediction = scaler.inverse_transform(test_prediction)\n",
        "test_y = scaler.inverse_transform([test_y])"
      ]
    },
    {
      "cell_type": "code",
      "execution_count": null,
      "metadata": {
        "colab": {
          "base_uri": "https://localhost:8080/",
          "height": 299
        },
        "id": "1Vg0p7lYNUY5",
        "outputId": "95d30c16-c37b-4c0d-927b-84eee81e8314"
      },
      "outputs": [],
      "source": [
        "test_y_descaled = test_y[0]\n",
        "print('Test error')\n",
        "print(mean_absolute_error(test_y_descaled,test_prediction))\n",
        "pyplot.plot(pd.DataFrame(test_y_descaled))\n",
        "pyplot.plot(pd.DataFrame(test_prediction))\n",
        "pyplot.show()"
      ]
    },
    {
      "cell_type": "markdown",
      "metadata": {
        "id": "b4ZwyAH-coPq"
      },
      "source": [
        "#Univariate LSTM with TimeseriesGenerator"
      ]
    },
    {
      "cell_type": "code",
      "execution_count": null,
      "metadata": {
        "colab": {
          "base_uri": "https://localhost:8080/"
        },
        "id": "6pfvZjsL2v_l",
        "outputId": "bfa61685-edca-4aac-ebf5-fb1849945700"
      },
      "outputs": [],
      "source": [
        "df = pd.DataFrame(frame_interesting_columns['nuovi_positivi'])\n",
        "\n",
        "values = df['nuovi_positivi'].values\n",
        "values = values.reshape((-1,1))\n",
        "\n",
        "values\n",
        "\n",
        "split_percent = 0.80\n",
        "split = int(split_percent*len(values))\n",
        "\n",
        "look_back = 7\n",
        "\n",
        "train = values[:split]\n",
        "test = values[split:]\n",
        "\n",
        "date_train = df.index[:split]\n",
        "date_test = df.index[split:]\n",
        "date_prediction = df.index[split+look_back:]\n",
        "\n",
        "train_generator = TimeseriesGenerator(train,train,length=look_back,batch_size=20)    \n",
        "test_generator = TimeseriesGenerator(test,test,length=look_back,batch_size=1)\n",
        "\n",
        "model = Sequential()\n",
        "model.add(LSTM(50,activation='relu',input_shape=(look_back,1)))\n",
        "model.add(Dense(1))\n",
        "model.compile(optimizer='adam',loss='mae')\n",
        "\n",
        "num_epochs = 50\n",
        "model.fit(train_generator,epochs=num_epochs,verbose=0)\n"
      ]
    },
    {
      "cell_type": "code",
      "execution_count": null,
      "metadata": {
        "colab": {
          "base_uri": "https://localhost:8080/",
          "height": 576
        },
        "id": "blPJvkMm4jqr",
        "outputId": "a8aed617-d3ad-4845-e846-d743d3342166"
      },
      "outputs": [],
      "source": [
        "prediction = model.predict(test_generator)\n",
        "\n",
        "train = train.reshape((-1))\n",
        "test = test.reshape((-1))\n",
        "prediction = prediction.reshape((-1))\n",
        "\n",
        "trace1 = go.Scatter(\n",
        "    x = date_train,\n",
        "    y = train,\n",
        "    mode = 'lines',\n",
        "    name = 'Data'\n",
        ")\n",
        "trace2 = go.Scatter(\n",
        "    x = date_prediction,\n",
        "    y = prediction,\n",
        "    mode = 'lines',\n",
        "    name = 'Prediction'\n",
        ")\n",
        "trace3 = go.Scatter(\n",
        "    x = date_test,\n",
        "    y = test,\n",
        "    mode='lines',\n",
        "    name = 'Ground Truth'\n",
        ")\n",
        "layout = go.Layout(\n",
        "    title = \"nuovi_positivi\",\n",
        "    xaxis = {'title' : \"Date\"},\n",
        "    yaxis = {'title' : \"nuovi_positivi\"}\n",
        ")\n",
        "\n",
        "fig = go.Figure(data=[trace1,trace2,trace3],layout=layout)\n",
        "fig.show()\n",
        "\n",
        "print('mae:')\n",
        "# first seven steps used for lags to avoid using last 7 steps for \n",
        "# training in order to avoid using traing data for testing\n",
        "print(mean_absolute_error(test[look_back:],prediction))\n"
      ]
    },
    {
      "cell_type": "markdown",
      "metadata": {
        "id": "bgb1Mg4StHbT"
      },
      "source": [
        "# Multivariate LSTM"
      ]
    },
    {
      "cell_type": "code",
      "execution_count": null,
      "metadata": {
        "id": "QHiFkUcG4ZZK"
      },
      "outputs": [],
      "source": [
        "df = pd.DataFrame(frame_interesting_columns.drop('tamponi',axis=1))\n",
        "scaler = MinMaxScaler(feature_range=(0,1))\n",
        "scaled = scaler.fit_transform(df)"
      ]
    },
    {
      "cell_type": "code",
      "execution_count": null,
      "metadata": {
        "colab": {
          "base_uri": "https://localhost:8080/"
        },
        "id": "LImLl3j6N6Q6",
        "outputId": "88247498-a0a9-45cc-87e7-fa833f5ec13a"
      },
      "outputs": [],
      "source": [
        "train_X = []\n",
        "train_y = []\n",
        "\n",
        "n_future = 1\n",
        "n_past = 14\n",
        "\n",
        "dates = df.index\n",
        "\n",
        "df = scaled\n",
        "\n",
        "for i in range(n_past,len(df) - n_future + 1):\n",
        "    train_X.append(df[i - n_past:i, 0:df.shape[1]])\n",
        "    train_y.append(df[i + n_future - 1:i + n_future, \n",
        "    0])\n",
        "\n",
        "train_X, train_y = np.array(train_X), np.array(train_y)\n",
        "\n",
        "print('train_X shape == {}.'.format(train_X.shape))\n",
        "print('train_y shape == {}.'.format(train_y.shape))\n",
        "\n",
        "model = Sequential()\n",
        "model.add(LSTM(64,activation='relu',input_shape=(train_X.shape[1],train_X.shape[2]),return_sequences=True))\n",
        "model.add(LSTM(32,activation='relu',return_sequences=False))\n",
        "model.add(Dropout(0.2))\n",
        "model.add(Dense(train_y.shape[1]))\n",
        "\n",
        "model.compile(optimizer='adam',loss='mse')\n",
        "model.summary()"
      ]
    },
    {
      "cell_type": "code",
      "execution_count": null,
      "metadata": {
        "id": "ldsNBHShOvRo"
      },
      "outputs": [],
      "source": [
        "history = model.fit(train_X,train_y,epochs=20,batch_size=16,validation_split=0.1,verbose=0)\n"
      ]
    },
    {
      "cell_type": "code",
      "execution_count": null,
      "metadata": {
        "colab": {
          "base_uri": "https://localhost:8080/",
          "height": 282
        },
        "id": "USVFl6KjO4Wk",
        "outputId": "e857cb17-2fb8-4ad3-eef2-c2c2ed8c367b"
      },
      "outputs": [],
      "source": [
        "pyplot.plot(history.history['loss'],label='Training loss')\n",
        "pyplot.plot(history.history['val_loss'],label='Validation loss')\n",
        "pyplot.legend()"
      ]
    },
    {
      "cell_type": "code",
      "execution_count": null,
      "metadata": {
        "id": "zvgc6c15sxQe"
      },
      "outputs": [],
      "source": [
        "n_lags = 21\n",
        "n_predictions = 15"
      ]
    },
    {
      "cell_type": "code",
      "execution_count": null,
      "metadata": {
        "id": "c_Z7yQ_hSZZm"
      },
      "outputs": [],
      "source": [
        "prediction = model.predict(train_X[-n_predictions:])"
      ]
    },
    {
      "cell_type": "code",
      "execution_count": null,
      "metadata": {
        "id": "IEIajaoZSeCS"
      },
      "outputs": [],
      "source": [
        "prediction_copies = np.repeat(prediction,df.shape[1],axis=-1)\n",
        "y_pred_future = scaler.inverse_transform(prediction_copies)[:,0]"
      ]
    },
    {
      "cell_type": "code",
      "execution_count": null,
      "metadata": {
        "colab": {
          "base_uri": "https://localhost:8080/"
        },
        "id": "fMLgyDrXS3Yu",
        "outputId": "b42ae18d-ba0e-4a4b-ecaf-b06a9305a6ae"
      },
      "outputs": [],
      "source": [
        "predict_period_dates = pd.date_range(dates[-n_past],periods=n_predictions).tolist()\n",
        "print(predict_period_dates)"
      ]
    },
    {
      "cell_type": "code",
      "execution_count": null,
      "metadata": {
        "id": "LTnK6WnaT1_K"
      },
      "outputs": [],
      "source": [
        "forecast_dates = []\n",
        "for time_i in predict_period_dates:\n",
        "    forecast_dates.append(time_i)"
      ]
    },
    {
      "cell_type": "code",
      "execution_count": null,
      "metadata": {
        "id": "aFtLBVWrT5N0"
      },
      "outputs": [],
      "source": [
        "df_forecast = pd.DataFrame({'Date':np.array(forecast_dates),'Feature':y_pred_future})\n",
        "df_forecast['Date'] = pd.to_datetime(df_forecast['Date'])"
      ]
    },
    {
      "cell_type": "code",
      "execution_count": null,
      "metadata": {
        "id": "0qERYDqUT8Ts"
      },
      "outputs": [],
      "source": [
        "# sns.lineplot(merged['nuovi_positivi'])\n",
        "\n",
        "# sns.lineplot(df_forecast['Feature'])\n",
        "# merged['nuovi_positivi']\n",
        "df_forecast.index = df_forecast['Date']"
      ]
    },
    {
      "cell_type": "code",
      "execution_count": null,
      "metadata": {
        "id": "XdKTDiW1gaP2"
      },
      "outputs": [],
      "source": [
        "df_forecast =  df_forecast.drop('Date',1)"
      ]
    },
    {
      "cell_type": "code",
      "execution_count": null,
      "metadata": {
        "id": "SAwXfwdEhC1W"
      },
      "outputs": [],
      "source": [
        "# sns.lineplot(df_forecast['Feature'])\n",
        "# sns.lineplot(merged['nuovi_positivi'])\n",
        "df_forecast['Feature']\n",
        "df_real = frame_interesting_columns['nuovi_positivi']\n",
        "df_real = pd.DataFrame(df_real[-n_predictions:])"
      ]
    },
    {
      "cell_type": "markdown",
      "metadata": {
        "id": "aq4kerF4cyB3"
      },
      "source": [
        "# Multivariate LSTM with TimeseriesGenerator"
      ]
    },
    {
      "cell_type": "code",
      "execution_count": null,
      "metadata": {
        "id": "FBBd_ev2t9-V"
      },
      "outputs": [],
      "source": [
        "df = pd.DataFrame(frame_interesting_columns.drop('tamponi',axis=1))\n",
        "scaler = MinMaxScaler(feature_range=(0,1))\n",
        "scaled = scaler.fit_transform(df)\n",
        "\n",
        "column_to_predict = 'nuovi_positivi'\n",
        "index_to_predict = df.columns.get_loc(column_to_predict)\n",
        "\n",
        "split_percent = 0.80\n",
        "split = int(split_percent*len(values))\n",
        "\n",
        "look_back = 7\n",
        "\n",
        "# X contains all columns with the last $look_back readings removed\n",
        "# y contains the column to be predicted withouth the first $look_back readings\n",
        "X = scaled[:][:-look_back]\n",
        "y = scaled[:, index_to_predict][look_back:]\n",
        "\n",
        "train_X, test_X, train_y, test_y = train_test_split(X,y,test_size=0.20,random_state=42,shuffle=False)\n"
      ]
    }
  ],
  "metadata": {
    "colab": {
      "name": "covid_forecasting.ipynb",
      "provenance": []
    },
    "interpreter": {
      "hash": "b6e8a8e6cd5b0d8bd2b931e6e2bcfab8fa0bbcead3979137bf827a61abd923e3"
    },
    "kernelspec": {
      "display_name": "Python 3.7.11 64-bit ('tf': conda)",
      "name": "python3"
    },
    "language_info": {
      "codemirror_mode": {
        "name": "ipython",
        "version": 3
      },
      "file_extension": ".py",
      "mimetype": "text/x-python",
      "name": "python",
      "nbconvert_exporter": "python",
      "pygments_lexer": "ipython3",
      "version": "3.7.11"
    },
    "metadata": {
      "interpreter": {
        "hash": "f85c0ae1067a86ad6a96b144378883e79fd1516474b579ba33ee3a7084540002"
      }
    }
  },
  "nbformat": 4,
  "nbformat_minor": 0
}
