{
 "cells": [
  {
   "cell_type": "code",
   "execution_count": null,
   "source": [
    "import pandas as pd\n",
    "import numpy as np\n",
    "from matplotlib import pyplot\n",
    "from sklearn.metrics import mean_absolute_error\n",
    "from sklearn.model_selection import TimeSeriesSplit\n",
    "\n",
    "# fix for 'package not found' when installing in Anaconda environment\n",
    "if 'google.colab' not in str(get_ipython()):\n",
    "    import pip\n",
    "    pip.main(['install', 'xgboost'])\n",
    "\n",
    "if 'google.colab' in str(get_ipython()):\n",
    "  !rm util.py\n",
    "  !wget https://raw.githubusercontent.com/marco-mazzoli/progetto-tesi/master/util.py\n",
    "\n",
    "from xgboost import XGBRegressor\n",
    "from util import select_relevant_rows, select_attributes, read_movement_data, read_multiple_csv,download_updated_mobility_data, download_updated_mobility_data, time_series_cross_validation, train_and_predict, select_time_slot"
   ],
   "outputs": [],
   "metadata": {}
  },
  {
   "cell_type": "code",
   "execution_count": null,
   "source": [
    "local_region_path = r'../COVID-19/dati-regioni/dpc-covid19-ita-regioni.csv'\n",
    "remote_region_path = r'https://raw.githubusercontent.com/pcm-dpc/COVID-19/master/dati-regioni/dpc-covid19-ita-regioni.csv'\n",
    "\n",
    "regions_frame = pd.read_csv(remote_region_path)"
   ],
   "outputs": [],
   "metadata": {}
  },
  {
   "cell_type": "code",
   "execution_count": null,
   "source": [
    "region_focus = 'Emilia-Romagna'\n",
    "attribute_focus = 'denominazione_regione'\n",
    "\n",
    "region_focus_data = select_relevant_rows(\n",
    "    regions_frame,\n",
    "    attribute_focus,\n",
    "    region_focus\n",
    "    )\n",
    "\n",
    "frame_interesting_columns = select_attributes(region_focus_data, [\n",
    "    'data',\n",
    "    'ricoverati_con_sintomi',\n",
    "    'terapia_intensiva',\n",
    "    'totale_ospedalizzati',\n",
    "    'variazione_totale_positivi',\n",
    "    'nuovi_positivi',\n",
    "    'deceduti',\n",
    "    'tamponi',\n",
    "    'ingressi_terapia_intensiva'\n",
    "    ])\n",
    "\n",
    "frame_interesting_columns = pd.DataFrame(frame_interesting_columns)\n",
    "frame_interesting_columns['data'] = pd.to_datetime(frame_interesting_columns['data'])\n",
    "frame_interesting_columns['data'] = frame_interesting_columns['data'].dt.strftime(r'%Y-%m-%d')\n",
    "frame_interesting_columns.rename(columns={'data': 'date'}, inplace=True)"
   ],
   "outputs": [],
   "metadata": {}
  },
  {
   "cell_type": "code",
   "execution_count": null,
   "source": [
    "frame_interesting_columns.set_index('date',inplace=True)\n",
    "frame_interesting_columns.set_index(pd.DatetimeIndex(frame_interesting_columns.index))\n",
    "frame_interesting_columns = frame_interesting_columns.fillna(0)"
   ],
   "outputs": [],
   "metadata": {}
  },
  {
   "cell_type": "code",
   "execution_count": null,
   "source": [
    "from statsmodels.tsa.vector_ar.var_model import VAR\n",
    "\n",
    "n_splits=10\n",
    "test_size=5\n",
    "\n",
    "tscv = TimeSeriesSplit(n_splits=n_splits,test_size=test_size)\n",
    "\n",
    "df = frame_interesting_columns\n",
    "\n",
    "for train_index, test_index in tscv.split(df):\n",
    "    train = df.iloc[train_index]\n",
    "    test = df.iloc[test_index]\n",
    "\n",
    "    model = VAR(endog=train,freq='D')\n",
    "    fit = model.fit()\n",
    "    lag_order = fit.k_ar\n",
    "\n",
    "    prediction = fit.forecast(train.values[-lag_order:],len(test_index))\n",
    "\n",
    "    pred_df = pd.DataFrame(prediction,columns=df.columns)\n",
    " \n",
    "    print('train interval: ' + str(train.index[0]) + ' - ' + str(train.index[-1]))\n",
    "    print('test interval: ' + str(test.index[0]) + ' - ' + str(test.index[-1]))\n",
    "    for i in test.columns:\n",
    "        print('mae value for', i, 'is : ', mean_absolute_error(pred_df[i], test[i]))"
   ],
   "outputs": [],
   "metadata": {}
  }
 ],
 "metadata": {
  "orig_nbformat": 4,
  "language_info": {
   "name": "python",
   "version": "3.8.10",
   "mimetype": "text/x-python",
   "codemirror_mode": {
    "name": "ipython",
    "version": 3
   },
   "pygments_lexer": "ipython3",
   "nbconvert_exporter": "python",
   "file_extension": ".py"
  },
  "kernelspec": {
   "name": "python3",
   "display_name": "Python 3.8.10 64-bit ('tesi': conda)"
  },
  "interpreter": {
   "hash": "ebe05a08e7821c9f0efb0f0e47fa9ad08db0646dbb3d21d4c6e1262e868220c0"
  }
 },
 "nbformat": 4,
 "nbformat_minor": 2
}