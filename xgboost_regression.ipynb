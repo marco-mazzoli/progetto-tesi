{
 "cells": [
  {
   "cell_type": "code",
   "execution_count": null,
   "source": [
    "import pandas as pd\n",
    "import numpy as np\n",
    "from matplotlib import pyplot\n",
    "import seaborn as sns\n",
    "import tensorflow as tf\n",
    "import IPython\n",
    "import IPython.display\n",
    "\n",
    "# fix for 'package not found' when installing in Anaconda environment\n",
    "if 'google.colab' not in str(get_ipython()):\n",
    "    import pip\n",
    "    pip.main(['install', 'xgboost'])\n",
    "\n",
    "if 'google.colab' in str(get_ipython()):\n",
    "  !rm util.py\n",
    "  !wget https://raw.githubusercontent.com/marco-mazzoli/progetto-tesi/master/util.py\n",
    "  !wget https://raw.githubusercontent.com/marco-mazzoli/progetto-tesi/master/window.py\n",
    "\n",
    "from xgboost import XGBRegressor\n",
    "from util import select_relevant_rows, select_attributes, read_movement_data,download_updated_mobility_data, download_updated_mobility_data, series_to_supervised\n",
    "from windows import WindowGenerator\n",
    "from models import MultiStepLastBaseline"
   ],
   "outputs": [],
   "metadata": {}
  },
  {
   "cell_type": "code",
   "execution_count": null,
   "source": [
    "local_region_path = r'../COVID-19/dati-regioni/dpc-covid19-ita-regioni.csv'\n",
    "remote_region_path = r'https://raw.githubusercontent.com/pcm-dpc/COVID-19/master/dati-regioni/dpc-covid19-ita-regioni.csv'\n",
    "\n",
    "regions_frame = pd.read_csv(remote_region_path)"
   ],
   "outputs": [],
   "metadata": {}
  },
  {
   "cell_type": "code",
   "execution_count": null,
   "source": [
    "region_focus = 'Emilia-Romagna'\n",
    "attribute_focus = 'denominazione_regione'\n",
    "\n",
    "region_focus_data = select_relevant_rows(\n",
    "    regions_frame,\n",
    "    attribute_focus,\n",
    "    region_focus\n",
    "    )"
   ],
   "outputs": [],
   "metadata": {}
  },
  {
   "cell_type": "code",
   "execution_count": null,
   "source": [
    "frame_interesting_columns = select_attributes(region_focus_data, [\n",
    "    'data',\n",
    "    'ricoverati_con_sintomi',\n",
    "    'terapia_intensiva',\n",
    "    'totale_ospedalizzati',\n",
    "    'variazione_totale_positivi',\n",
    "    'nuovi_positivi',\n",
    "    'deceduti',\n",
    "    'tamponi',\n",
    "    'ingressi_terapia_intensiva'\n",
    "    ])"
   ],
   "outputs": [],
   "metadata": {}
  },
  {
   "cell_type": "code",
   "execution_count": null,
   "source": [
    "frame_interesting_columns.head()"
   ],
   "outputs": [],
   "metadata": {}
  },
  {
   "cell_type": "code",
   "execution_count": null,
   "source": [
    "frame_interesting_columns = pd.DataFrame(frame_interesting_columns)\n",
    "frame_interesting_columns['data'] = pd.to_datetime(frame_interesting_columns['data'])\n",
    "frame_interesting_columns['data'] = frame_interesting_columns['data'].dt.strftime(r'%Y-%m-%d')\n",
    "frame_interesting_columns = frame_interesting_columns.fillna(0)\n"
   ],
   "outputs": [],
   "metadata": {}
  },
  {
   "cell_type": "code",
   "execution_count": null,
   "source": [
    "mobility_data_url = r'https://www.gstatic.com/covid19/mobility/Global_Mobility_Report.csv'\n",
    "file_path = r'../Global_Mobility_Report.csv'\n",
    "mobility_data_zip_url = r'https://www.gstatic.com/covid19/mobility/Region_Mobility_Report_CSVs.zip'\n",
    "zip_path = r'../Region_Mobility_Report_CSVs.zip'\n",
    "region_mobility_path = r'../Region_Mobility_Report_CSVs'\n",
    "\n",
    "download_updated_mobility_data(\n",
    "    mobility_data_url,\n",
    "    file_path,\n",
    "    region_mobility_path,\n",
    "    mobility_data_zip_url,\n",
    "    zip_path\n",
    "    )\n",
    "\n",
    "mobility_df = read_movement_data(\n",
    "    region_mobility_path,\n",
    "    'IT_Region_Mobility_Report',\n",
    "    region='Emilia-Romagna'\n",
    "    )"
   ],
   "outputs": [],
   "metadata": {}
  },
  {
   "cell_type": "code",
   "execution_count": null,
   "source": [
    "mobility_df = mobility_df[['date',\n",
    "            'retail_and_recreation_percent_change_from_baseline',\n",
    "            'grocery_and_pharmacy_percent_change_from_baseline',\n",
    "            'parks_percent_change_from_baseline',\n",
    "            'transit_stations_percent_change_from_baseline',\n",
    "            'workplaces_percent_change_from_baseline',\n",
    "            'residential_percent_change_from_baseline']].fillna(0)"
   ],
   "outputs": [],
   "metadata": {}
  },
  {
   "cell_type": "code",
   "execution_count": null,
   "source": [
    "frame_interesting_columns.rename(columns={'data': 'date'}, inplace=True)\n",
    "frame_interesting_columns.set_index('date',inplace=True)\n",
    "mobility_df.set_index('date',inplace=True)\n",
    "merged = pd.merge(\n",
    "    frame_interesting_columns,\n",
    "    mobility_df,\n",
    "    on='date'\n",
    "    )\n",
    "merged = merged.fillna(0)\n",
    "merged.set_index(pd.DatetimeIndex(merged.index))"
   ],
   "outputs": [],
   "metadata": {}
  },
  {
   "cell_type": "code",
   "execution_count": null,
   "source": [
    "fig, axes = pyplot.subplots(nrows=4,ncols=2,figsize=(10,8))\n",
    "for i, ax in enumerate(axes.flatten()):\n",
    "    data = np.array(frame_interesting_columns[frame_interesting_columns.columns[i]])\n",
    "    ax.plot(pd.DataFrame(data))\n",
    "    ax.set_title(frame_interesting_columns.columns[i])\n",
    "    ax.plot()\n",
    "\n",
    "pyplot.tight_layout()\n"
   ],
   "outputs": [],
   "metadata": {}
  },
  {
   "cell_type": "code",
   "execution_count": null,
   "source": [
    "fig, axes = pyplot.subplots(nrows=3,ncols=2,figsize=(10,8))\n",
    "for i, ax in enumerate(axes.flatten()):\n",
    "    data = np.array(mobility_df[mobility_df.columns[i]])\n",
    "    ax.plot(pd.DataFrame(data))\n",
    "    ax.set_title(mobility_df.columns[i])\n",
    "    ax.plot()\n",
    "\n",
    "pyplot.tight_layout()\n"
   ],
   "outputs": [],
   "metadata": {}
  },
  {
   "cell_type": "code",
   "execution_count": null,
   "source": [
    "df = merged\n",
    "n = len(merged)\n",
    "train_df = df[0:int(n*0.7)]\n",
    "val_df = df[int(n*0.7):int(n*0.9)]\n",
    "test_df = df[int(n*0.9):]\n",
    "\n",
    "num_features = df.shape[1]"
   ],
   "outputs": [],
   "metadata": {}
  },
  {
   "cell_type": "code",
   "execution_count": null,
   "source": [
    "window = WindowGenerator(input_width=24,\n",
    "                        label_width=1,shift=1,\n",
    "                        label_columns=['nuovi_positivi'],\n",
    "                        train_df=train_df,\n",
    "                        val_df=val_df,\n",
    "                        test_df=test_df)"
   ],
   "outputs": [],
   "metadata": {}
  },
  {
   "cell_type": "code",
   "execution_count": null,
   "source": [
    "example_window = tf.stack([np.array(train_df[:window.total_window_size]),\n",
    "                           np.array(train_df[100:100+window.total_window_size]),\n",
    "                           np.array(train_df[200:200+window.total_window_size])])\n",
    "\n",
    "\n",
    "example_inputs, example_labels = window.split_window(example_window)\n",
    "\n",
    "print('All shapes are: (batch, time, features)')\n",
    "print(f'Window shape: {example_window.shape}')\n",
    "print(f'Inputs shape: {example_inputs.shape}')\n",
    "print(f'labels shape: {example_labels.shape}')"
   ],
   "outputs": [],
   "metadata": {}
  },
  {
   "cell_type": "code",
   "execution_count": null,
   "source": [
    "window.plot('nuovi_positivi')"
   ],
   "outputs": [],
   "metadata": {}
  },
  {
   "cell_type": "code",
   "execution_count": null,
   "source": [
    "def compile_and_fit(model, window, patience=2):\n",
    "  early_stopping = tf.keras.callbacks.EarlyStopping(monitor='val_loss',\n",
    "                                                    patience=patience,\n",
    "                                                    mode='min')\n",
    "\n",
    "  model.compile(loss=tf.losses.MeanSquaredError(),\n",
    "                optimizer=tf.optimizers.Adam(),\n",
    "                metrics=[tf.metrics.MeanAbsoluteError()])\n",
    "\n",
    "  history = model.fit(window.train, epochs=MAX_EPOCHS,\n",
    "                      validation_data=window.val,\n",
    "                      callbacks=[early_stopping])\n",
    "  return history\n"
   ],
   "outputs": [],
   "metadata": {}
  },
  {
   "cell_type": "code",
   "execution_count": null,
   "source": [
    "OUT_STEPS = 24\n",
    "multi_window = WindowGenerator(\n",
    "    train_df=train_df,test_df=test_df,val_df=val_df,\n",
    "    input_width=24,label_width=OUT_STEPS,shift=OUT_STEPS)\n",
    "\n",
    "multi_window.plot(plot_col='nuovi_positivi')\n",
    "multi_window"
   ],
   "outputs": [],
   "metadata": {}
  },
  {
   "cell_type": "code",
   "execution_count": null,
   "source": [
    "class MultiStepLastBaseline(tf.keras.Model):\n",
    "  def call(self, inputs):\n",
    "    return tf.tile(inputs[:, -1:, :], [1, OUT_STEPS, 1])\n",
    "\n",
    "last_baseline = MultiStepLastBaseline()\n",
    "last_baseline.compile(loss=tf.losses.MeanSquaredError(),\n",
    "                      metrics=[tf.metrics.MeanAbsoluteError()])\n",
    "\n",
    "multi_val_performance = {}\n",
    "multi_performance = {}\n",
    "\n",
    "multi_val_performance['Last'] = last_baseline.evaluate(multi_window.val)\n",
    "multi_performance['Last'] = last_baseline.evaluate(multi_window.test, verbose=0)\n",
    "multi_window.plot(plot_col='nuovi_positivi',model=last_baseline)"
   ],
   "outputs": [],
   "metadata": {}
  },
  {
   "cell_type": "code",
   "execution_count": null,
   "source": [
    "multi_lstm_model = tf.keras.Sequential([\n",
    "    # Shape [batch, time, features] => [batch, lstm_units]\n",
    "    # Adding more `lstm_units` just overfits more quickly.\n",
    "    tf.keras.layers.LSTM(32, return_sequences=False),\n",
    "    # Shape => [batch, out_steps*features]\n",
    "    tf.keras.layers.Dense(OUT_STEPS*num_features,\n",
    "                          kernel_initializer=tf.initializers.zeros()),\n",
    "    # Shape => [batch, out_steps, features]\n",
    "    tf.keras.layers.Reshape([OUT_STEPS, num_features])\n",
    "])\n",
    "\n",
    "history = compile_and_fit(multi_lstm_model, multi_window)\n",
    "\n",
    "IPython.display.clear_output()\n",
    "\n",
    "multi_val_performance['LSTM'] = multi_lstm_model.evaluate(multi_window.val)\n",
    "multi_performance['LSTM'] = multi_lstm_model.evaluate(multi_window.test, verbose=0)\n",
    "multi_window.plot(plot_col='nuovi_positivi',model=multi_lstm_model)"
   ],
   "outputs": [],
   "metadata": {}
  }
 ],
 "metadata": {
  "kernelspec": {
   "name": "python3",
   "display_name": "Python 3.7.10 64-bit ('tf': conda)"
  },
  "language_info": {
   "name": "python",
   "version": "3.7.10",
   "mimetype": "text/x-python",
   "codemirror_mode": {
    "name": "ipython",
    "version": 3
   },
   "pygments_lexer": "ipython3",
   "nbconvert_exporter": "python",
   "file_extension": ".py"
  },
  "metadata": {
   "interpreter": {
    "hash": "f85c0ae1067a86ad6a96b144378883e79fd1516474b579ba33ee3a7084540002"
   }
  },
  "interpreter": {
   "hash": "1c7e388e2ed574d750f7b34bb7f79b568612e5c2dbb821bdb25fb5e93abee03f"
  }
 },
 "nbformat": 4,
 "nbformat_minor": 4
}