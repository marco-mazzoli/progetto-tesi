{
 "cells": [
  {
   "cell_type": "code",
   "execution_count": null,
   "source": [
    "import pandas as pd\n",
    "import numpy as np\n",
    "from matplotlib import pyplot\n",
    "from sklearn.metrics import mean_absolute_error\n",
    "from sklearn.model_selection import TimeSeriesSplit\n",
    "\n",
    "# fix for 'package not found' when installing in Anaconda environment\n",
    "if 'google.colab' not in str(get_ipython()):\n",
    "    import pip\n",
    "    pip.main(['install', 'xgboost'])\n",
    "\n",
    "if 'google.colab' in str(get_ipython()):\n",
    "  !rm util.py\n",
    "  !wget https://raw.githubusercontent.com/marco-mazzoli/progetto-tesi/master/util.py\n",
    "\n",
    "from xgboost import XGBRegressor\n",
    "from util import select_relevant_rows, select_attributes, read_movement_data, read_multiple_csv,download_updated_mobility_data, download_updated_mobility_data, time_series_cross_validation, train_and_predict, select_time_slot, series_to_supervised"
   ],
   "outputs": [],
   "metadata": {}
  },
  {
   "cell_type": "code",
   "execution_count": null,
   "source": [
    "local_region_path = r'../COVID-19/dati-regioni/dpc-covid19-ita-regioni.csv'\n",
    "remote_region_path = r'https://raw.githubusercontent.com/pcm-dpc/COVID-19/master/dati-regioni/dpc-covid19-ita-regioni.csv'\n",
    "\n",
    "regions_frame = pd.read_csv(remote_region_path)"
   ],
   "outputs": [],
   "metadata": {}
  },
  {
   "cell_type": "code",
   "execution_count": null,
   "source": [
    "region_focus = 'Emilia-Romagna'\n",
    "attribute_focus = 'denominazione_regione'\n",
    "\n",
    "region_focus_data = select_relevant_rows(\n",
    "    regions_frame,\n",
    "    attribute_focus,\n",
    "    region_focus\n",
    "    )"
   ],
   "outputs": [],
   "metadata": {}
  },
  {
   "cell_type": "code",
   "execution_count": null,
   "source": [
    "frame_interesting_columns = select_attributes(region_focus_data, [\n",
    "    'data',\n",
    "    'ricoverati_con_sintomi',\n",
    "    'terapia_intensiva',\n",
    "    'totale_ospedalizzati',\n",
    "    'variazione_totale_positivi',\n",
    "    'nuovi_positivi',\n",
    "    'deceduti',\n",
    "    'tamponi',\n",
    "    'ingressi_terapia_intensiva'\n",
    "    ])"
   ],
   "outputs": [],
   "metadata": {}
  },
  {
   "cell_type": "code",
   "execution_count": null,
   "source": [
    "frame_interesting_columns.head()"
   ],
   "outputs": [],
   "metadata": {}
  },
  {
   "cell_type": "code",
   "execution_count": null,
   "source": [
    "frame_interesting_columns = pd.DataFrame(frame_interesting_columns)\n",
    "frame_interesting_columns['data'] = pd.to_datetime(frame_interesting_columns['data'])\n",
    "frame_interesting_columns['data'] = frame_interesting_columns['data'].dt.strftime(r'%Y-%m-%d')\n",
    "frame_interesting_columns = frame_interesting_columns.fillna(0)\n"
   ],
   "outputs": [],
   "metadata": {}
  },
  {
   "cell_type": "code",
   "execution_count": null,
   "source": [
    "mobility_data_url = r'https://www.gstatic.com/covid19/mobility/Global_Mobility_Report.csv'\n",
    "file_path = r'../Global_Mobility_Report.csv'\n",
    "mobility_data_zip_url = r'https://www.gstatic.com/covid19/mobility/Region_Mobility_Report_CSVs.zip'\n",
    "zip_path = r'../Region_Mobility_Report_CSVs.zip'\n",
    "region_mobility_path = r'../Region_Mobility_Report_CSVs'\n",
    "\n",
    "download_updated_mobility_data(\n",
    "    mobility_data_url,\n",
    "    file_path,\n",
    "    region_mobility_path,\n",
    "    mobility_data_zip_url,\n",
    "    zip_path\n",
    "    )\n",
    "\n",
    "mobility_df = read_movement_data(\n",
    "    region_mobility_path,\n",
    "    'IT_Region_Mobility_Report',\n",
    "    region='Emilia-Romagna'\n",
    "    )"
   ],
   "outputs": [],
   "metadata": {}
  },
  {
   "cell_type": "code",
   "execution_count": null,
   "source": [
    "mobility_df = mobility_df[['date',\n",
    "            'retail_and_recreation_percent_change_from_baseline',\n",
    "            'grocery_and_pharmacy_percent_change_from_baseline',\n",
    "            'parks_percent_change_from_baseline',\n",
    "            'transit_stations_percent_change_from_baseline',\n",
    "            'workplaces_percent_change_from_baseline',\n",
    "            'residential_percent_change_from_baseline']].fillna(0)"
   ],
   "outputs": [],
   "metadata": {}
  },
  {
   "cell_type": "code",
   "execution_count": null,
   "source": [
    "frame_interesting_columns.rename(columns={'data': 'date'}, inplace=True)\n",
    "frame_interesting_columns.set_index('date',inplace=True)\n",
    "mobility_df.set_index('date',inplace=True)\n",
    "merged = pd.merge(\n",
    "    frame_interesting_columns,\n",
    "    mobility_df,\n",
    "    on='date'\n",
    "    )\n",
    "merged = merged.fillna(0)\n",
    "merged.set_index(pd.DatetimeIndex(merged.index))"
   ],
   "outputs": [],
   "metadata": {}
  },
  {
   "cell_type": "code",
   "execution_count": null,
   "source": [
    "fig, axes = pyplot.subplots(nrows=4,ncols=2,figsize=(10,8))\n",
    "for i, ax in enumerate(axes.flatten()):\n",
    "    data = np.array(frame_interesting_columns[frame_interesting_columns.columns[i]])\n",
    "    ax.plot(pd.DataFrame(data))\n",
    "    ax.set_title(frame_interesting_columns.columns[i])\n",
    "    ax.plot()\n",
    "\n",
    "pyplot.tight_layout()\n"
   ],
   "outputs": [],
   "metadata": {}
  },
  {
   "cell_type": "code",
   "execution_count": null,
   "source": [
    "fig, axes = pyplot.subplots(nrows=3,ncols=2,figsize=(10,8))\n",
    "for i, ax in enumerate(axes.flatten()):\n",
    "    data = np.array(mobility_df[mobility_df.columns[i]])\n",
    "    ax.plot(pd.DataFrame(data))\n",
    "    ax.set_title(mobility_df.columns[i])\n",
    "    ax.plot()\n",
    "\n",
    "pyplot.tight_layout()\n"
   ],
   "outputs": [],
   "metadata": {}
  },
  {
   "cell_type": "code",
   "execution_count": null,
   "source": [
    "def series_to_supervised(data,n_in=1,n_out=1,dropnan=True):\n",
    "    n_vars = 1 if type(data) is list else data.shape[1]\n",
    "    df = pd.DataFrame(data)\n",
    "    cols, names = list(), list()\n",
    "    for i in range(n_in, 0, -1):\n",
    "        cols.append(df.shift(i))\n",
    "        names += [(data.columns[j] + '(t-%d)' % i) for j in range(n_vars)]\n",
    "    for i in range(0, n_out):\n",
    "        cols.append(df.shift(-i))\n",
    "        if i == 0:\n",
    "            names += [(data.columns[j] + '(t)') for j in range(n_vars)]\n",
    "        else:\n",
    "            names += [(data.columns[j] + '(t+%d)' % i) for j in range(n_vars)]\n",
    "    agg = pd.concat(cols, axis=1)\n",
    "    agg.columns = names\n",
    "    if dropnan:\n",
    "        agg.dropna(inplace=True)\n",
    "    return agg\n",
    "\n",
    "reframed = series_to_supervised(merged, 15, 5)\n",
    "\n",
    "reframed.head()"
   ],
   "outputs": [],
   "metadata": {}
  }
 ],
 "metadata": {
  "kernelspec": {
   "name": "python3",
   "display_name": "Python 3.8.10 64-bit ('tesi': conda)"
  },
  "language_info": {
   "name": "python",
   "version": "3.8.10",
   "mimetype": "text/x-python",
   "codemirror_mode": {
    "name": "ipython",
    "version": 3
   },
   "pygments_lexer": "ipython3",
   "nbconvert_exporter": "python",
   "file_extension": ".py"
  },
  "metadata": {
   "interpreter": {
    "hash": "f85c0ae1067a86ad6a96b144378883e79fd1516474b579ba33ee3a7084540002"
   }
  },
  "interpreter": {
   "hash": "ebe05a08e7821c9f0efb0f0e47fa9ad08db0646dbb3d21d4c6e1262e868220c0"
  }
 },
 "nbformat": 4,
 "nbformat_minor": 4
}