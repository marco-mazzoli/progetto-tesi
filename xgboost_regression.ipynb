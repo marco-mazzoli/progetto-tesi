{
 "cells": [
  {
   "cell_type": "code",
   "execution_count": null,
   "source": [
    "import pandas as pd\n",
    "import numpy as np\n",
    "from matplotlib import pyplot\n",
    "from sklearn.metrics import mean_absolute_error\n",
    "from sklearn.model_selection import TimeSeriesSplit\n",
    "\n",
    "# fix for 'package not found' when installing in Anaconda environment\n",
    "if 'google.colab' not in str(get_ipython()):\n",
    "    import pip\n",
    "    pip.main(['install', 'xgboost'])\n",
    "\n",
    "if 'google.colab' in str(get_ipython()):\n",
    "  !rm util.py\n",
    "  !wget https://raw.githubusercontent.com/marco-mazzoli/progetto-tesi/master/util.py\n",
    "\n",
    "from xgboost import XGBRegressor\n",
    "from util import select_relevant_rows, select_attributes, read_movement_data, read_multiple_csv,download_updated_mobility_data, download_updated_mobility_data, time_series_cross_validation, train_and_predict, select_time_slot"
   ],
   "outputs": [],
   "metadata": {}
  },
  {
   "cell_type": "code",
   "execution_count": null,
   "source": [
    "local_region_path = r'../COVID-19/dati-regioni/dpc-covid19-ita-regioni.csv'\n",
    "remote_region_path = r'https://raw.githubusercontent.com/pcm-dpc/COVID-19/master/dati-regioni/dpc-covid19-ita-regioni.csv'\n",
    "\n",
    "regions_frame = pd.read_csv(remote_region_path)"
   ],
   "outputs": [],
   "metadata": {}
  },
  {
   "cell_type": "code",
   "execution_count": null,
   "source": [
    "region_focus = 'Emilia-Romagna'\n",
    "attribute_focus = 'denominazione_regione'\n",
    "\n",
    "region_focus_data = select_relevant_rows(\n",
    "    regions_frame,\n",
    "    attribute_focus,\n",
    "    region_focus\n",
    "    )"
   ],
   "outputs": [],
   "metadata": {}
  },
  {
   "cell_type": "code",
   "execution_count": null,
   "source": [
    "frame_interesting_columns = select_attributes(region_focus_data, [\n",
    "    'data',\n",
    "    'ricoverati_con_sintomi',\n",
    "    'terapia_intensiva',\n",
    "    'totale_ospedalizzati',\n",
    "    'variazione_totale_positivi',\n",
    "    'nuovi_positivi',\n",
    "    'deceduti',\n",
    "    'tamponi',\n",
    "    'ingressi_terapia_intensiva'\n",
    "    ])"
   ],
   "outputs": [],
   "metadata": {}
  },
  {
   "cell_type": "code",
   "execution_count": null,
   "source": [
    "frame_interesting_columns.head()"
   ],
   "outputs": [],
   "metadata": {}
  },
  {
   "cell_type": "code",
   "execution_count": null,
   "source": [
    "frame_interesting_columns = pd.DataFrame(frame_interesting_columns)\n",
    "frame_interesting_columns['data'] = pd.to_datetime(frame_interesting_columns['data'])\n",
    "frame_interesting_columns['data'] = frame_interesting_columns['data'].dt.strftime(r'%Y-%m-%d')\n",
    "frame_interesting_columns = frame_interesting_columns.fillna(0)\n"
   ],
   "outputs": [],
   "metadata": {}
  },
  {
   "cell_type": "code",
   "execution_count": null,
   "source": [
    "mobility_data_url = r'https://www.gstatic.com/covid19/mobility/Global_Mobility_Report.csv'\n",
    "file_path = r'../Global_Mobility_Report.csv'\n",
    "mobility_data_zip_url = r'https://www.gstatic.com/covid19/mobility/Region_Mobility_Report_CSVs.zip'\n",
    "zip_path = r'../Region_Mobility_Report_CSVs.zip'\n",
    "region_mobility_path = r'../Region_Mobility_Report_CSVs'\n",
    "\n",
    "download_updated_mobility_data(\n",
    "    mobility_data_url,\n",
    "    file_path,\n",
    "    region_mobility_path,\n",
    "    mobility_data_zip_url,\n",
    "    zip_path\n",
    "    )\n",
    "\n",
    "mobility_df = read_movement_data(\n",
    "    region_mobility_path,\n",
    "    'IT_Region_Mobility_Report',\n",
    "    region='Emilia-Romagna'\n",
    "    )"
   ],
   "outputs": [],
   "metadata": {}
  },
  {
   "cell_type": "code",
   "execution_count": null,
   "source": [
    "mobility_df = mobility_df[['date',\n",
    "            'retail_and_recreation_percent_change_from_baseline',\n",
    "            'grocery_and_pharmacy_percent_change_from_baseline',\n",
    "            'parks_percent_change_from_baseline',\n",
    "            'transit_stations_percent_change_from_baseline',\n",
    "            'workplaces_percent_change_from_baseline',\n",
    "            'residential_percent_change_from_baseline']].fillna(0)"
   ],
   "outputs": [],
   "metadata": {}
  },
  {
   "cell_type": "code",
   "execution_count": null,
   "source": [
    "frame_interesting_columns.rename(columns={'data': 'date'}, inplace=True)\n",
    "frame_interesting_columns.set_index('date',inplace=True)\n",
    "mobility_df.set_index('date',inplace=True)\n",
    "merged = pd.merge(\n",
    "    frame_interesting_columns,\n",
    "    mobility_df,\n",
    "    on='date'\n",
    "    )\n",
    "merged = merged.fillna(0)"
   ],
   "outputs": [],
   "metadata": {}
  },
  {
   "cell_type": "code",
   "execution_count": null,
   "source": [
    "fig, axes = pyplot.subplots(nrows=4,ncols=2,figsize=(10,8))\n",
    "for i, ax in enumerate(axes.flatten()):\n",
    "    data = np.array(frame_interesting_columns[frame_interesting_columns.columns[i]])\n",
    "    ax.plot(pd.DataFrame(data))\n",
    "    ax.set_title(frame_interesting_columns.columns[i])\n",
    "    ax.plot()\n",
    "\n",
    "pyplot.tight_layout()\n"
   ],
   "outputs": [],
   "metadata": {}
  },
  {
   "cell_type": "code",
   "execution_count": null,
   "source": [
    "fig, axes = pyplot.subplots(nrows=3,ncols=2,figsize=(10,8))\n",
    "for i, ax in enumerate(axes.flatten()):\n",
    "    data = np.array(mobility_df[mobility_df.columns[i]])\n",
    "    ax.plot(pd.DataFrame(data))\n",
    "    ax.set_title(mobility_df.columns[i])\n",
    "    ax.plot()\n",
    "\n",
    "pyplot.tight_layout()\n"
   ],
   "outputs": [],
   "metadata": {}
  },
  {
   "cell_type": "code",
   "execution_count": null,
   "source": [
    "# try with mobility data\n",
    "column_to_predict = 'nuovi_positivi'\n",
    "\n",
    "n_days = 500\n",
    "n_predictions = 15\n",
    "\n",
    "y_pred, y_test = train_and_predict(\n",
    "    merged,\n",
    "    column_to_predict,\n",
    "    n_days,\n",
    "    n_predictions\n",
    "    )"
   ],
   "outputs": [],
   "metadata": {}
  },
  {
   "cell_type": "code",
   "execution_count": null,
   "source": [
    "print('MAE: ', mean_absolute_error(y_test, y_pred))\n",
    "pyplot.set_loglevel('WARNING')\n",
    "pyplot.plot(y_test.values,label='real')\n",
    "pyplot.plot(y_pred,label='predicted')\n",
    "pyplot.ylabel(column_to_predict)\n",
    "pyplot.xticks(rotation=30)       \n",
    "pyplot.legend(loc='best')\n",
    "pyplot.show()"
   ],
   "outputs": [],
   "metadata": {}
  },
  {
   "cell_type": "code",
   "execution_count": null,
   "source": [
    "max_window_prediction = 10\n",
    "\n",
    "result_with_mobility = time_series_cross_validation(\n",
    "    merged,\n",
    "    column_to_predict,\n",
    "    max_window_prediction\n",
    "    )\n",
    "result_without_mobility = time_series_cross_validation(\n",
    "    frame_interesting_columns,\n",
    "    column_to_predict,\n",
    "    max_window_prediction\n",
    "    )\n",
    "\n",
    "pyplot.plot(result_with_mobility['mae'],label='mobility')\n",
    "pyplot.plot(result_without_mobility['mae'],label='no mobility')\n",
    "pyplot.legend(loc='best')\n",
    "pyplot.show()"
   ],
   "outputs": [],
   "metadata": {}
  },
  {
   "cell_type": "code",
   "execution_count": null,
   "source": [
    "df_diff_mobility = merged.diff().dropna()\n",
    "df_diff_no_mobility = frame_interesting_columns.diff().dropna()\n",
    "\n",
    "max_window_prediction = 10\n",
    "\n",
    "result_with_mobility = time_series_cross_validation(\n",
    "    df_diff_mobility,\n",
    "    column_to_predict,\n",
    "    max_window_prediction\n",
    "    )\n",
    "    \n",
    "result_without_mobility = time_series_cross_validation(\n",
    "    df_diff_no_mobility,\n",
    "    column_to_predict,\n",
    "    max_window_prediction\n",
    "    )\n",
    "\n",
    "pyplot.plot(result_with_mobility['mae'],label='mobility')\n",
    "pyplot.plot(result_without_mobility['mae'],label='no mobility')\n",
    "pyplot.legend(loc='best')\n",
    "pyplot.show()"
   ],
   "outputs": [],
   "metadata": {}
  },
  {
   "cell_type": "code",
   "execution_count": null,
   "source": [
    "n_days = 300\n",
    "n_predictions = 15\n",
    "\n",
    "y_pred, y_test = train_and_predict(\n",
    "    df_diff_mobility,\n",
    "    column_to_predict,\n",
    "    n_days,\n",
    "    n_predictions\n",
    "    )\n",
    "\n",
    "y_pred = y_pred.cumsum()\n",
    "y_test = y_test.cumsum()\n",
    "\n",
    "print('MAE: ', mean_absolute_error(y_test, y_pred))\n",
    "pyplot.set_loglevel('WARNING')\n",
    "pyplot.plot(y_test.values,label='real')\n",
    "pyplot.plot(y_pred,label='predicted')\n",
    "pyplot.ylabel(column_to_predict)\n",
    "pyplot.xticks(rotation=30)\n",
    "pyplot.legend(loc='best')\n",
    "pyplot.show()"
   ],
   "outputs": [],
   "metadata": {}
  },
  {
   "cell_type": "code",
   "execution_count": null,
   "source": [
    "df_date_index = frame_interesting_columns\n",
    "df_date_index.index = pd.to_datetime(df_date_index.index)\n",
    "\n",
    "def generate_intances(dataframe,days):\n",
    "    freq = '%iD' % days\n",
    "    result = dataframe.groupby(pd.Grouper(level='date',freq=freq)).mean()\n",
    "    return result\n",
    "\n",
    "instances = generate_intances(df_date_index,days=7)\n",
    "\n",
    "n_days = 300\n",
    "n_predictions = 15\n",
    "\n",
    "y_pred, y_test = train_and_predict(\n",
    "    instances,\n",
    "    column_to_predict,\n",
    "    n_days,\n",
    "    n_predictions\n",
    "    )\n",
    "\n",
    "print('MAE: ', mean_absolute_error(y_test, y_pred))\n",
    "pyplot.plot(y_test,label='real')\n",
    "pyplot.plot(y_pred,label='predicted')\n",
    "pyplot.ylabel(column_to_predict)\n",
    "pyplot.xticks(rotation=30)\n",
    "pyplot.legend(loc='best')\n",
    "\n",
    "pyplot.show()\n"
   ],
   "outputs": [],
   "metadata": {}
  },
  {
   "cell_type": "code",
   "execution_count": null,
   "source": [
    "X = merged.drop([column_to_predict],axis=1)\n",
    "y = merged[column_to_predict]\n",
    "\n",
    "tscv = TimeSeriesSplit(n_splits=10,test_size=10)\n",
    "\n",
    "for train_index, test_index in tscv.split(X):\n",
    "    X_train, X_test = X.iloc[train_index], X.iloc[test_index]\n",
    "    y_train, y_test = y[train_index], y[test_index]\n",
    "\n",
    "    regressor = XGBRegressor(\n",
    "        objective='reg:squarederror',\n",
    "        n_estimators=1000\n",
    "        )\n",
    "\n",
    "    regressor.fit(X_train, y_train)\n",
    "    y_pred = regressor.predict(X_test)\n",
    "    y_pred = pd.DataFrame(y_pred).set_index(y_test.index)\n",
    "\n",
    "    print('MAE: ', mean_absolute_error(y_test, y_pred))\n",
    "    print('train interval: ' + str(X_train.index[0]) + ' - ' + str(X_train.index[-1]))\n",
    "    print('test interval: ' + str(X_test.index[0]) + ' - ' + str(X_test.index[-1]))\n",
    "    pyplot.title('predictions')\n",
    "    pyplot.plot(y_test,label='real')\n",
    "    pyplot.plot(y_pred,label='predicted')\n",
    "    pyplot.ylabel(column_to_predict)\n",
    "    pyplot.xticks(rotation=30)\n",
    "    pyplot.legend(loc='best')\n",
    "    pyplot.show()"
   ],
   "outputs": [],
   "metadata": {}
  },
  {
   "cell_type": "code",
   "execution_count": null,
   "source": [
    "X = df_diff_mobility.drop([column_to_predict],axis=1)\n",
    "y = df_diff_mobility[column_to_predict]\n",
    "\n",
    "n_splits=10\n",
    "test_size=10\n",
    "\n",
    "tscv = TimeSeriesSplit(n_splits=n_splits,test_size=test_size)\n",
    "\n",
    "result = 0\n",
    "\n",
    "for train_index, test_index in tscv.split(X):\n",
    "    X_train, X_test = X.iloc[train_index], X.iloc[test_index]\n",
    "    y_train, y_test = y[train_index], y[test_index]\n",
    "\n",
    "    regressor = XGBRegressor(\n",
    "        objective='reg:squarederror',\n",
    "        n_estimators=1000\n",
    "        )\n",
    "\n",
    "    regressor.fit(X_train, y_train)\n",
    "    y_pred = regressor.predict(X_test)\n",
    "    y_pred = pd.DataFrame(y_pred,columns=[column_to_predict]).set_index(y_test.index)\n",
    "\n",
    "    y_train = pd.DataFrame(y_train)\n",
    "    y_pred = pd.DataFrame(y_pred)\n",
    "    y_test = pd.DataFrame(y_test)\n",
    "\n",
    "    y_pred = y_train.append(y_pred).cumsum().iloc[test_index]\n",
    "    y_test = y_train.append(y_test).cumsum().iloc[test_index]\n",
    "\n",
    "\n",
    "    print('MAE: ', mean_absolute_error(y_test, y_pred))\n",
    "    print('train interval: ' + str(X_train.index[0]) + ' - ' + str(X_train.index[-1]))\n",
    "    print('test interval: ' + str(X_test.index[0]) + ' - ' + str(X_test.index[-1]))\n",
    "    pyplot.title('predictions')\n",
    "    pyplot.plot(y_test,label='real')\n",
    "    pyplot.plot(y_pred,label='predicted')\n",
    "    pyplot.ylabel(column_to_predict)\n",
    "    pyplot.xticks(rotation=30)\n",
    "    pyplot.legend(loc='best')\n",
    "    pyplot.show()\n",
    "    \n"
   ],
   "outputs": [],
   "metadata": {}
  },
  {
   "cell_type": "code",
   "execution_count": null,
   "source": [],
   "outputs": [],
   "metadata": {}
  }
 ],
 "metadata": {
  "kernelspec": {
   "name": "python3",
   "display_name": "Python 3.8.10 64-bit ('tesi': conda)"
  },
  "language_info": {
   "name": "python",
   "version": "3.8.10",
   "mimetype": "text/x-python",
   "codemirror_mode": {
    "name": "ipython",
    "version": 3
   },
   "pygments_lexer": "ipython3",
   "nbconvert_exporter": "python",
   "file_extension": ".py"
  },
  "metadata": {
   "interpreter": {
    "hash": "f85c0ae1067a86ad6a96b144378883e79fd1516474b579ba33ee3a7084540002"
   }
  },
  "interpreter": {
   "hash": "ebe05a08e7821c9f0efb0f0e47fa9ad08db0646dbb3d21d4c6e1262e868220c0"
  }
 },
 "nbformat": 4,
 "nbformat_minor": 4
}